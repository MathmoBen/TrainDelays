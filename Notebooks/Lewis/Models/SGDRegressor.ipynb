{
  "nbformat": 4,
  "nbformat_minor": 0,
  "metadata": {
    "colab": {
      "provenance": [],
      "gpuType": "T4"
    },
    "kernelspec": {
      "name": "python3",
      "display_name": "Python 3"
    },
    "language_info": {
      "name": "python"
    },
    "accelerator": "GPU"
  },
  "cells": [
    {
      "cell_type": "code",
      "execution_count": 19,
      "metadata": {
        "id": "BQP3qldocuuc"
      },
      "outputs": [],
      "source": [
        "import pandas as pd\n",
        "import numpy as np\n",
        "\n",
        "from sklearn.model_selection import train_test_split, cross_validate\n",
        "from sklearn.linear_model import SGDRegressor\n",
        "\n",
        "from preprocess import *"
      ]
    },
    {
      "cell_type": "code",
      "source": [
        "df = pd.read_csv('/content/drive/MyDrive/Le Wagon/Project Data/clean_data.csv')"
      ],
      "metadata": {
        "id": "jjkfuBGjc0bE"
      },
      "execution_count": 2,
      "outputs": []
    },
    {
      "cell_type": "code",
      "source": [
        "df.head()"
      ],
      "metadata": {
        "colab": {
          "base_uri": "https://localhost:8080/",
          "height": 255
        },
        "id": "VJYAfuX3eDj-",
        "outputId": "36197ae6-5e55-4c89-c69e-7cdcc0bc5530"
      },
      "execution_count": 3,
      "outputs": [
        {
          "output_type": "execute_result",
          "data": {
            "text/plain": [
              "   TRAIN_SERVICE_CODE_AFFECTED SERVICE_GROUP_CODE_AFFECTED ENGLISH_DAY_TYPE  \\\n",
              "0                     22214000                        EK01               SA   \n",
              "1                     22214000                        EK01               WD   \n",
              "2                     22214000                        EK01               WD   \n",
              "3                     22214000                        EK01               SA   \n",
              "4                     22214000                        EK01               SA   \n",
              "\n",
              "  APP_TIMETABLE_FLAG_AFF  UNIT_CLASS_AFFECTED INCIDENT_REASON  \\\n",
              "0                      Y                375.0              MD   \n",
              "1                      Y                378.0              MD   \n",
              "2                      Y                378.0              X8   \n",
              "3                      Y                375.0              TG   \n",
              "4                      Y                375.0              TG   \n",
              "\n",
              "  PERFORMANCE_EVENT_CODE  PFPI_MINUTES    Lat_OR   Lon_OR  ...  \\\n",
              "0                      M           9.0  51.54343 -0.02447  ...   \n",
              "1                      M          12.0  51.54343 -0.02447  ...   \n",
              "2                      M           8.0  51.54343 -0.02447  ...   \n",
              "3                      M          10.0  51.54343 -0.02447  ...   \n",
              "4                      M          11.0  51.54343 -0.02447  ...   \n",
              "\n",
              "   ORIG_MINUTE_SIN  ORIG_MINUTE_COS  DEST_MONTH_SIN  DEST_MONTH_COS  \\\n",
              "0        -1.000000    -1.836970e-16        0.951057        0.309017   \n",
              "1        -0.587785    -8.090170e-01        0.951057        0.309017   \n",
              "2         0.978148    -2.079117e-01        0.104528        0.994522   \n",
              "3        -0.309017    -9.510565e-01        0.913545        0.406737   \n",
              "4        -0.669131     7.431448e-01        0.913545        0.406737   \n",
              "\n",
              "   DEST_DAY_SIN  DEST_DAY_COS  DEST_HOUR_SIN  DEST_HOUR_COS  DEST_MINUTE_SIN  \\\n",
              "0  7.431448e-01      0.669131       0.951057       0.309017        -0.978148   \n",
              "1  9.135455e-01     -0.406737       0.866025       0.500000        -0.809017   \n",
              "2  5.665539e-16     -1.000000       0.809017      -0.587785         0.913545   \n",
              "3  5.877853e-01     -0.809017       0.913545      -0.406737        -0.207912   \n",
              "4  5.877853e-01     -0.809017       0.913545      -0.406737        -0.500000   \n",
              "\n",
              "   DEST_MINUTE_COS  \n",
              "0         0.207912  \n",
              "1        -0.587785  \n",
              "2        -0.406737  \n",
              "3        -0.978148  \n",
              "4         0.866025  \n",
              "\n",
              "[5 rows x 28 columns]"
            ],
            "text/html": [
              "\n",
              "  <div id=\"df-2dd69d71-11bd-43fc-a86d-fcd603bad0cc\" class=\"colab-df-container\">\n",
              "    <div>\n",
              "<style scoped>\n",
              "    .dataframe tbody tr th:only-of-type {\n",
              "        vertical-align: middle;\n",
              "    }\n",
              "\n",
              "    .dataframe tbody tr th {\n",
              "        vertical-align: top;\n",
              "    }\n",
              "\n",
              "    .dataframe thead th {\n",
              "        text-align: right;\n",
              "    }\n",
              "</style>\n",
              "<table border=\"1\" class=\"dataframe\">\n",
              "  <thead>\n",
              "    <tr style=\"text-align: right;\">\n",
              "      <th></th>\n",
              "      <th>TRAIN_SERVICE_CODE_AFFECTED</th>\n",
              "      <th>SERVICE_GROUP_CODE_AFFECTED</th>\n",
              "      <th>ENGLISH_DAY_TYPE</th>\n",
              "      <th>APP_TIMETABLE_FLAG_AFF</th>\n",
              "      <th>UNIT_CLASS_AFFECTED</th>\n",
              "      <th>INCIDENT_REASON</th>\n",
              "      <th>PERFORMANCE_EVENT_CODE</th>\n",
              "      <th>PFPI_MINUTES</th>\n",
              "      <th>Lat_OR</th>\n",
              "      <th>Lon_OR</th>\n",
              "      <th>...</th>\n",
              "      <th>ORIG_MINUTE_SIN</th>\n",
              "      <th>ORIG_MINUTE_COS</th>\n",
              "      <th>DEST_MONTH_SIN</th>\n",
              "      <th>DEST_MONTH_COS</th>\n",
              "      <th>DEST_DAY_SIN</th>\n",
              "      <th>DEST_DAY_COS</th>\n",
              "      <th>DEST_HOUR_SIN</th>\n",
              "      <th>DEST_HOUR_COS</th>\n",
              "      <th>DEST_MINUTE_SIN</th>\n",
              "      <th>DEST_MINUTE_COS</th>\n",
              "    </tr>\n",
              "  </thead>\n",
              "  <tbody>\n",
              "    <tr>\n",
              "      <th>0</th>\n",
              "      <td>22214000</td>\n",
              "      <td>EK01</td>\n",
              "      <td>SA</td>\n",
              "      <td>Y</td>\n",
              "      <td>375.0</td>\n",
              "      <td>MD</td>\n",
              "      <td>M</td>\n",
              "      <td>9.0</td>\n",
              "      <td>51.54343</td>\n",
              "      <td>-0.02447</td>\n",
              "      <td>...</td>\n",
              "      <td>-1.000000</td>\n",
              "      <td>-1.836970e-16</td>\n",
              "      <td>0.951057</td>\n",
              "      <td>0.309017</td>\n",
              "      <td>7.431448e-01</td>\n",
              "      <td>0.669131</td>\n",
              "      <td>0.951057</td>\n",
              "      <td>0.309017</td>\n",
              "      <td>-0.978148</td>\n",
              "      <td>0.207912</td>\n",
              "    </tr>\n",
              "    <tr>\n",
              "      <th>1</th>\n",
              "      <td>22214000</td>\n",
              "      <td>EK01</td>\n",
              "      <td>WD</td>\n",
              "      <td>Y</td>\n",
              "      <td>378.0</td>\n",
              "      <td>MD</td>\n",
              "      <td>M</td>\n",
              "      <td>12.0</td>\n",
              "      <td>51.54343</td>\n",
              "      <td>-0.02447</td>\n",
              "      <td>...</td>\n",
              "      <td>-0.587785</td>\n",
              "      <td>-8.090170e-01</td>\n",
              "      <td>0.951057</td>\n",
              "      <td>0.309017</td>\n",
              "      <td>9.135455e-01</td>\n",
              "      <td>-0.406737</td>\n",
              "      <td>0.866025</td>\n",
              "      <td>0.500000</td>\n",
              "      <td>-0.809017</td>\n",
              "      <td>-0.587785</td>\n",
              "    </tr>\n",
              "    <tr>\n",
              "      <th>2</th>\n",
              "      <td>22214000</td>\n",
              "      <td>EK01</td>\n",
              "      <td>WD</td>\n",
              "      <td>Y</td>\n",
              "      <td>378.0</td>\n",
              "      <td>X8</td>\n",
              "      <td>M</td>\n",
              "      <td>8.0</td>\n",
              "      <td>51.54343</td>\n",
              "      <td>-0.02447</td>\n",
              "      <td>...</td>\n",
              "      <td>0.978148</td>\n",
              "      <td>-2.079117e-01</td>\n",
              "      <td>0.104528</td>\n",
              "      <td>0.994522</td>\n",
              "      <td>5.665539e-16</td>\n",
              "      <td>-1.000000</td>\n",
              "      <td>0.809017</td>\n",
              "      <td>-0.587785</td>\n",
              "      <td>0.913545</td>\n",
              "      <td>-0.406737</td>\n",
              "    </tr>\n",
              "    <tr>\n",
              "      <th>3</th>\n",
              "      <td>22214000</td>\n",
              "      <td>EK01</td>\n",
              "      <td>SA</td>\n",
              "      <td>Y</td>\n",
              "      <td>375.0</td>\n",
              "      <td>TG</td>\n",
              "      <td>M</td>\n",
              "      <td>10.0</td>\n",
              "      <td>51.54343</td>\n",
              "      <td>-0.02447</td>\n",
              "      <td>...</td>\n",
              "      <td>-0.309017</td>\n",
              "      <td>-9.510565e-01</td>\n",
              "      <td>0.913545</td>\n",
              "      <td>0.406737</td>\n",
              "      <td>5.877853e-01</td>\n",
              "      <td>-0.809017</td>\n",
              "      <td>0.913545</td>\n",
              "      <td>-0.406737</td>\n",
              "      <td>-0.207912</td>\n",
              "      <td>-0.978148</td>\n",
              "    </tr>\n",
              "    <tr>\n",
              "      <th>4</th>\n",
              "      <td>22214000</td>\n",
              "      <td>EK01</td>\n",
              "      <td>SA</td>\n",
              "      <td>Y</td>\n",
              "      <td>375.0</td>\n",
              "      <td>TG</td>\n",
              "      <td>M</td>\n",
              "      <td>11.0</td>\n",
              "      <td>51.54343</td>\n",
              "      <td>-0.02447</td>\n",
              "      <td>...</td>\n",
              "      <td>-0.669131</td>\n",
              "      <td>7.431448e-01</td>\n",
              "      <td>0.913545</td>\n",
              "      <td>0.406737</td>\n",
              "      <td>5.877853e-01</td>\n",
              "      <td>-0.809017</td>\n",
              "      <td>0.913545</td>\n",
              "      <td>-0.406737</td>\n",
              "      <td>-0.500000</td>\n",
              "      <td>0.866025</td>\n",
              "    </tr>\n",
              "  </tbody>\n",
              "</table>\n",
              "<p>5 rows × 28 columns</p>\n",
              "</div>\n",
              "    <div class=\"colab-df-buttons\">\n",
              "\n",
              "  <div class=\"colab-df-container\">\n",
              "    <button class=\"colab-df-convert\" onclick=\"convertToInteractive('df-2dd69d71-11bd-43fc-a86d-fcd603bad0cc')\"\n",
              "            title=\"Convert this dataframe to an interactive table.\"\n",
              "            style=\"display:none;\">\n",
              "\n",
              "  <svg xmlns=\"http://www.w3.org/2000/svg\" height=\"24px\" viewBox=\"0 -960 960 960\">\n",
              "    <path d=\"M120-120v-720h720v720H120Zm60-500h600v-160H180v160Zm220 220h160v-160H400v160Zm0 220h160v-160H400v160ZM180-400h160v-160H180v160Zm440 0h160v-160H620v160ZM180-180h160v-160H180v160Zm440 0h160v-160H620v160Z\"/>\n",
              "  </svg>\n",
              "    </button>\n",
              "\n",
              "  <style>\n",
              "    .colab-df-container {\n",
              "      display:flex;\n",
              "      gap: 12px;\n",
              "    }\n",
              "\n",
              "    .colab-df-convert {\n",
              "      background-color: #E8F0FE;\n",
              "      border: none;\n",
              "      border-radius: 50%;\n",
              "      cursor: pointer;\n",
              "      display: none;\n",
              "      fill: #1967D2;\n",
              "      height: 32px;\n",
              "      padding: 0 0 0 0;\n",
              "      width: 32px;\n",
              "    }\n",
              "\n",
              "    .colab-df-convert:hover {\n",
              "      background-color: #E2EBFA;\n",
              "      box-shadow: 0px 1px 2px rgba(60, 64, 67, 0.3), 0px 1px 3px 1px rgba(60, 64, 67, 0.15);\n",
              "      fill: #174EA6;\n",
              "    }\n",
              "\n",
              "    .colab-df-buttons div {\n",
              "      margin-bottom: 4px;\n",
              "    }\n",
              "\n",
              "    [theme=dark] .colab-df-convert {\n",
              "      background-color: #3B4455;\n",
              "      fill: #D2E3FC;\n",
              "    }\n",
              "\n",
              "    [theme=dark] .colab-df-convert:hover {\n",
              "      background-color: #434B5C;\n",
              "      box-shadow: 0px 1px 3px 1px rgba(0, 0, 0, 0.15);\n",
              "      filter: drop-shadow(0px 1px 2px rgba(0, 0, 0, 0.3));\n",
              "      fill: #FFFFFF;\n",
              "    }\n",
              "  </style>\n",
              "\n",
              "    <script>\n",
              "      const buttonEl =\n",
              "        document.querySelector('#df-2dd69d71-11bd-43fc-a86d-fcd603bad0cc button.colab-df-convert');\n",
              "      buttonEl.style.display =\n",
              "        google.colab.kernel.accessAllowed ? 'block' : 'none';\n",
              "\n",
              "      async function convertToInteractive(key) {\n",
              "        const element = document.querySelector('#df-2dd69d71-11bd-43fc-a86d-fcd603bad0cc');\n",
              "        const dataTable =\n",
              "          await google.colab.kernel.invokeFunction('convertToInteractive',\n",
              "                                                    [key], {});\n",
              "        if (!dataTable) return;\n",
              "\n",
              "        const docLinkHtml = 'Like what you see? Visit the ' +\n",
              "          '<a target=\"_blank\" href=https://colab.research.google.com/notebooks/data_table.ipynb>data table notebook</a>'\n",
              "          + ' to learn more about interactive tables.';\n",
              "        element.innerHTML = '';\n",
              "        dataTable['output_type'] = 'display_data';\n",
              "        await google.colab.output.renderOutput(dataTable, element);\n",
              "        const docLink = document.createElement('div');\n",
              "        docLink.innerHTML = docLinkHtml;\n",
              "        element.appendChild(docLink);\n",
              "      }\n",
              "    </script>\n",
              "  </div>\n",
              "\n",
              "\n",
              "<div id=\"df-bc2ee657-1afe-49a7-9a24-116b9e09b749\">\n",
              "  <button class=\"colab-df-quickchart\" onclick=\"quickchart('df-bc2ee657-1afe-49a7-9a24-116b9e09b749')\"\n",
              "            title=\"Suggest charts\"\n",
              "            style=\"display:none;\">\n",
              "\n",
              "<svg xmlns=\"http://www.w3.org/2000/svg\" height=\"24px\"viewBox=\"0 0 24 24\"\n",
              "     width=\"24px\">\n",
              "    <g>\n",
              "        <path d=\"M19 3H5c-1.1 0-2 .9-2 2v14c0 1.1.9 2 2 2h14c1.1 0 2-.9 2-2V5c0-1.1-.9-2-2-2zM9 17H7v-7h2v7zm4 0h-2V7h2v10zm4 0h-2v-4h2v4z\"/>\n",
              "    </g>\n",
              "</svg>\n",
              "  </button>\n",
              "\n",
              "<style>\n",
              "  .colab-df-quickchart {\n",
              "      --bg-color: #E8F0FE;\n",
              "      --fill-color: #1967D2;\n",
              "      --hover-bg-color: #E2EBFA;\n",
              "      --hover-fill-color: #174EA6;\n",
              "      --disabled-fill-color: #AAA;\n",
              "      --disabled-bg-color: #DDD;\n",
              "  }\n",
              "\n",
              "  [theme=dark] .colab-df-quickchart {\n",
              "      --bg-color: #3B4455;\n",
              "      --fill-color: #D2E3FC;\n",
              "      --hover-bg-color: #434B5C;\n",
              "      --hover-fill-color: #FFFFFF;\n",
              "      --disabled-bg-color: #3B4455;\n",
              "      --disabled-fill-color: #666;\n",
              "  }\n",
              "\n",
              "  .colab-df-quickchart {\n",
              "    background-color: var(--bg-color);\n",
              "    border: none;\n",
              "    border-radius: 50%;\n",
              "    cursor: pointer;\n",
              "    display: none;\n",
              "    fill: var(--fill-color);\n",
              "    height: 32px;\n",
              "    padding: 0;\n",
              "    width: 32px;\n",
              "  }\n",
              "\n",
              "  .colab-df-quickchart:hover {\n",
              "    background-color: var(--hover-bg-color);\n",
              "    box-shadow: 0 1px 2px rgba(60, 64, 67, 0.3), 0 1px 3px 1px rgba(60, 64, 67, 0.15);\n",
              "    fill: var(--button-hover-fill-color);\n",
              "  }\n",
              "\n",
              "  .colab-df-quickchart-complete:disabled,\n",
              "  .colab-df-quickchart-complete:disabled:hover {\n",
              "    background-color: var(--disabled-bg-color);\n",
              "    fill: var(--disabled-fill-color);\n",
              "    box-shadow: none;\n",
              "  }\n",
              "\n",
              "  .colab-df-spinner {\n",
              "    border: 2px solid var(--fill-color);\n",
              "    border-color: transparent;\n",
              "    border-bottom-color: var(--fill-color);\n",
              "    animation:\n",
              "      spin 1s steps(1) infinite;\n",
              "  }\n",
              "\n",
              "  @keyframes spin {\n",
              "    0% {\n",
              "      border-color: transparent;\n",
              "      border-bottom-color: var(--fill-color);\n",
              "      border-left-color: var(--fill-color);\n",
              "    }\n",
              "    20% {\n",
              "      border-color: transparent;\n",
              "      border-left-color: var(--fill-color);\n",
              "      border-top-color: var(--fill-color);\n",
              "    }\n",
              "    30% {\n",
              "      border-color: transparent;\n",
              "      border-left-color: var(--fill-color);\n",
              "      border-top-color: var(--fill-color);\n",
              "      border-right-color: var(--fill-color);\n",
              "    }\n",
              "    40% {\n",
              "      border-color: transparent;\n",
              "      border-right-color: var(--fill-color);\n",
              "      border-top-color: var(--fill-color);\n",
              "    }\n",
              "    60% {\n",
              "      border-color: transparent;\n",
              "      border-right-color: var(--fill-color);\n",
              "    }\n",
              "    80% {\n",
              "      border-color: transparent;\n",
              "      border-right-color: var(--fill-color);\n",
              "      border-bottom-color: var(--fill-color);\n",
              "    }\n",
              "    90% {\n",
              "      border-color: transparent;\n",
              "      border-bottom-color: var(--fill-color);\n",
              "    }\n",
              "  }\n",
              "</style>\n",
              "\n",
              "  <script>\n",
              "    async function quickchart(key) {\n",
              "      const quickchartButtonEl =\n",
              "        document.querySelector('#' + key + ' button');\n",
              "      quickchartButtonEl.disabled = true;  // To prevent multiple clicks.\n",
              "      quickchartButtonEl.classList.add('colab-df-spinner');\n",
              "      try {\n",
              "        const charts = await google.colab.kernel.invokeFunction(\n",
              "            'suggestCharts', [key], {});\n",
              "      } catch (error) {\n",
              "        console.error('Error during call to suggestCharts:', error);\n",
              "      }\n",
              "      quickchartButtonEl.classList.remove('colab-df-spinner');\n",
              "      quickchartButtonEl.classList.add('colab-df-quickchart-complete');\n",
              "    }\n",
              "    (() => {\n",
              "      let quickchartButtonEl =\n",
              "        document.querySelector('#df-bc2ee657-1afe-49a7-9a24-116b9e09b749 button');\n",
              "      quickchartButtonEl.style.display =\n",
              "        google.colab.kernel.accessAllowed ? 'block' : 'none';\n",
              "    })();\n",
              "  </script>\n",
              "</div>\n",
              "    </div>\n",
              "  </div>\n"
            ]
          },
          "metadata": {},
          "execution_count": 3
        }
      ]
    },
    {
      "cell_type": "code",
      "source": [
        "pipe = preprocessing_pipe()"
      ],
      "metadata": {
        "id": "i2DXahFHeEXp"
      },
      "execution_count": 4,
      "outputs": []
    },
    {
      "cell_type": "code",
      "source": [
        "X = df.drop(columns=['PFPI_MINUTES'])\n",
        "y = df['PFPI_MINUTES']"
      ],
      "metadata": {
        "id": "RKXar6WdeOT5"
      },
      "execution_count": 5,
      "outputs": []
    },
    {
      "cell_type": "code",
      "source": [
        "X_train, X_test, y_train, y_test = train_test_split(X, y, test_size=0.3, random_state=42)"
      ],
      "metadata": {
        "id": "aHgcJyyTeqSu"
      },
      "execution_count": 6,
      "outputs": []
    },
    {
      "cell_type": "code",
      "source": [
        "pipe.fit(X_train)"
      ],
      "metadata": {
        "colab": {
          "base_uri": "https://localhost:8080/",
          "height": 156
        },
        "id": "XaZm7DW9et4a",
        "outputId": "69a2523e-c301-4c9d-dc6e-5186d9be85c5"
      },
      "execution_count": 7,
      "outputs": [
        {
          "output_type": "execute_result",
          "data": {
            "text/plain": [
              "Pipeline(steps=[('transformer',\n",
              "                 ColumnTransformer(remainder='passthrough',\n",
              "                                   transformers=[('minmaxscaler',\n",
              "                                                  MinMaxScaler(),\n",
              "                                                  ['Lat_OR', 'Lon_OR',\n",
              "                                                   'Lat_DES', 'Lon_DES']),\n",
              "                                                 ('onehotencoder',\n",
              "                                                  OneHotEncoder(handle_unknown='ignore',\n",
              "                                                                sparse_output=False),\n",
              "                                                  ['ENGLISH_DAY_TYPE',\n",
              "                                                   'SERVICE_GROUP_CODE_AFFECTED',\n",
              "                                                   'INCIDENT_REASON',\n",
              "                                                   'UNIT_CLASS_AFFECTED',\n",
              "                                                   'TRAIN_SERVICE_CODE_AFFECTED',\n",
              "                                                   'PERFORMANCE_EVENT_CODE',\n",
              "                                                   'APP_TIMETABLE_FLAG_AFF'])]))])"
            ],
            "text/html": [
              "<style>#sk-container-id-1 {color: black;background-color: white;}#sk-container-id-1 pre{padding: 0;}#sk-container-id-1 div.sk-toggleable {background-color: white;}#sk-container-id-1 label.sk-toggleable__label {cursor: pointer;display: block;width: 100%;margin-bottom: 0;padding: 0.3em;box-sizing: border-box;text-align: center;}#sk-container-id-1 label.sk-toggleable__label-arrow:before {content: \"▸\";float: left;margin-right: 0.25em;color: #696969;}#sk-container-id-1 label.sk-toggleable__label-arrow:hover:before {color: black;}#sk-container-id-1 div.sk-estimator:hover label.sk-toggleable__label-arrow:before {color: black;}#sk-container-id-1 div.sk-toggleable__content {max-height: 0;max-width: 0;overflow: hidden;text-align: left;background-color: #f0f8ff;}#sk-container-id-1 div.sk-toggleable__content pre {margin: 0.2em;color: black;border-radius: 0.25em;background-color: #f0f8ff;}#sk-container-id-1 input.sk-toggleable__control:checked~div.sk-toggleable__content {max-height: 200px;max-width: 100%;overflow: auto;}#sk-container-id-1 input.sk-toggleable__control:checked~label.sk-toggleable__label-arrow:before {content: \"▾\";}#sk-container-id-1 div.sk-estimator input.sk-toggleable__control:checked~label.sk-toggleable__label {background-color: #d4ebff;}#sk-container-id-1 div.sk-label input.sk-toggleable__control:checked~label.sk-toggleable__label {background-color: #d4ebff;}#sk-container-id-1 input.sk-hidden--visually {border: 0;clip: rect(1px 1px 1px 1px);clip: rect(1px, 1px, 1px, 1px);height: 1px;margin: -1px;overflow: hidden;padding: 0;position: absolute;width: 1px;}#sk-container-id-1 div.sk-estimator {font-family: monospace;background-color: #f0f8ff;border: 1px dotted black;border-radius: 0.25em;box-sizing: border-box;margin-bottom: 0.5em;}#sk-container-id-1 div.sk-estimator:hover {background-color: #d4ebff;}#sk-container-id-1 div.sk-parallel-item::after {content: \"\";width: 100%;border-bottom: 1px solid gray;flex-grow: 1;}#sk-container-id-1 div.sk-label:hover label.sk-toggleable__label {background-color: #d4ebff;}#sk-container-id-1 div.sk-serial::before {content: \"\";position: absolute;border-left: 1px solid gray;box-sizing: border-box;top: 0;bottom: 0;left: 50%;z-index: 0;}#sk-container-id-1 div.sk-serial {display: flex;flex-direction: column;align-items: center;background-color: white;padding-right: 0.2em;padding-left: 0.2em;position: relative;}#sk-container-id-1 div.sk-item {position: relative;z-index: 1;}#sk-container-id-1 div.sk-parallel {display: flex;align-items: stretch;justify-content: center;background-color: white;position: relative;}#sk-container-id-1 div.sk-item::before, #sk-container-id-1 div.sk-parallel-item::before {content: \"\";position: absolute;border-left: 1px solid gray;box-sizing: border-box;top: 0;bottom: 0;left: 50%;z-index: -1;}#sk-container-id-1 div.sk-parallel-item {display: flex;flex-direction: column;z-index: 1;position: relative;background-color: white;}#sk-container-id-1 div.sk-parallel-item:first-child::after {align-self: flex-end;width: 50%;}#sk-container-id-1 div.sk-parallel-item:last-child::after {align-self: flex-start;width: 50%;}#sk-container-id-1 div.sk-parallel-item:only-child::after {width: 0;}#sk-container-id-1 div.sk-dashed-wrapped {border: 1px dashed gray;margin: 0 0.4em 0.5em 0.4em;box-sizing: border-box;padding-bottom: 0.4em;background-color: white;}#sk-container-id-1 div.sk-label label {font-family: monospace;font-weight: bold;display: inline-block;line-height: 1.2em;}#sk-container-id-1 div.sk-label-container {text-align: center;}#sk-container-id-1 div.sk-container {/* jupyter's `normalize.less` sets `[hidden] { display: none; }` but bootstrap.min.css set `[hidden] { display: none !important; }` so we also need the `!important` here to be able to override the default hidden behavior on the sphinx rendered scikit-learn.org. See: https://github.com/scikit-learn/scikit-learn/issues/21755 */display: inline-block !important;position: relative;}#sk-container-id-1 div.sk-text-repr-fallback {display: none;}</style><div id=\"sk-container-id-1\" class=\"sk-top-container\"><div class=\"sk-text-repr-fallback\"><pre>Pipeline(steps=[(&#x27;transformer&#x27;,\n",
              "                 ColumnTransformer(remainder=&#x27;passthrough&#x27;,\n",
              "                                   transformers=[(&#x27;minmaxscaler&#x27;,\n",
              "                                                  MinMaxScaler(),\n",
              "                                                  [&#x27;Lat_OR&#x27;, &#x27;Lon_OR&#x27;,\n",
              "                                                   &#x27;Lat_DES&#x27;, &#x27;Lon_DES&#x27;]),\n",
              "                                                 (&#x27;onehotencoder&#x27;,\n",
              "                                                  OneHotEncoder(handle_unknown=&#x27;ignore&#x27;,\n",
              "                                                                sparse_output=False),\n",
              "                                                  [&#x27;ENGLISH_DAY_TYPE&#x27;,\n",
              "                                                   &#x27;SERVICE_GROUP_CODE_AFFECTED&#x27;,\n",
              "                                                   &#x27;INCIDENT_REASON&#x27;,\n",
              "                                                   &#x27;UNIT_CLASS_AFFECTED&#x27;,\n",
              "                                                   &#x27;TRAIN_SERVICE_CODE_AFFECTED&#x27;,\n",
              "                                                   &#x27;PERFORMANCE_EVENT_CODE&#x27;,\n",
              "                                                   &#x27;APP_TIMETABLE_FLAG_AFF&#x27;])]))])</pre><b>In a Jupyter environment, please rerun this cell to show the HTML representation or trust the notebook. <br />On GitHub, the HTML representation is unable to render, please try loading this page with nbviewer.org.</b></div><div class=\"sk-container\" hidden><div class=\"sk-item sk-dashed-wrapped\"><div class=\"sk-label-container\"><div class=\"sk-label sk-toggleable\"><input class=\"sk-toggleable__control sk-hidden--visually\" id=\"sk-estimator-id-1\" type=\"checkbox\" ><label for=\"sk-estimator-id-1\" class=\"sk-toggleable__label sk-toggleable__label-arrow\">Pipeline</label><div class=\"sk-toggleable__content\"><pre>Pipeline(steps=[(&#x27;transformer&#x27;,\n",
              "                 ColumnTransformer(remainder=&#x27;passthrough&#x27;,\n",
              "                                   transformers=[(&#x27;minmaxscaler&#x27;,\n",
              "                                                  MinMaxScaler(),\n",
              "                                                  [&#x27;Lat_OR&#x27;, &#x27;Lon_OR&#x27;,\n",
              "                                                   &#x27;Lat_DES&#x27;, &#x27;Lon_DES&#x27;]),\n",
              "                                                 (&#x27;onehotencoder&#x27;,\n",
              "                                                  OneHotEncoder(handle_unknown=&#x27;ignore&#x27;,\n",
              "                                                                sparse_output=False),\n",
              "                                                  [&#x27;ENGLISH_DAY_TYPE&#x27;,\n",
              "                                                   &#x27;SERVICE_GROUP_CODE_AFFECTED&#x27;,\n",
              "                                                   &#x27;INCIDENT_REASON&#x27;,\n",
              "                                                   &#x27;UNIT_CLASS_AFFECTED&#x27;,\n",
              "                                                   &#x27;TRAIN_SERVICE_CODE_AFFECTED&#x27;,\n",
              "                                                   &#x27;PERFORMANCE_EVENT_CODE&#x27;,\n",
              "                                                   &#x27;APP_TIMETABLE_FLAG_AFF&#x27;])]))])</pre></div></div></div><div class=\"sk-serial\"><div class=\"sk-item sk-dashed-wrapped\"><div class=\"sk-label-container\"><div class=\"sk-label sk-toggleable\"><input class=\"sk-toggleable__control sk-hidden--visually\" id=\"sk-estimator-id-2\" type=\"checkbox\" ><label for=\"sk-estimator-id-2\" class=\"sk-toggleable__label sk-toggleable__label-arrow\">transformer: ColumnTransformer</label><div class=\"sk-toggleable__content\"><pre>ColumnTransformer(remainder=&#x27;passthrough&#x27;,\n",
              "                  transformers=[(&#x27;minmaxscaler&#x27;, MinMaxScaler(),\n",
              "                                 [&#x27;Lat_OR&#x27;, &#x27;Lon_OR&#x27;, &#x27;Lat_DES&#x27;, &#x27;Lon_DES&#x27;]),\n",
              "                                (&#x27;onehotencoder&#x27;,\n",
              "                                 OneHotEncoder(handle_unknown=&#x27;ignore&#x27;,\n",
              "                                               sparse_output=False),\n",
              "                                 [&#x27;ENGLISH_DAY_TYPE&#x27;,\n",
              "                                  &#x27;SERVICE_GROUP_CODE_AFFECTED&#x27;,\n",
              "                                  &#x27;INCIDENT_REASON&#x27;, &#x27;UNIT_CLASS_AFFECTED&#x27;,\n",
              "                                  &#x27;TRAIN_SERVICE_CODE_AFFECTED&#x27;,\n",
              "                                  &#x27;PERFORMANCE_EVENT_CODE&#x27;,\n",
              "                                  &#x27;APP_TIMETABLE_FLAG_AFF&#x27;])])</pre></div></div></div><div class=\"sk-parallel\"><div class=\"sk-parallel-item\"><div class=\"sk-item\"><div class=\"sk-label-container\"><div class=\"sk-label sk-toggleable\"><input class=\"sk-toggleable__control sk-hidden--visually\" id=\"sk-estimator-id-3\" type=\"checkbox\" ><label for=\"sk-estimator-id-3\" class=\"sk-toggleable__label sk-toggleable__label-arrow\">minmaxscaler</label><div class=\"sk-toggleable__content\"><pre>[&#x27;Lat_OR&#x27;, &#x27;Lon_OR&#x27;, &#x27;Lat_DES&#x27;, &#x27;Lon_DES&#x27;]</pre></div></div></div><div class=\"sk-serial\"><div class=\"sk-item\"><div class=\"sk-estimator sk-toggleable\"><input class=\"sk-toggleable__control sk-hidden--visually\" id=\"sk-estimator-id-4\" type=\"checkbox\" ><label for=\"sk-estimator-id-4\" class=\"sk-toggleable__label sk-toggleable__label-arrow\">MinMaxScaler</label><div class=\"sk-toggleable__content\"><pre>MinMaxScaler()</pre></div></div></div></div></div></div><div class=\"sk-parallel-item\"><div class=\"sk-item\"><div class=\"sk-label-container\"><div class=\"sk-label sk-toggleable\"><input class=\"sk-toggleable__control sk-hidden--visually\" id=\"sk-estimator-id-5\" type=\"checkbox\" ><label for=\"sk-estimator-id-5\" class=\"sk-toggleable__label sk-toggleable__label-arrow\">onehotencoder</label><div class=\"sk-toggleable__content\"><pre>[&#x27;ENGLISH_DAY_TYPE&#x27;, &#x27;SERVICE_GROUP_CODE_AFFECTED&#x27;, &#x27;INCIDENT_REASON&#x27;, &#x27;UNIT_CLASS_AFFECTED&#x27;, &#x27;TRAIN_SERVICE_CODE_AFFECTED&#x27;, &#x27;PERFORMANCE_EVENT_CODE&#x27;, &#x27;APP_TIMETABLE_FLAG_AFF&#x27;]</pre></div></div></div><div class=\"sk-serial\"><div class=\"sk-item\"><div class=\"sk-estimator sk-toggleable\"><input class=\"sk-toggleable__control sk-hidden--visually\" id=\"sk-estimator-id-6\" type=\"checkbox\" ><label for=\"sk-estimator-id-6\" class=\"sk-toggleable__label sk-toggleable__label-arrow\">OneHotEncoder</label><div class=\"sk-toggleable__content\"><pre>OneHotEncoder(handle_unknown=&#x27;ignore&#x27;, sparse_output=False)</pre></div></div></div></div></div></div><div class=\"sk-parallel-item\"><div class=\"sk-item\"><div class=\"sk-label-container\"><div class=\"sk-label sk-toggleable\"><input class=\"sk-toggleable__control sk-hidden--visually\" id=\"sk-estimator-id-7\" type=\"checkbox\" ><label for=\"sk-estimator-id-7\" class=\"sk-toggleable__label sk-toggleable__label-arrow\">remainder</label><div class=\"sk-toggleable__content\"><pre>[&#x27;ORIG_MONTH_SIN&#x27;, &#x27;ORIG_MONTH_COS&#x27;, &#x27;ORIG_DAY_SIN&#x27;, &#x27;ORIG_DAY_COS&#x27;, &#x27;ORIG_HOUR_SIN&#x27;, &#x27;ORIG_HOUR_COS&#x27;, &#x27;ORIG_MINUTE_SIN&#x27;, &#x27;ORIG_MINUTE_COS&#x27;, &#x27;DEST_MONTH_SIN&#x27;, &#x27;DEST_MONTH_COS&#x27;, &#x27;DEST_DAY_SIN&#x27;, &#x27;DEST_DAY_COS&#x27;, &#x27;DEST_HOUR_SIN&#x27;, &#x27;DEST_HOUR_COS&#x27;, &#x27;DEST_MINUTE_SIN&#x27;, &#x27;DEST_MINUTE_COS&#x27;]</pre></div></div></div><div class=\"sk-serial\"><div class=\"sk-item\"><div class=\"sk-estimator sk-toggleable\"><input class=\"sk-toggleable__control sk-hidden--visually\" id=\"sk-estimator-id-8\" type=\"checkbox\" ><label for=\"sk-estimator-id-8\" class=\"sk-toggleable__label sk-toggleable__label-arrow\">passthrough</label><div class=\"sk-toggleable__content\"><pre>passthrough</pre></div></div></div></div></div></div></div></div></div></div></div></div>"
            ]
          },
          "metadata": {},
          "execution_count": 7
        }
      ]
    },
    {
      "cell_type": "code",
      "source": [
        "X_train_processed = pipe.transform(X_train)\n",
        "X_test_processed = pipe.transform(X_test)"
      ],
      "metadata": {
        "id": "JTPZ2P_ke6K6"
      },
      "execution_count": 8,
      "outputs": []
    },
    {
      "cell_type": "code",
      "source": [
        "model = SGDRegressor(loss='squared_error', learning_rate='optimal', alpha=0.001, max_iter=1000)"
      ],
      "metadata": {
        "id": "fBCNbHz2fFuJ"
      },
      "execution_count": 14,
      "outputs": []
    },
    {
      "cell_type": "code",
      "source": [
        "model.fit(X_train_processed, y_train)"
      ],
      "metadata": {
        "colab": {
          "base_uri": "https://localhost:8080/",
          "height": 129
        },
        "id": "fEbXqy13fOnN",
        "outputId": "45f5dd59-ee76-4612-c57c-3e198069f70d"
      },
      "execution_count": 17,
      "outputs": [
        {
          "output_type": "stream",
          "name": "stderr",
          "text": [
            "/usr/local/lib/python3.10/dist-packages/sklearn/linear_model/_stochastic_gradient.py:1548: ConvergenceWarning: Maximum number of iteration reached before convergence. Consider increasing max_iter to improve the fit.\n",
            "  warnings.warn(\n"
          ]
        },
        {
          "output_type": "execute_result",
          "data": {
            "text/plain": [
              "SGDRegressor(alpha=0.001, learning_rate='optimal')"
            ],
            "text/html": [
              "<style>#sk-container-id-2 {color: black;background-color: white;}#sk-container-id-2 pre{padding: 0;}#sk-container-id-2 div.sk-toggleable {background-color: white;}#sk-container-id-2 label.sk-toggleable__label {cursor: pointer;display: block;width: 100%;margin-bottom: 0;padding: 0.3em;box-sizing: border-box;text-align: center;}#sk-container-id-2 label.sk-toggleable__label-arrow:before {content: \"▸\";float: left;margin-right: 0.25em;color: #696969;}#sk-container-id-2 label.sk-toggleable__label-arrow:hover:before {color: black;}#sk-container-id-2 div.sk-estimator:hover label.sk-toggleable__label-arrow:before {color: black;}#sk-container-id-2 div.sk-toggleable__content {max-height: 0;max-width: 0;overflow: hidden;text-align: left;background-color: #f0f8ff;}#sk-container-id-2 div.sk-toggleable__content pre {margin: 0.2em;color: black;border-radius: 0.25em;background-color: #f0f8ff;}#sk-container-id-2 input.sk-toggleable__control:checked~div.sk-toggleable__content {max-height: 200px;max-width: 100%;overflow: auto;}#sk-container-id-2 input.sk-toggleable__control:checked~label.sk-toggleable__label-arrow:before {content: \"▾\";}#sk-container-id-2 div.sk-estimator input.sk-toggleable__control:checked~label.sk-toggleable__label {background-color: #d4ebff;}#sk-container-id-2 div.sk-label input.sk-toggleable__control:checked~label.sk-toggleable__label {background-color: #d4ebff;}#sk-container-id-2 input.sk-hidden--visually {border: 0;clip: rect(1px 1px 1px 1px);clip: rect(1px, 1px, 1px, 1px);height: 1px;margin: -1px;overflow: hidden;padding: 0;position: absolute;width: 1px;}#sk-container-id-2 div.sk-estimator {font-family: monospace;background-color: #f0f8ff;border: 1px dotted black;border-radius: 0.25em;box-sizing: border-box;margin-bottom: 0.5em;}#sk-container-id-2 div.sk-estimator:hover {background-color: #d4ebff;}#sk-container-id-2 div.sk-parallel-item::after {content: \"\";width: 100%;border-bottom: 1px solid gray;flex-grow: 1;}#sk-container-id-2 div.sk-label:hover label.sk-toggleable__label {background-color: #d4ebff;}#sk-container-id-2 div.sk-serial::before {content: \"\";position: absolute;border-left: 1px solid gray;box-sizing: border-box;top: 0;bottom: 0;left: 50%;z-index: 0;}#sk-container-id-2 div.sk-serial {display: flex;flex-direction: column;align-items: center;background-color: white;padding-right: 0.2em;padding-left: 0.2em;position: relative;}#sk-container-id-2 div.sk-item {position: relative;z-index: 1;}#sk-container-id-2 div.sk-parallel {display: flex;align-items: stretch;justify-content: center;background-color: white;position: relative;}#sk-container-id-2 div.sk-item::before, #sk-container-id-2 div.sk-parallel-item::before {content: \"\";position: absolute;border-left: 1px solid gray;box-sizing: border-box;top: 0;bottom: 0;left: 50%;z-index: -1;}#sk-container-id-2 div.sk-parallel-item {display: flex;flex-direction: column;z-index: 1;position: relative;background-color: white;}#sk-container-id-2 div.sk-parallel-item:first-child::after {align-self: flex-end;width: 50%;}#sk-container-id-2 div.sk-parallel-item:last-child::after {align-self: flex-start;width: 50%;}#sk-container-id-2 div.sk-parallel-item:only-child::after {width: 0;}#sk-container-id-2 div.sk-dashed-wrapped {border: 1px dashed gray;margin: 0 0.4em 0.5em 0.4em;box-sizing: border-box;padding-bottom: 0.4em;background-color: white;}#sk-container-id-2 div.sk-label label {font-family: monospace;font-weight: bold;display: inline-block;line-height: 1.2em;}#sk-container-id-2 div.sk-label-container {text-align: center;}#sk-container-id-2 div.sk-container {/* jupyter's `normalize.less` sets `[hidden] { display: none; }` but bootstrap.min.css set `[hidden] { display: none !important; }` so we also need the `!important` here to be able to override the default hidden behavior on the sphinx rendered scikit-learn.org. See: https://github.com/scikit-learn/scikit-learn/issues/21755 */display: inline-block !important;position: relative;}#sk-container-id-2 div.sk-text-repr-fallback {display: none;}</style><div id=\"sk-container-id-2\" class=\"sk-top-container\"><div class=\"sk-text-repr-fallback\"><pre>SGDRegressor(alpha=0.001, learning_rate=&#x27;optimal&#x27;)</pre><b>In a Jupyter environment, please rerun this cell to show the HTML representation or trust the notebook. <br />On GitHub, the HTML representation is unable to render, please try loading this page with nbviewer.org.</b></div><div class=\"sk-container\" hidden><div class=\"sk-item\"><div class=\"sk-estimator sk-toggleable\"><input class=\"sk-toggleable__control sk-hidden--visually\" id=\"sk-estimator-id-9\" type=\"checkbox\" checked><label for=\"sk-estimator-id-9\" class=\"sk-toggleable__label sk-toggleable__label-arrow\">SGDRegressor</label><div class=\"sk-toggleable__content\"><pre>SGDRegressor(alpha=0.001, learning_rate=&#x27;optimal&#x27;)</pre></div></div></div></div></div>"
            ]
          },
          "metadata": {},
          "execution_count": 17
        }
      ]
    },
    {
      "cell_type": "code",
      "source": [
        "cv_results = cross_validate(model, X_train_processed, y_train, cv=5, scoring='neg_mean_absolute_error', verbose=1, n_jobs=4)"
      ],
      "metadata": {
        "colab": {
          "base_uri": "https://localhost:8080/"
        },
        "id": "GSwlfw4Vjc5N",
        "outputId": "d059fcfb-dad1-4d5b-d85b-d4b24b4a412b"
      },
      "execution_count": 26,
      "outputs": [
        {
          "output_type": "stream",
          "name": "stderr",
          "text": [
            "[Parallel(n_jobs=4)]: Using backend LokyBackend with 4 concurrent workers.\n",
            "[Parallel(n_jobs=4)]: Done   5 out of   5 | elapsed: 25.2min finished\n"
          ]
        }
      ]
    },
    {
      "cell_type": "code",
      "source": [
        "cv_results"
      ],
      "metadata": {
        "colab": {
          "base_uri": "https://localhost:8080/"
        },
        "id": "7wRsR6hMmCow",
        "outputId": "c16ee96c-44b9-482e-fefb-ee5381126ba4"
      },
      "execution_count": 29,
      "outputs": [
        {
          "output_type": "execute_result",
          "data": {
            "text/plain": [
              "{'fit_time': array([1135.07577062, 1137.9203887 , 1133.94998837, 1137.58496666,\n",
              "         374.22410941]),\n",
              " 'score_time': array([0.10763788, 0.0392127 , 0.08862901, 0.03964949, 0.03295684]),\n",
              " 'test_score': array([-4.66250395e+07, -1.90101415e+08, -4.49742551e+07, -9.56794718e+07,\n",
              "        -2.63984481e+08])}"
            ]
          },
          "metadata": {},
          "execution_count": 29
        }
      ]
    },
    {
      "cell_type": "code",
      "source": [
        "y_pred = model.predict(X_test_processed)"
      ],
      "metadata": {
        "id": "PNNi9_38mq9_"
      },
      "execution_count": 34,
      "outputs": []
    },
    {
      "cell_type": "code",
      "source": [
        "model.score(X_train_processed, y_train)"
      ],
      "metadata": {
        "colab": {
          "base_uri": "https://localhost:8080/"
        },
        "id": "0gAUvB5NuD9O",
        "outputId": "17f4d218-4427-4da3-cbbd-4787edfebc37"
      },
      "execution_count": 35,
      "outputs": [
        {
          "output_type": "execute_result",
          "data": {
            "text/plain": [
              "-101731383787400.2"
            ]
          },
          "metadata": {},
          "execution_count": 35
        }
      ]
    },
    {
      "cell_type": "code",
      "source": [],
      "metadata": {
        "id": "2hg-kP82ue5M"
      },
      "execution_count": null,
      "outputs": []
    }
  ]
}