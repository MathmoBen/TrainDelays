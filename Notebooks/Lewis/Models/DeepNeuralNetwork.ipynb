{
 "cells": [
  {
   "cell_type": "code",
   "execution_count": 1,
   "metadata": {
    "id": "ZbzxSYTcxiel"
   },
   "outputs": [
    {
     "name": "stderr",
     "output_type": "stream",
     "text": [
      "2023-12-05 17:22:23.110329: I tensorflow/core/platform/cpu_feature_guard.cc:193] This TensorFlow binary is optimized with oneAPI Deep Neural Network Library (oneDNN) to use the following CPU instructions in performance-critical operations:  AVX2 FMA\n",
      "To enable them in other operations, rebuild TensorFlow with the appropriate compiler flags.\n",
      "2023-12-05 17:22:23.270840: W tensorflow/stream_executor/platform/default/dso_loader.cc:64] Could not load dynamic library 'libcudart.so.11.0'; dlerror: libcudart.so.11.0: cannot open shared object file: No such file or directory\n",
      "2023-12-05 17:22:23.270866: I tensorflow/stream_executor/cuda/cudart_stub.cc:29] Ignore above cudart dlerror if you do not have a GPU set up on your machine.\n",
      "2023-12-05 17:22:23.313884: E tensorflow/stream_executor/cuda/cuda_blas.cc:2981] Unable to register cuBLAS factory: Attempting to register factory for plugin cuBLAS when one has already been registered\n",
      "2023-12-05 17:22:24.374016: W tensorflow/stream_executor/platform/default/dso_loader.cc:64] Could not load dynamic library 'libnvinfer.so.7'; dlerror: libnvinfer.so.7: cannot open shared object file: No such file or directory\n",
      "2023-12-05 17:22:24.374203: W tensorflow/stream_executor/platform/default/dso_loader.cc:64] Could not load dynamic library 'libnvinfer_plugin.so.7'; dlerror: libnvinfer_plugin.so.7: cannot open shared object file: No such file or directory\n",
      "2023-12-05 17:22:24.374218: W tensorflow/compiler/tf2tensorrt/utils/py_utils.cc:38] TF-TRT Warning: Cannot dlopen some TensorRT libraries. If you would like to use Nvidia GPU with TensorRT, please make sure the missing libraries mentioned above are installed properly.\n"
     ]
    }
   ],
   "source": [
    "import pandas as pd\n",
    "import numpy as np\n",
    "\n",
    "from tensorflow.keras.models import Sequential\n",
    "from tensorflow.keras import layers\n",
    "from tensorflow.keras.callbacks import EarlyStopping\n",
    "\n",
    "from sklearn.model_selection import train_test_split\n",
    "\n",
    "from preprocess import *\n"
   ]
  },
  {
   "cell_type": "code",
   "execution_count": 5,
   "metadata": {
    "id": "kJHHeLL7xjNd"
   },
   "outputs": [],
   "source": [
    "df = pd.read_csv('/home/lewis/code/TrainDelays/TrainDelays/data/clean_data_final.csv')\n",
    "df = df[df['PFPI_MINUTES'] != 0]\n"
   ]
  },
  {
   "cell_type": "code",
   "execution_count": 6,
   "metadata": {
    "colab": {
     "base_uri": "https://localhost:8080/",
     "height": 255
    },
    "id": "_o_o9XYAxy7r",
    "outputId": "fdf9381a-b09b-4df5-c9da-59110410715c"
   },
   "outputs": [
    {
     "data": {
      "text/html": [
       "<div>\n",
       "<style scoped>\n",
       "    .dataframe tbody tr th:only-of-type {\n",
       "        vertical-align: middle;\n",
       "    }\n",
       "\n",
       "    .dataframe tbody tr th {\n",
       "        vertical-align: top;\n",
       "    }\n",
       "\n",
       "    .dataframe thead th {\n",
       "        text-align: right;\n",
       "    }\n",
       "</style>\n",
       "<table border=\"1\" class=\"dataframe\">\n",
       "  <thead>\n",
       "    <tr style=\"text-align: right;\">\n",
       "      <th></th>\n",
       "      <th>TRAIN_SERVICE_CODE_AFFECTED</th>\n",
       "      <th>SERVICE_GROUP_CODE_AFFECTED</th>\n",
       "      <th>ENGLISH_DAY_TYPE</th>\n",
       "      <th>APP_TIMETABLE_FLAG_AFF</th>\n",
       "      <th>UNIT_CLASS_AFFECTED</th>\n",
       "      <th>INCIDENT_REASON</th>\n",
       "      <th>PERFORMANCE_EVENT_CODE</th>\n",
       "      <th>PFPI_MINUTES</th>\n",
       "      <th>Lat_OR</th>\n",
       "      <th>Lon_OR</th>\n",
       "      <th>...</th>\n",
       "      <th>ORIG_MINUTE_SIN</th>\n",
       "      <th>ORIG_MINUTE_COS</th>\n",
       "      <th>DEST_MONTH_SIN</th>\n",
       "      <th>DEST_MONTH_COS</th>\n",
       "      <th>DEST_DAY_SIN</th>\n",
       "      <th>DEST_DAY_COS</th>\n",
       "      <th>DEST_HOUR_SIN</th>\n",
       "      <th>DEST_HOUR_COS</th>\n",
       "      <th>DEST_MINUTE_SIN</th>\n",
       "      <th>DEST_MINUTE_COS</th>\n",
       "    </tr>\n",
       "  </thead>\n",
       "  <tbody>\n",
       "    <tr>\n",
       "      <th>0</th>\n",
       "      <td>22215003</td>\n",
       "      <td>EK03</td>\n",
       "      <td>BH</td>\n",
       "      <td>Y</td>\n",
       "      <td>375.0</td>\n",
       "      <td>M</td>\n",
       "      <td>M</td>\n",
       "      <td>9.0</td>\n",
       "      <td>51.546500</td>\n",
       "      <td>-0.10408</td>\n",
       "      <td>...</td>\n",
       "      <td>-0.309017</td>\n",
       "      <td>0.951057</td>\n",
       "      <td>0.406737</td>\n",
       "      <td>0.913545</td>\n",
       "      <td>0.207912</td>\n",
       "      <td>0.978148</td>\n",
       "      <td>0.669131</td>\n",
       "      <td>-0.743145</td>\n",
       "      <td>-0.978148</td>\n",
       "      <td>2.079117e-01</td>\n",
       "    </tr>\n",
       "    <tr>\n",
       "      <th>1</th>\n",
       "      <td>22215003</td>\n",
       "      <td>EK03</td>\n",
       "      <td>BH</td>\n",
       "      <td>Y</td>\n",
       "      <td>375.0</td>\n",
       "      <td>M</td>\n",
       "      <td>M</td>\n",
       "      <td>6.0</td>\n",
       "      <td>51.546500</td>\n",
       "      <td>-0.10408</td>\n",
       "      <td>...</td>\n",
       "      <td>-0.951057</td>\n",
       "      <td>-0.309017</td>\n",
       "      <td>0.406737</td>\n",
       "      <td>0.913545</td>\n",
       "      <td>0.207912</td>\n",
       "      <td>0.978148</td>\n",
       "      <td>0.978148</td>\n",
       "      <td>-0.207912</td>\n",
       "      <td>-0.207912</td>\n",
       "      <td>-9.781476e-01</td>\n",
       "    </tr>\n",
       "    <tr>\n",
       "      <th>14</th>\n",
       "      <td>25234001</td>\n",
       "      <td>EK04</td>\n",
       "      <td>WD</td>\n",
       "      <td>Y</td>\n",
       "      <td>317.0</td>\n",
       "      <td>M</td>\n",
       "      <td>M</td>\n",
       "      <td>4.0</td>\n",
       "      <td>51.523880</td>\n",
       "      <td>-0.05982</td>\n",
       "      <td>...</td>\n",
       "      <td>-0.743145</td>\n",
       "      <td>0.669131</td>\n",
       "      <td>0.406737</td>\n",
       "      <td>0.913545</td>\n",
       "      <td>0.309017</td>\n",
       "      <td>0.951057</td>\n",
       "      <td>0.743145</td>\n",
       "      <td>0.669131</td>\n",
       "      <td>-0.309017</td>\n",
       "      <td>-9.510565e-01</td>\n",
       "    </tr>\n",
       "    <tr>\n",
       "      <th>15</th>\n",
       "      <td>25234001</td>\n",
       "      <td>EK04</td>\n",
       "      <td>WD</td>\n",
       "      <td>Y</td>\n",
       "      <td>317.0</td>\n",
       "      <td>M</td>\n",
       "      <td>M</td>\n",
       "      <td>5.0</td>\n",
       "      <td>51.701930</td>\n",
       "      <td>-0.02399</td>\n",
       "      <td>...</td>\n",
       "      <td>0.743145</td>\n",
       "      <td>-0.669131</td>\n",
       "      <td>0.406737</td>\n",
       "      <td>0.913545</td>\n",
       "      <td>0.309017</td>\n",
       "      <td>0.951057</td>\n",
       "      <td>0.809017</td>\n",
       "      <td>0.587785</td>\n",
       "      <td>0.309017</td>\n",
       "      <td>9.510565e-01</td>\n",
       "    </tr>\n",
       "    <tr>\n",
       "      <th>16</th>\n",
       "      <td>21235001</td>\n",
       "      <td>EK04</td>\n",
       "      <td>WD</td>\n",
       "      <td>Y</td>\n",
       "      <td>315.0</td>\n",
       "      <td>M</td>\n",
       "      <td>M</td>\n",
       "      <td>3.0</td>\n",
       "      <td>51.517991</td>\n",
       "      <td>-0.08140</td>\n",
       "      <td>...</td>\n",
       "      <td>-0.951057</td>\n",
       "      <td>0.309017</td>\n",
       "      <td>0.406737</td>\n",
       "      <td>0.913545</td>\n",
       "      <td>0.309017</td>\n",
       "      <td>0.951057</td>\n",
       "      <td>0.809017</td>\n",
       "      <td>0.587785</td>\n",
       "      <td>1.000000</td>\n",
       "      <td>2.832769e-16</td>\n",
       "    </tr>\n",
       "  </tbody>\n",
       "</table>\n",
       "<p>5 rows × 28 columns</p>\n",
       "</div>"
      ],
      "text/plain": [
       "    TRAIN_SERVICE_CODE_AFFECTED SERVICE_GROUP_CODE_AFFECTED ENGLISH_DAY_TYPE  \\\n",
       "0                      22215003                        EK03               BH   \n",
       "1                      22215003                        EK03               BH   \n",
       "14                     25234001                        EK04               WD   \n",
       "15                     25234001                        EK04               WD   \n",
       "16                     21235001                        EK04               WD   \n",
       "\n",
       "   APP_TIMETABLE_FLAG_AFF  UNIT_CLASS_AFFECTED INCIDENT_REASON  \\\n",
       "0                       Y                375.0               M   \n",
       "1                       Y                375.0               M   \n",
       "14                      Y                317.0               M   \n",
       "15                      Y                317.0               M   \n",
       "16                      Y                315.0               M   \n",
       "\n",
       "   PERFORMANCE_EVENT_CODE  PFPI_MINUTES     Lat_OR   Lon_OR  ...  \\\n",
       "0                       M           9.0  51.546500 -0.10408  ...   \n",
       "1                       M           6.0  51.546500 -0.10408  ...   \n",
       "14                      M           4.0  51.523880 -0.05982  ...   \n",
       "15                      M           5.0  51.701930 -0.02399  ...   \n",
       "16                      M           3.0  51.517991 -0.08140  ...   \n",
       "\n",
       "    ORIG_MINUTE_SIN  ORIG_MINUTE_COS  DEST_MONTH_SIN  DEST_MONTH_COS  \\\n",
       "0         -0.309017         0.951057        0.406737        0.913545   \n",
       "1         -0.951057        -0.309017        0.406737        0.913545   \n",
       "14        -0.743145         0.669131        0.406737        0.913545   \n",
       "15         0.743145        -0.669131        0.406737        0.913545   \n",
       "16        -0.951057         0.309017        0.406737        0.913545   \n",
       "\n",
       "    DEST_DAY_SIN  DEST_DAY_COS  DEST_HOUR_SIN  DEST_HOUR_COS  DEST_MINUTE_SIN  \\\n",
       "0       0.207912      0.978148       0.669131      -0.743145        -0.978148   \n",
       "1       0.207912      0.978148       0.978148      -0.207912        -0.207912   \n",
       "14      0.309017      0.951057       0.743145       0.669131        -0.309017   \n",
       "15      0.309017      0.951057       0.809017       0.587785         0.309017   \n",
       "16      0.309017      0.951057       0.809017       0.587785         1.000000   \n",
       "\n",
       "    DEST_MINUTE_COS  \n",
       "0      2.079117e-01  \n",
       "1     -9.781476e-01  \n",
       "14    -9.510565e-01  \n",
       "15     9.510565e-01  \n",
       "16     2.832769e-16  \n",
       "\n",
       "[5 rows x 28 columns]"
      ]
     },
     "execution_count": 6,
     "metadata": {},
     "output_type": "execute_result"
    }
   ],
   "source": [
    "df.head()\n"
   ]
  },
  {
   "cell_type": "code",
   "execution_count": 7,
   "metadata": {
    "id": "P_RWXHd4x7VM"
   },
   "outputs": [],
   "source": [
    "pipe = preprocessing_pipe()\n"
   ]
  },
  {
   "cell_type": "code",
   "execution_count": 8,
   "metadata": {
    "id": "moe4Cd5OyHqv"
   },
   "outputs": [],
   "source": [
    "X = df.drop(columns=['PFPI_MINUTES'])\n",
    "y = df['PFPI_MINUTES']\n"
   ]
  },
  {
   "cell_type": "code",
   "execution_count": 9,
   "metadata": {
    "id": "WugWFqk7x9VB"
   },
   "outputs": [],
   "source": [
    "X_train, X_test, y_train, y_test = train_test_split(X, y, test_size=0.3, random_state=42, shuffle=True)\n"
   ]
  },
  {
   "cell_type": "code",
   "execution_count": 10,
   "metadata": {
    "colab": {
     "base_uri": "https://localhost:8080/",
     "height": 155
    },
    "id": "Aqg8fqhdyGYm",
    "outputId": "33360895-8999-4113-c368-5e2a39e980f0"
   },
   "outputs": [
    {
     "data": {
      "text/html": [
       "<style>#sk-container-id-1 {color: black;}#sk-container-id-1 pre{padding: 0;}#sk-container-id-1 div.sk-toggleable {background-color: white;}#sk-container-id-1 label.sk-toggleable__label {cursor: pointer;display: block;width: 100%;margin-bottom: 0;padding: 0.3em;box-sizing: border-box;text-align: center;}#sk-container-id-1 label.sk-toggleable__label-arrow:before {content: \"▸\";float: left;margin-right: 0.25em;color: #696969;}#sk-container-id-1 label.sk-toggleable__label-arrow:hover:before {color: black;}#sk-container-id-1 div.sk-estimator:hover label.sk-toggleable__label-arrow:before {color: black;}#sk-container-id-1 div.sk-toggleable__content {max-height: 0;max-width: 0;overflow: hidden;text-align: left;background-color: #f0f8ff;}#sk-container-id-1 div.sk-toggleable__content pre {margin: 0.2em;color: black;border-radius: 0.25em;background-color: #f0f8ff;}#sk-container-id-1 input.sk-toggleable__control:checked~div.sk-toggleable__content {max-height: 200px;max-width: 100%;overflow: auto;}#sk-container-id-1 input.sk-toggleable__control:checked~label.sk-toggleable__label-arrow:before {content: \"▾\";}#sk-container-id-1 div.sk-estimator input.sk-toggleable__control:checked~label.sk-toggleable__label {background-color: #d4ebff;}#sk-container-id-1 div.sk-label input.sk-toggleable__control:checked~label.sk-toggleable__label {background-color: #d4ebff;}#sk-container-id-1 input.sk-hidden--visually {border: 0;clip: rect(1px 1px 1px 1px);clip: rect(1px, 1px, 1px, 1px);height: 1px;margin: -1px;overflow: hidden;padding: 0;position: absolute;width: 1px;}#sk-container-id-1 div.sk-estimator {font-family: monospace;background-color: #f0f8ff;border: 1px dotted black;border-radius: 0.25em;box-sizing: border-box;margin-bottom: 0.5em;}#sk-container-id-1 div.sk-estimator:hover {background-color: #d4ebff;}#sk-container-id-1 div.sk-parallel-item::after {content: \"\";width: 100%;border-bottom: 1px solid gray;flex-grow: 1;}#sk-container-id-1 div.sk-label:hover label.sk-toggleable__label {background-color: #d4ebff;}#sk-container-id-1 div.sk-serial::before {content: \"\";position: absolute;border-left: 1px solid gray;box-sizing: border-box;top: 0;bottom: 0;left: 50%;z-index: 0;}#sk-container-id-1 div.sk-serial {display: flex;flex-direction: column;align-items: center;background-color: white;padding-right: 0.2em;padding-left: 0.2em;position: relative;}#sk-container-id-1 div.sk-item {position: relative;z-index: 1;}#sk-container-id-1 div.sk-parallel {display: flex;align-items: stretch;justify-content: center;background-color: white;position: relative;}#sk-container-id-1 div.sk-item::before, #sk-container-id-1 div.sk-parallel-item::before {content: \"\";position: absolute;border-left: 1px solid gray;box-sizing: border-box;top: 0;bottom: 0;left: 50%;z-index: -1;}#sk-container-id-1 div.sk-parallel-item {display: flex;flex-direction: column;z-index: 1;position: relative;background-color: white;}#sk-container-id-1 div.sk-parallel-item:first-child::after {align-self: flex-end;width: 50%;}#sk-container-id-1 div.sk-parallel-item:last-child::after {align-self: flex-start;width: 50%;}#sk-container-id-1 div.sk-parallel-item:only-child::after {width: 0;}#sk-container-id-1 div.sk-dashed-wrapped {border: 1px dashed gray;margin: 0 0.4em 0.5em 0.4em;box-sizing: border-box;padding-bottom: 0.4em;background-color: white;}#sk-container-id-1 div.sk-label label {font-family: monospace;font-weight: bold;display: inline-block;line-height: 1.2em;}#sk-container-id-1 div.sk-label-container {text-align: center;}#sk-container-id-1 div.sk-container {/* jupyter's `normalize.less` sets `[hidden] { display: none; }` but bootstrap.min.css set `[hidden] { display: none !important; }` so we also need the `!important` here to be able to override the default hidden behavior on the sphinx rendered scikit-learn.org. See: https://github.com/scikit-learn/scikit-learn/issues/21755 */display: inline-block !important;position: relative;}#sk-container-id-1 div.sk-text-repr-fallback {display: none;}</style><div id=\"sk-container-id-1\" class=\"sk-top-container\"><div class=\"sk-text-repr-fallback\"><pre>Pipeline(steps=[(&#x27;transformer&#x27;,\n",
       "                 ColumnTransformer(remainder=&#x27;passthrough&#x27;,\n",
       "                                   transformers=[(&#x27;minmaxscaler&#x27;,\n",
       "                                                  MinMaxScaler(),\n",
       "                                                  [&#x27;Lat_OR&#x27;, &#x27;Lon_OR&#x27;,\n",
       "                                                   &#x27;Lat_DES&#x27;, &#x27;Lon_DES&#x27;]),\n",
       "                                                 (&#x27;onehotencoder&#x27;,\n",
       "                                                  OneHotEncoder(handle_unknown=&#x27;ignore&#x27;,\n",
       "                                                                sparse_output=False),\n",
       "                                                  [&#x27;ENGLISH_DAY_TYPE&#x27;,\n",
       "                                                   &#x27;SERVICE_GROUP_CODE_AFFECTED&#x27;,\n",
       "                                                   &#x27;INCIDENT_REASON&#x27;,\n",
       "                                                   &#x27;UNIT_CLASS_AFFECTED&#x27;,\n",
       "                                                   &#x27;TRAIN_SERVICE_CODE_AFFECTED&#x27;,\n",
       "                                                   &#x27;PERFORMANCE_EVENT_CODE&#x27;,\n",
       "                                                   &#x27;APP_TIMETABLE_FLAG_AFF&#x27;])]))])</pre><b>In a Jupyter environment, please rerun this cell to show the HTML representation or trust the notebook. <br />On GitHub, the HTML representation is unable to render, please try loading this page with nbviewer.org.</b></div><div class=\"sk-container\" hidden><div class=\"sk-item sk-dashed-wrapped\"><div class=\"sk-label-container\"><div class=\"sk-label sk-toggleable\"><input class=\"sk-toggleable__control sk-hidden--visually\" id=\"sk-estimator-id-1\" type=\"checkbox\" ><label for=\"sk-estimator-id-1\" class=\"sk-toggleable__label sk-toggleable__label-arrow\">Pipeline</label><div class=\"sk-toggleable__content\"><pre>Pipeline(steps=[(&#x27;transformer&#x27;,\n",
       "                 ColumnTransformer(remainder=&#x27;passthrough&#x27;,\n",
       "                                   transformers=[(&#x27;minmaxscaler&#x27;,\n",
       "                                                  MinMaxScaler(),\n",
       "                                                  [&#x27;Lat_OR&#x27;, &#x27;Lon_OR&#x27;,\n",
       "                                                   &#x27;Lat_DES&#x27;, &#x27;Lon_DES&#x27;]),\n",
       "                                                 (&#x27;onehotencoder&#x27;,\n",
       "                                                  OneHotEncoder(handle_unknown=&#x27;ignore&#x27;,\n",
       "                                                                sparse_output=False),\n",
       "                                                  [&#x27;ENGLISH_DAY_TYPE&#x27;,\n",
       "                                                   &#x27;SERVICE_GROUP_CODE_AFFECTED&#x27;,\n",
       "                                                   &#x27;INCIDENT_REASON&#x27;,\n",
       "                                                   &#x27;UNIT_CLASS_AFFECTED&#x27;,\n",
       "                                                   &#x27;TRAIN_SERVICE_CODE_AFFECTED&#x27;,\n",
       "                                                   &#x27;PERFORMANCE_EVENT_CODE&#x27;,\n",
       "                                                   &#x27;APP_TIMETABLE_FLAG_AFF&#x27;])]))])</pre></div></div></div><div class=\"sk-serial\"><div class=\"sk-item sk-dashed-wrapped\"><div class=\"sk-label-container\"><div class=\"sk-label sk-toggleable\"><input class=\"sk-toggleable__control sk-hidden--visually\" id=\"sk-estimator-id-2\" type=\"checkbox\" ><label for=\"sk-estimator-id-2\" class=\"sk-toggleable__label sk-toggleable__label-arrow\">transformer: ColumnTransformer</label><div class=\"sk-toggleable__content\"><pre>ColumnTransformer(remainder=&#x27;passthrough&#x27;,\n",
       "                  transformers=[(&#x27;minmaxscaler&#x27;, MinMaxScaler(),\n",
       "                                 [&#x27;Lat_OR&#x27;, &#x27;Lon_OR&#x27;, &#x27;Lat_DES&#x27;, &#x27;Lon_DES&#x27;]),\n",
       "                                (&#x27;onehotencoder&#x27;,\n",
       "                                 OneHotEncoder(handle_unknown=&#x27;ignore&#x27;,\n",
       "                                               sparse_output=False),\n",
       "                                 [&#x27;ENGLISH_DAY_TYPE&#x27;,\n",
       "                                  &#x27;SERVICE_GROUP_CODE_AFFECTED&#x27;,\n",
       "                                  &#x27;INCIDENT_REASON&#x27;, &#x27;UNIT_CLASS_AFFECTED&#x27;,\n",
       "                                  &#x27;TRAIN_SERVICE_CODE_AFFECTED&#x27;,\n",
       "                                  &#x27;PERFORMANCE_EVENT_CODE&#x27;,\n",
       "                                  &#x27;APP_TIMETABLE_FLAG_AFF&#x27;])])</pre></div></div></div><div class=\"sk-parallel\"><div class=\"sk-parallel-item\"><div class=\"sk-item\"><div class=\"sk-label-container\"><div class=\"sk-label sk-toggleable\"><input class=\"sk-toggleable__control sk-hidden--visually\" id=\"sk-estimator-id-3\" type=\"checkbox\" ><label for=\"sk-estimator-id-3\" class=\"sk-toggleable__label sk-toggleable__label-arrow\">minmaxscaler</label><div class=\"sk-toggleable__content\"><pre>[&#x27;Lat_OR&#x27;, &#x27;Lon_OR&#x27;, &#x27;Lat_DES&#x27;, &#x27;Lon_DES&#x27;]</pre></div></div></div><div class=\"sk-serial\"><div class=\"sk-item\"><div class=\"sk-estimator sk-toggleable\"><input class=\"sk-toggleable__control sk-hidden--visually\" id=\"sk-estimator-id-4\" type=\"checkbox\" ><label for=\"sk-estimator-id-4\" class=\"sk-toggleable__label sk-toggleable__label-arrow\">MinMaxScaler</label><div class=\"sk-toggleable__content\"><pre>MinMaxScaler()</pre></div></div></div></div></div></div><div class=\"sk-parallel-item\"><div class=\"sk-item\"><div class=\"sk-label-container\"><div class=\"sk-label sk-toggleable\"><input class=\"sk-toggleable__control sk-hidden--visually\" id=\"sk-estimator-id-5\" type=\"checkbox\" ><label for=\"sk-estimator-id-5\" class=\"sk-toggleable__label sk-toggleable__label-arrow\">onehotencoder</label><div class=\"sk-toggleable__content\"><pre>[&#x27;ENGLISH_DAY_TYPE&#x27;, &#x27;SERVICE_GROUP_CODE_AFFECTED&#x27;, &#x27;INCIDENT_REASON&#x27;, &#x27;UNIT_CLASS_AFFECTED&#x27;, &#x27;TRAIN_SERVICE_CODE_AFFECTED&#x27;, &#x27;PERFORMANCE_EVENT_CODE&#x27;, &#x27;APP_TIMETABLE_FLAG_AFF&#x27;]</pre></div></div></div><div class=\"sk-serial\"><div class=\"sk-item\"><div class=\"sk-estimator sk-toggleable\"><input class=\"sk-toggleable__control sk-hidden--visually\" id=\"sk-estimator-id-6\" type=\"checkbox\" ><label for=\"sk-estimator-id-6\" class=\"sk-toggleable__label sk-toggleable__label-arrow\">OneHotEncoder</label><div class=\"sk-toggleable__content\"><pre>OneHotEncoder(handle_unknown=&#x27;ignore&#x27;, sparse_output=False)</pre></div></div></div></div></div></div><div class=\"sk-parallel-item\"><div class=\"sk-item\"><div class=\"sk-label-container\"><div class=\"sk-label sk-toggleable\"><input class=\"sk-toggleable__control sk-hidden--visually\" id=\"sk-estimator-id-7\" type=\"checkbox\" ><label for=\"sk-estimator-id-7\" class=\"sk-toggleable__label sk-toggleable__label-arrow\">remainder</label><div class=\"sk-toggleable__content\"><pre>[&#x27;ORIG_MONTH_SIN&#x27;, &#x27;ORIG_MONTH_COS&#x27;, &#x27;ORIG_DAY_SIN&#x27;, &#x27;ORIG_DAY_COS&#x27;, &#x27;ORIG_HOUR_SIN&#x27;, &#x27;ORIG_HOUR_COS&#x27;, &#x27;ORIG_MINUTE_SIN&#x27;, &#x27;ORIG_MINUTE_COS&#x27;, &#x27;DEST_MONTH_SIN&#x27;, &#x27;DEST_MONTH_COS&#x27;, &#x27;DEST_DAY_SIN&#x27;, &#x27;DEST_DAY_COS&#x27;, &#x27;DEST_HOUR_SIN&#x27;, &#x27;DEST_HOUR_COS&#x27;, &#x27;DEST_MINUTE_SIN&#x27;, &#x27;DEST_MINUTE_COS&#x27;]</pre></div></div></div><div class=\"sk-serial\"><div class=\"sk-item\"><div class=\"sk-estimator sk-toggleable\"><input class=\"sk-toggleable__control sk-hidden--visually\" id=\"sk-estimator-id-8\" type=\"checkbox\" ><label for=\"sk-estimator-id-8\" class=\"sk-toggleable__label sk-toggleable__label-arrow\">passthrough</label><div class=\"sk-toggleable__content\"><pre>passthrough</pre></div></div></div></div></div></div></div></div></div></div></div></div>"
      ],
      "text/plain": [
       "Pipeline(steps=[('transformer',\n",
       "                 ColumnTransformer(remainder='passthrough',\n",
       "                                   transformers=[('minmaxscaler',\n",
       "                                                  MinMaxScaler(),\n",
       "                                                  ['Lat_OR', 'Lon_OR',\n",
       "                                                   'Lat_DES', 'Lon_DES']),\n",
       "                                                 ('onehotencoder',\n",
       "                                                  OneHotEncoder(handle_unknown='ignore',\n",
       "                                                                sparse_output=False),\n",
       "                                                  ['ENGLISH_DAY_TYPE',\n",
       "                                                   'SERVICE_GROUP_CODE_AFFECTED',\n",
       "                                                   'INCIDENT_REASON',\n",
       "                                                   'UNIT_CLASS_AFFECTED',\n",
       "                                                   'TRAIN_SERVICE_CODE_AFFECTED',\n",
       "                                                   'PERFORMANCE_EVENT_CODE',\n",
       "                                                   'APP_TIMETABLE_FLAG_AFF'])]))])"
      ]
     },
     "execution_count": 10,
     "metadata": {},
     "output_type": "execute_result"
    }
   ],
   "source": [
    "pipe.fit(X_train)\n"
   ]
  },
  {
   "cell_type": "code",
   "execution_count": 11,
   "metadata": {
    "id": "i-bwkufPyP9P"
   },
   "outputs": [],
   "source": [
    "X_train_processed = pipe.transform(X_train)\n",
    "X_test_processed = pipe.transform(X_test)\n"
   ]
  },
  {
   "cell_type": "code",
   "execution_count": 12,
   "metadata": {
    "colab": {
     "base_uri": "https://localhost:8080/"
    },
    "id": "mDHNz46IzBpz",
    "outputId": "7e0b0e36-7723-4323-f778-28de02b4aee2"
   },
   "outputs": [
    {
     "data": {
      "text/plain": [
       "(313800, 69)"
      ]
     },
     "execution_count": 12,
     "metadata": {},
     "output_type": "execute_result"
    }
   ],
   "source": [
    "X_train_processed.shape\n"
   ]
  },
  {
   "cell_type": "code",
   "execution_count": 13,
   "metadata": {
    "id": "nurI-YzNydH1"
   },
   "outputs": [
    {
     "name": "stderr",
     "output_type": "stream",
     "text": [
      "2023-12-05 17:24:36.771008: W tensorflow/stream_executor/platform/default/dso_loader.cc:64] Could not load dynamic library 'libcuda.so.1'; dlerror: libcuda.so.1: cannot open shared object file: No such file or directory\n",
      "2023-12-05 17:24:36.771969: W tensorflow/stream_executor/cuda/cuda_driver.cc:263] failed call to cuInit: UNKNOWN ERROR (303)\n",
      "2023-12-05 17:24:36.774780: I tensorflow/stream_executor/cuda/cuda_diagnostics.cc:156] kernel driver does not appear to be running on this host (DESKTOP-LQCN2T3): /proc/driver/nvidia/version does not exist\n",
      "2023-12-05 17:24:36.781324: I tensorflow/core/platform/cpu_feature_guard.cc:193] This TensorFlow binary is optimized with oneAPI Deep Neural Network Library (oneDNN) to use the following CPU instructions in performance-critical operations:  AVX2 FMA\n",
      "To enable them in other operations, rebuild TensorFlow with the appropriate compiler flags.\n"
     ]
    }
   ],
   "source": [
    "# Instantiate a sequential Neural Network\n",
    "model = Sequential()\n"
   ]
  },
  {
   "cell_type": "code",
   "execution_count": 17,
   "metadata": {
    "id": "O7CTA6xG0oSQ"
   },
   "outputs": [],
   "source": [
    "# Instantiate a input layer\n",
    "model.add(layers.Dense(128, input_dim=X_train_processed.shape[1], activation='relu', kernel_initializer='normal'))\n",
    "\n",
    "# Adding Hideen layers\n",
    "model.add(layers.Dense(256, activation='relu', kernel_initializer='normal'))\n",
    "model.add(layers.Dropout(0.2))\n",
    "model.add(layers.Dense(512, activation='relu', kernel_initializer='normal'))\n",
    "model.add(layers.Dropout(0.2))\n",
    "model.add(layers.Dense(512, activation='relu', kernel_initializer='normal'))\n",
    "model.add(layers.Dropout(0.2))\n",
    "\n",
    "\n",
    "# Final output layer\n",
    "model.add(layers.Dense(1, activation='linear', kernel_initializer='normal'))\n"
   ]
  },
  {
   "cell_type": "code",
   "execution_count": 21,
   "metadata": {
    "id": "d_ZkGtpu0q75"
   },
   "outputs": [],
   "source": [
    "from tensorflow.keras import optimizers\n",
    "adam_opt = optimizers.Adam(learning_rate=0.01)\n",
    "\n",
    "# Compiling the neural network\n",
    "model.compile(optimizer=adam_opt,\n",
    "              loss='mse',\n",
    "              metrics=['mae'])\n"
   ]
  },
  {
   "cell_type": "code",
   "execution_count": 22,
   "metadata": {
    "colab": {
     "base_uri": "https://localhost:8080/"
    },
    "id": "amIdNKc11vVs",
    "outputId": "f6cf8c88-166b-4080-c93c-adab30700739"
   },
   "outputs": [
    {
     "name": "stdout",
     "output_type": "stream",
     "text": [
      "Model: \"sequential\"\n",
      "_________________________________________________________________\n",
      " Layer (type)                Output Shape              Param #   \n",
      "=================================================================\n",
      " dense (Dense)               (None, 128)               8960      \n",
      "                                                                 \n",
      " dense_1 (Dense)             (None, 256)               33024     \n",
      "                                                                 \n",
      " dense_2 (Dense)             (None, 512)               131584    \n",
      "                                                                 \n",
      " dense_3 (Dense)             (None, 512)               262656    \n",
      "                                                                 \n",
      " dense_4 (Dense)             (None, 1)                 513       \n",
      "                                                                 \n",
      " dense_5 (Dense)             (None, 128)               256       \n",
      "                                                                 \n",
      " dense_6 (Dense)             (None, 256)               33024     \n",
      "                                                                 \n",
      " dropout (Dropout)           (None, 256)               0         \n",
      "                                                                 \n",
      " dense_7 (Dense)             (None, 512)               131584    \n",
      "                                                                 \n",
      " dropout_1 (Dropout)         (None, 512)               0         \n",
      "                                                                 \n",
      " dense_8 (Dense)             (None, 512)               262656    \n",
      "                                                                 \n",
      " dropout_2 (Dropout)         (None, 512)               0         \n",
      "                                                                 \n",
      " dense_9 (Dense)             (None, 1)                 513       \n",
      "                                                                 \n",
      "=================================================================\n",
      "Total params: 864,770\n",
      "Trainable params: 864,770\n",
      "Non-trainable params: 0\n",
      "_________________________________________________________________\n"
     ]
    }
   ],
   "source": [
    "model.summary()\n"
   ]
  },
  {
   "cell_type": "code",
   "execution_count": null,
   "metadata": {
    "colab": {
     "base_uri": "https://localhost:8080/"
    },
    "id": "b-MpCrQN2jZF",
    "outputId": "ac8cb392-6df6-46cd-ad5f-c41673e5edf8"
   },
   "outputs": [
    {
     "name": "stderr",
     "output_type": "stream",
     "text": [
      "2023-12-05 17:26:31.896150: W tensorflow/core/framework/cpu_allocator_impl.cc:82] Allocation of 69287040 exceeds 10% of free system memory.\n"
     ]
    },
    {
     "name": "stdout",
     "output_type": "stream",
     "text": [
      "Epoch 1/500\n",
      "3923/3923 [==============================] - 60s 15ms/step - loss: 29.6567 - mae: 2.4151 - val_loss: 24.8835 - val_mae: 2.3384\n",
      "Epoch 2/500\n",
      "3923/3923 [==============================] - 64s 16ms/step - loss: 29.5962 - mae: 2.4060 - val_loss: 24.8849 - val_mae: 2.3560\n",
      "Epoch 3/500\n",
      "3923/3923 [==============================] - 62s 16ms/step - loss: 29.5563 - mae: 2.4031 - val_loss: 24.9248 - val_mae: 2.4123\n",
      "Epoch 4/500\n",
      "3923/3923 [==============================] - 57s 15ms/step - loss: 29.5533 - mae: 2.4064 - val_loss: 24.8832 - val_mae: 2.3423\n",
      "Epoch 5/500\n",
      "3923/3923 [==============================] - 74s 19ms/step - loss: 29.5545 - mae: 2.4044 - val_loss: 24.9046 - val_mae: 2.3873\n",
      "Epoch 6/500\n",
      "3923/3923 [==============================] - 68s 17ms/step - loss: 29.5542 - mae: 2.4057 - val_loss: 24.8878 - val_mae: 2.3639\n",
      "Epoch 7/500\n",
      " 389/3923 [=>............................] - ETA: 12:24 - loss: 34.0964 - mae: 2.4226"
     ]
    }
   ],
   "source": [
    "es = EarlyStopping(patience=10, restore_best_weights=True)\n",
    "\n",
    "history = model.fit(X_train_processed, y_train, epochs=500,\n",
    "          batch_size=64, validation_split=0.2, callbacks=[es])\n"
   ]
  },
  {
   "cell_type": "code",
   "execution_count": null,
   "metadata": {
    "id": "Mj0wrAzh3p4t"
   },
   "outputs": [],
   "source": []
  }
 ],
 "metadata": {
  "accelerator": "GPU",
  "colab": {
   "gpuType": "T4",
   "provenance": []
  },
  "kernelspec": {
   "display_name": "Python 3 (ipykernel)",
   "language": "python",
   "name": "python3"
  },
  "language_info": {
   "codemirror_mode": {
    "name": "ipython",
    "version": 3
   },
   "file_extension": ".py",
   "mimetype": "text/x-python",
   "name": "python",
   "nbconvert_exporter": "python",
   "pygments_lexer": "ipython3",
   "version": "3.10.6"
  },
  "toc": {
   "base_numbering": 1,
   "nav_menu": {},
   "number_sections": true,
   "sideBar": true,
   "skip_h1_title": false,
   "title_cell": "Table of Contents",
   "title_sidebar": "Contents",
   "toc_cell": false,
   "toc_position": {},
   "toc_section_display": true,
   "toc_window_display": false
  }
 },
 "nbformat": 4,
 "nbformat_minor": 1
}
