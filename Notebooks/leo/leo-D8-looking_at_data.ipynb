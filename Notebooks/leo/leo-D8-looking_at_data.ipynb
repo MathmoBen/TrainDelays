{
 "cells": [
  {
   "cell_type": "code",
   "execution_count": 6,
   "id": "3966f025",
   "metadata": {},
   "outputs": [],
   "source": [
    "import pandas as pd\n",
    "import numpy as np\n",
    "pd.set_option('display.max_rows', 70)\n",
    "pd.set_option('display.max_columns', 50)\n",
    "\n",
    "from sklearn.neighbors import KNeighborsRegressor\n",
    "from sklearn.linear_model import Ridge, Lasso, LinearRegression\n",
    "from sklearn.model_selection import RandomizedSearchCV\n",
    "from sklearn.svm import SVR\n",
    "from sklearn.model_selection import GridSearchCV, RandomizedSearchCV\n",
    "from sklearn.ensemble import AdaBoostRegressor\n",
    "from sklearn.tree import DecisionTreeRegressor\n",
    "from sklearn.ensemble import VotingRegressor\n",
    "from sklearn.ensemble import GradientBoostingRegressor\n",
    "from sklearn.ensemble import StackingRegressor\n",
    "from sklearn.ensemble import RandomForestRegressor\n",
    "from xgboost import XGBRegressor\n",
    "from sklearn.model_selection import cross_val_score\n",
    "from google.cloud import bigquery\n",
    "from google.oauth2 import service_account\n",
    "from pathlib import Path\n",
    "from sklearn import set_config; set_config(display='diagram')\n",
    "from sklearn.compose import ColumnTransformer, make_column_transformer\n",
    "\n",
    "from sklearn.pipeline import Pipeline\n",
    "from sklearn.impute import SimpleImputer\n",
    "from sklearn.preprocessing import MinMaxScaler\n",
    "from sklearn.model_selection import train_test_split\n",
    "from sklearn.preprocessing import OneHotEncoder\n",
    "from sklearn import set_config; set_config(display='diagram')\n",
    "from sklearn.preprocessing import FunctionTransformer\n",
    "from flaml import AutoML\n",
    "\n"
   ]
  },
  {
   "cell_type": "code",
   "execution_count": 4,
   "id": "739d2c40",
   "metadata": {},
   "outputs": [],
   "source": [
    "df = pd.read_csv('../../data/clean_data_final.csv')\n",
    "df = df[df['PFPI_MINUTES']!=0]"
   ]
  },
  {
   "cell_type": "code",
   "execution_count": 7,
   "id": "5a69dc54",
   "metadata": {},
   "outputs": [
    {
     "data": {
      "text/html": [
       "<style>#sk-container-id-1 {color: black;background-color: white;}#sk-container-id-1 pre{padding: 0;}#sk-container-id-1 div.sk-toggleable {background-color: white;}#sk-container-id-1 label.sk-toggleable__label {cursor: pointer;display: block;width: 100%;margin-bottom: 0;padding: 0.3em;box-sizing: border-box;text-align: center;}#sk-container-id-1 label.sk-toggleable__label-arrow:before {content: \"▸\";float: left;margin-right: 0.25em;color: #696969;}#sk-container-id-1 label.sk-toggleable__label-arrow:hover:before {color: black;}#sk-container-id-1 div.sk-estimator:hover label.sk-toggleable__label-arrow:before {color: black;}#sk-container-id-1 div.sk-toggleable__content {max-height: 0;max-width: 0;overflow: hidden;text-align: left;background-color: #f0f8ff;}#sk-container-id-1 div.sk-toggleable__content pre {margin: 0.2em;color: black;border-radius: 0.25em;background-color: #f0f8ff;}#sk-container-id-1 input.sk-toggleable__control:checked~div.sk-toggleable__content {max-height: 200px;max-width: 100%;overflow: auto;}#sk-container-id-1 input.sk-toggleable__control:checked~label.sk-toggleable__label-arrow:before {content: \"▾\";}#sk-container-id-1 div.sk-estimator input.sk-toggleable__control:checked~label.sk-toggleable__label {background-color: #d4ebff;}#sk-container-id-1 div.sk-label input.sk-toggleable__control:checked~label.sk-toggleable__label {background-color: #d4ebff;}#sk-container-id-1 input.sk-hidden--visually {border: 0;clip: rect(1px 1px 1px 1px);clip: rect(1px, 1px, 1px, 1px);height: 1px;margin: -1px;overflow: hidden;padding: 0;position: absolute;width: 1px;}#sk-container-id-1 div.sk-estimator {font-family: monospace;background-color: #f0f8ff;border: 1px dotted black;border-radius: 0.25em;box-sizing: border-box;margin-bottom: 0.5em;}#sk-container-id-1 div.sk-estimator:hover {background-color: #d4ebff;}#sk-container-id-1 div.sk-parallel-item::after {content: \"\";width: 100%;border-bottom: 1px solid gray;flex-grow: 1;}#sk-container-id-1 div.sk-label:hover label.sk-toggleable__label {background-color: #d4ebff;}#sk-container-id-1 div.sk-serial::before {content: \"\";position: absolute;border-left: 1px solid gray;box-sizing: border-box;top: 0;bottom: 0;left: 50%;z-index: 0;}#sk-container-id-1 div.sk-serial {display: flex;flex-direction: column;align-items: center;background-color: white;padding-right: 0.2em;padding-left: 0.2em;position: relative;}#sk-container-id-1 div.sk-item {position: relative;z-index: 1;}#sk-container-id-1 div.sk-parallel {display: flex;align-items: stretch;justify-content: center;background-color: white;position: relative;}#sk-container-id-1 div.sk-item::before, #sk-container-id-1 div.sk-parallel-item::before {content: \"\";position: absolute;border-left: 1px solid gray;box-sizing: border-box;top: 0;bottom: 0;left: 50%;z-index: -1;}#sk-container-id-1 div.sk-parallel-item {display: flex;flex-direction: column;z-index: 1;position: relative;background-color: white;}#sk-container-id-1 div.sk-parallel-item:first-child::after {align-self: flex-end;width: 50%;}#sk-container-id-1 div.sk-parallel-item:last-child::after {align-self: flex-start;width: 50%;}#sk-container-id-1 div.sk-parallel-item:only-child::after {width: 0;}#sk-container-id-1 div.sk-dashed-wrapped {border: 1px dashed gray;margin: 0 0.4em 0.5em 0.4em;box-sizing: border-box;padding-bottom: 0.4em;background-color: white;}#sk-container-id-1 div.sk-label label {font-family: monospace;font-weight: bold;display: inline-block;line-height: 1.2em;}#sk-container-id-1 div.sk-label-container {text-align: center;}#sk-container-id-1 div.sk-container {/* jupyter's `normalize.less` sets `[hidden] { display: none; }` but bootstrap.min.css set `[hidden] { display: none !important; }` so we also need the `!important` here to be able to override the default hidden behavior on the sphinx rendered scikit-learn.org. See: https://github.com/scikit-learn/scikit-learn/issues/21755 */display: inline-block !important;position: relative;}#sk-container-id-1 div.sk-text-repr-fallback {display: none;}</style><div id=\"sk-container-id-1\" class=\"sk-top-container\"><div class=\"sk-text-repr-fallback\"><pre>Pipeline(steps=[(&#x27;transformer&#x27;,\n",
       "                 ColumnTransformer(remainder=&#x27;passthrough&#x27;,\n",
       "                                   transformers=[(&#x27;minmaxscaler&#x27;,\n",
       "                                                  MinMaxScaler(),\n",
       "                                                  [&#x27;Lat_OR&#x27;, &#x27;Lon_OR&#x27;,\n",
       "                                                   &#x27;Lat_DES&#x27;, &#x27;Lon_DES&#x27;]),\n",
       "                                                 (&#x27;onehotencoder&#x27;,\n",
       "                                                  OneHotEncoder(handle_unknown=&#x27;ignore&#x27;,\n",
       "                                                                sparse=False),\n",
       "                                                  [&#x27;ENGLISH_DAY_TYPE&#x27;,\n",
       "                                                   &#x27;SERVICE_GROUP_CODE_AFFECTED&#x27;,\n",
       "                                                   &#x27;INCIDENT_REASON&#x27;,\n",
       "                                                   &#x27;UNIT_CLASS_AFFECTED&#x27;,\n",
       "                                                   &#x27;TRAIN_SERVICE_CODE_AFFECTED&#x27;,\n",
       "                                                   &#x27;PERFORMANCE_EVENT_CODE&#x27;,\n",
       "                                                   &#x27;APP_TIMETABLE_FLAG_AFF&#x27;])]))])</pre><b>In a Jupyter environment, please rerun this cell to show the HTML representation or trust the notebook. <br />On GitHub, the HTML representation is unable to render, please try loading this page with nbviewer.org.</b></div><div class=\"sk-container\" hidden><div class=\"sk-item sk-dashed-wrapped\"><div class=\"sk-label-container\"><div class=\"sk-label sk-toggleable\"><input class=\"sk-toggleable__control sk-hidden--visually\" id=\"sk-estimator-id-1\" type=\"checkbox\" ><label for=\"sk-estimator-id-1\" class=\"sk-toggleable__label sk-toggleable__label-arrow\">Pipeline</label><div class=\"sk-toggleable__content\"><pre>Pipeline(steps=[(&#x27;transformer&#x27;,\n",
       "                 ColumnTransformer(remainder=&#x27;passthrough&#x27;,\n",
       "                                   transformers=[(&#x27;minmaxscaler&#x27;,\n",
       "                                                  MinMaxScaler(),\n",
       "                                                  [&#x27;Lat_OR&#x27;, &#x27;Lon_OR&#x27;,\n",
       "                                                   &#x27;Lat_DES&#x27;, &#x27;Lon_DES&#x27;]),\n",
       "                                                 (&#x27;onehotencoder&#x27;,\n",
       "                                                  OneHotEncoder(handle_unknown=&#x27;ignore&#x27;,\n",
       "                                                                sparse=False),\n",
       "                                                  [&#x27;ENGLISH_DAY_TYPE&#x27;,\n",
       "                                                   &#x27;SERVICE_GROUP_CODE_AFFECTED&#x27;,\n",
       "                                                   &#x27;INCIDENT_REASON&#x27;,\n",
       "                                                   &#x27;UNIT_CLASS_AFFECTED&#x27;,\n",
       "                                                   &#x27;TRAIN_SERVICE_CODE_AFFECTED&#x27;,\n",
       "                                                   &#x27;PERFORMANCE_EVENT_CODE&#x27;,\n",
       "                                                   &#x27;APP_TIMETABLE_FLAG_AFF&#x27;])]))])</pre></div></div></div><div class=\"sk-serial\"><div class=\"sk-item sk-dashed-wrapped\"><div class=\"sk-label-container\"><div class=\"sk-label sk-toggleable\"><input class=\"sk-toggleable__control sk-hidden--visually\" id=\"sk-estimator-id-2\" type=\"checkbox\" ><label for=\"sk-estimator-id-2\" class=\"sk-toggleable__label sk-toggleable__label-arrow\">transformer: ColumnTransformer</label><div class=\"sk-toggleable__content\"><pre>ColumnTransformer(remainder=&#x27;passthrough&#x27;,\n",
       "                  transformers=[(&#x27;minmaxscaler&#x27;, MinMaxScaler(),\n",
       "                                 [&#x27;Lat_OR&#x27;, &#x27;Lon_OR&#x27;, &#x27;Lat_DES&#x27;, &#x27;Lon_DES&#x27;]),\n",
       "                                (&#x27;onehotencoder&#x27;,\n",
       "                                 OneHotEncoder(handle_unknown=&#x27;ignore&#x27;,\n",
       "                                               sparse=False),\n",
       "                                 [&#x27;ENGLISH_DAY_TYPE&#x27;,\n",
       "                                  &#x27;SERVICE_GROUP_CODE_AFFECTED&#x27;,\n",
       "                                  &#x27;INCIDENT_REASON&#x27;, &#x27;UNIT_CLASS_AFFECTED&#x27;,\n",
       "                                  &#x27;TRAIN_SERVICE_CODE_AFFECTED&#x27;,\n",
       "                                  &#x27;PERFORMANCE_EVENT_CODE&#x27;,\n",
       "                                  &#x27;APP_TIMETABLE_FLAG_AFF&#x27;])])</pre></div></div></div><div class=\"sk-parallel\"><div class=\"sk-parallel-item\"><div class=\"sk-item\"><div class=\"sk-label-container\"><div class=\"sk-label sk-toggleable\"><input class=\"sk-toggleable__control sk-hidden--visually\" id=\"sk-estimator-id-3\" type=\"checkbox\" ><label for=\"sk-estimator-id-3\" class=\"sk-toggleable__label sk-toggleable__label-arrow\">minmaxscaler</label><div class=\"sk-toggleable__content\"><pre>[&#x27;Lat_OR&#x27;, &#x27;Lon_OR&#x27;, &#x27;Lat_DES&#x27;, &#x27;Lon_DES&#x27;]</pre></div></div></div><div class=\"sk-serial\"><div class=\"sk-item\"><div class=\"sk-estimator sk-toggleable\"><input class=\"sk-toggleable__control sk-hidden--visually\" id=\"sk-estimator-id-4\" type=\"checkbox\" ><label for=\"sk-estimator-id-4\" class=\"sk-toggleable__label sk-toggleable__label-arrow\">MinMaxScaler</label><div class=\"sk-toggleable__content\"><pre>MinMaxScaler()</pre></div></div></div></div></div></div><div class=\"sk-parallel-item\"><div class=\"sk-item\"><div class=\"sk-label-container\"><div class=\"sk-label sk-toggleable\"><input class=\"sk-toggleable__control sk-hidden--visually\" id=\"sk-estimator-id-5\" type=\"checkbox\" ><label for=\"sk-estimator-id-5\" class=\"sk-toggleable__label sk-toggleable__label-arrow\">onehotencoder</label><div class=\"sk-toggleable__content\"><pre>[&#x27;ENGLISH_DAY_TYPE&#x27;, &#x27;SERVICE_GROUP_CODE_AFFECTED&#x27;, &#x27;INCIDENT_REASON&#x27;, &#x27;UNIT_CLASS_AFFECTED&#x27;, &#x27;TRAIN_SERVICE_CODE_AFFECTED&#x27;, &#x27;PERFORMANCE_EVENT_CODE&#x27;, &#x27;APP_TIMETABLE_FLAG_AFF&#x27;]</pre></div></div></div><div class=\"sk-serial\"><div class=\"sk-item\"><div class=\"sk-estimator sk-toggleable\"><input class=\"sk-toggleable__control sk-hidden--visually\" id=\"sk-estimator-id-6\" type=\"checkbox\" ><label for=\"sk-estimator-id-6\" class=\"sk-toggleable__label sk-toggleable__label-arrow\">OneHotEncoder</label><div class=\"sk-toggleable__content\"><pre>OneHotEncoder(handle_unknown=&#x27;ignore&#x27;, sparse=False)</pre></div></div></div></div></div></div><div class=\"sk-parallel-item\"><div class=\"sk-item\"><div class=\"sk-label-container\"><div class=\"sk-label sk-toggleable\"><input class=\"sk-toggleable__control sk-hidden--visually\" id=\"sk-estimator-id-7\" type=\"checkbox\" ><label for=\"sk-estimator-id-7\" class=\"sk-toggleable__label sk-toggleable__label-arrow\">remainder</label><div class=\"sk-toggleable__content\"><pre></pre></div></div></div><div class=\"sk-serial\"><div class=\"sk-item\"><div class=\"sk-estimator sk-toggleable\"><input class=\"sk-toggleable__control sk-hidden--visually\" id=\"sk-estimator-id-8\" type=\"checkbox\" ><label for=\"sk-estimator-id-8\" class=\"sk-toggleable__label sk-toggleable__label-arrow\">passthrough</label><div class=\"sk-toggleable__content\"><pre>passthrough</pre></div></div></div></div></div></div></div></div></div></div></div></div>"
      ],
      "text/plain": [
       "Pipeline(steps=[('transformer',\n",
       "                 ColumnTransformer(remainder='passthrough',\n",
       "                                   transformers=[('minmaxscaler',\n",
       "                                                  MinMaxScaler(),\n",
       "                                                  ['Lat_OR', 'Lon_OR',\n",
       "                                                   'Lat_DES', 'Lon_DES']),\n",
       "                                                 ('onehotencoder',\n",
       "                                                  OneHotEncoder(handle_unknown='ignore',\n",
       "                                                                sparse=False),\n",
       "                                                  ['ENGLISH_DAY_TYPE',\n",
       "                                                   'SERVICE_GROUP_CODE_AFFECTED',\n",
       "                                                   'INCIDENT_REASON',\n",
       "                                                   'UNIT_CLASS_AFFECTED',\n",
       "                                                   'TRAIN_SERVICE_CODE_AFFECTED',\n",
       "                                                   'PERFORMANCE_EVENT_CODE',\n",
       "                                                   'APP_TIMETABLE_FLAG_AFF'])]))])"
      ]
     },
     "execution_count": 7,
     "metadata": {},
     "output_type": "execute_result"
    }
   ],
   "source": [
    "num_transformer = MinMaxScaler()\n",
    "\n",
    "cat_transformer = OneHotEncoder(handle_unknown='ignore', sparse = False)\n",
    "\n",
    "transformer = make_column_transformer((num_transformer, ['Lat_OR','Lon_OR', 'Lat_DES','Lon_DES']),\n",
    "                                  (cat_transformer, ['ENGLISH_DAY_TYPE', 'SERVICE_GROUP_CODE_AFFECTED', 'INCIDENT_REASON',\n",
    "                                                        'UNIT_CLASS_AFFECTED', 'TRAIN_SERVICE_CODE_AFFECTED', \n",
    "                                                     'PERFORMANCE_EVENT_CODE', \n",
    "                                                     'APP_TIMETABLE_FLAG_AFF']),\n",
    "                                remainder = 'passthrough')\n",
    "\n",
    "\n",
    "pipe = Pipeline([('transformer', transformer)])\n",
    "\n",
    "pipe"
   ]
  },
  {
   "cell_type": "code",
   "execution_count": 8,
   "id": "aeb29e82",
   "metadata": {},
   "outputs": [],
   "source": [
    "X_train, X_test, y_train, y_test = train_test_split(df.drop(columns='PFPI_MINUTES'), df['PFPI_MINUTES'], test_size=0.3)"
   ]
  },
  {
   "cell_type": "code",
   "execution_count": 9,
   "id": "3961d93e",
   "metadata": {},
   "outputs": [],
   "source": [
    "X_train_scaled = pipe.fit_transform(X_train)\n",
    "X_test_scaled = pipe.transform(X_test)\n"
   ]
  },
  {
   "cell_type": "code",
   "execution_count": 11,
   "id": "f84eddcf",
   "metadata": {},
   "outputs": [
    {
     "name": "stderr",
     "output_type": "stream",
     "text": [
      "/home/leo/.pyenv/versions/3.10.6/envs/lewagon/lib/python3.10/site-packages/sklearn/base.py:329: UserWarning: Trying to unpickle estimator SimpleImputer from version 1.2.2 when using version 1.1.2. This might lead to breaking code or invalid results. Use at your own risk. For more info please refer to:\n",
      "https://scikit-learn.org/stable/model_persistence.html#security-maintainability-limitations\n",
      "  warnings.warn(\n",
      "/home/leo/.pyenv/versions/3.10.6/envs/lewagon/lib/python3.10/site-packages/sklearn/base.py:329: UserWarning: Trying to unpickle estimator ColumnTransformer from version 1.2.2 when using version 1.1.2. This might lead to breaking code or invalid results. Use at your own risk. For more info please refer to:\n",
      "https://scikit-learn.org/stable/model_persistence.html#security-maintainability-limitations\n",
      "  warnings.warn(\n"
     ]
    }
   ],
   "source": [
    "import pickle\n",
    "\n",
    "model = pickle.load(open('../../../BestTrainDelays/streamlit/Models/XGBoost_RMSE_on_test_with_log_transf_rmse_1_64.sav', 'rb'))"
   ]
  },
  {
   "cell_type": "code",
   "execution_count": 12,
   "id": "54272d4b",
   "metadata": {},
   "outputs": [
    {
     "data": {
      "text/html": [
       "<style>#sk-container-id-2 {color: black;background-color: white;}#sk-container-id-2 pre{padding: 0;}#sk-container-id-2 div.sk-toggleable {background-color: white;}#sk-container-id-2 label.sk-toggleable__label {cursor: pointer;display: block;width: 100%;margin-bottom: 0;padding: 0.3em;box-sizing: border-box;text-align: center;}#sk-container-id-2 label.sk-toggleable__label-arrow:before {content: \"▸\";float: left;margin-right: 0.25em;color: #696969;}#sk-container-id-2 label.sk-toggleable__label-arrow:hover:before {color: black;}#sk-container-id-2 div.sk-estimator:hover label.sk-toggleable__label-arrow:before {color: black;}#sk-container-id-2 div.sk-toggleable__content {max-height: 0;max-width: 0;overflow: hidden;text-align: left;background-color: #f0f8ff;}#sk-container-id-2 div.sk-toggleable__content pre {margin: 0.2em;color: black;border-radius: 0.25em;background-color: #f0f8ff;}#sk-container-id-2 input.sk-toggleable__control:checked~div.sk-toggleable__content {max-height: 200px;max-width: 100%;overflow: auto;}#sk-container-id-2 input.sk-toggleable__control:checked~label.sk-toggleable__label-arrow:before {content: \"▾\";}#sk-container-id-2 div.sk-estimator input.sk-toggleable__control:checked~label.sk-toggleable__label {background-color: #d4ebff;}#sk-container-id-2 div.sk-label input.sk-toggleable__control:checked~label.sk-toggleable__label {background-color: #d4ebff;}#sk-container-id-2 input.sk-hidden--visually {border: 0;clip: rect(1px 1px 1px 1px);clip: rect(1px, 1px, 1px, 1px);height: 1px;margin: -1px;overflow: hidden;padding: 0;position: absolute;width: 1px;}#sk-container-id-2 div.sk-estimator {font-family: monospace;background-color: #f0f8ff;border: 1px dotted black;border-radius: 0.25em;box-sizing: border-box;margin-bottom: 0.5em;}#sk-container-id-2 div.sk-estimator:hover {background-color: #d4ebff;}#sk-container-id-2 div.sk-parallel-item::after {content: \"\";width: 100%;border-bottom: 1px solid gray;flex-grow: 1;}#sk-container-id-2 div.sk-label:hover label.sk-toggleable__label {background-color: #d4ebff;}#sk-container-id-2 div.sk-serial::before {content: \"\";position: absolute;border-left: 1px solid gray;box-sizing: border-box;top: 0;bottom: 0;left: 50%;z-index: 0;}#sk-container-id-2 div.sk-serial {display: flex;flex-direction: column;align-items: center;background-color: white;padding-right: 0.2em;padding-left: 0.2em;position: relative;}#sk-container-id-2 div.sk-item {position: relative;z-index: 1;}#sk-container-id-2 div.sk-parallel {display: flex;align-items: stretch;justify-content: center;background-color: white;position: relative;}#sk-container-id-2 div.sk-item::before, #sk-container-id-2 div.sk-parallel-item::before {content: \"\";position: absolute;border-left: 1px solid gray;box-sizing: border-box;top: 0;bottom: 0;left: 50%;z-index: -1;}#sk-container-id-2 div.sk-parallel-item {display: flex;flex-direction: column;z-index: 1;position: relative;background-color: white;}#sk-container-id-2 div.sk-parallel-item:first-child::after {align-self: flex-end;width: 50%;}#sk-container-id-2 div.sk-parallel-item:last-child::after {align-self: flex-start;width: 50%;}#sk-container-id-2 div.sk-parallel-item:only-child::after {width: 0;}#sk-container-id-2 div.sk-dashed-wrapped {border: 1px dashed gray;margin: 0 0.4em 0.5em 0.4em;box-sizing: border-box;padding-bottom: 0.4em;background-color: white;}#sk-container-id-2 div.sk-label label {font-family: monospace;font-weight: bold;display: inline-block;line-height: 1.2em;}#sk-container-id-2 div.sk-label-container {text-align: center;}#sk-container-id-2 div.sk-container {/* jupyter's `normalize.less` sets `[hidden] { display: none; }` but bootstrap.min.css set `[hidden] { display: none !important; }` so we also need the `!important` here to be able to override the default hidden behavior on the sphinx rendered scikit-learn.org. See: https://github.com/scikit-learn/scikit-learn/issues/21755 */display: inline-block !important;position: relative;}#sk-container-id-2 div.sk-text-repr-fallback {display: none;}</style><div id=\"sk-container-id-2\" class=\"sk-top-container\"><div class=\"sk-text-repr-fallback\"><pre>AutoML(append_log=False, auto_augment=True, custom_hp={},\n",
       "       cv_score_agg_func=None, early_stop=False, ensemble=False,\n",
       "       estimator_list=&#x27;auto&#x27;, eval_method=&#x27;auto&#x27;, fit_kwargs_by_estimator={},\n",
       "       force_cancel=False, free_mem_ratio=0, hpo_method=&#x27;auto&#x27;,\n",
       "       keep_search_state=False, learner_selector=&#x27;sample&#x27;, log_file_name=&#x27;&#x27;,\n",
       "       log_training_metric=False, log_type=&#x27;better&#x27;, max_iter=None,\n",
       "       mem_thres=4294967296, metric=&#x27;auto&#x27;, metric_constraints=[],\n",
       "       min_sample_size=10000, mlflow_logging=True, model_history=False,\n",
       "       n_concurrent_trials=1, n_jobs=-1, n_splits=5, pred_time_limit=inf,\n",
       "       preserve_checkpoint=True, retrain_full=True, ...)</pre><b>In a Jupyter environment, please rerun this cell to show the HTML representation or trust the notebook. <br />On GitHub, the HTML representation is unable to render, please try loading this page with nbviewer.org.</b></div><div class=\"sk-container\" hidden><div class=\"sk-item\"><div class=\"sk-estimator sk-toggleable\"><input class=\"sk-toggleable__control sk-hidden--visually\" id=\"sk-estimator-id-9\" type=\"checkbox\" checked><label for=\"sk-estimator-id-9\" class=\"sk-toggleable__label sk-toggleable__label-arrow\">AutoML</label><div class=\"sk-toggleable__content\"><pre>AutoML(append_log=False, auto_augment=True, custom_hp={},\n",
       "       cv_score_agg_func=None, early_stop=False, ensemble=False,\n",
       "       estimator_list=&#x27;auto&#x27;, eval_method=&#x27;auto&#x27;, fit_kwargs_by_estimator={},\n",
       "       force_cancel=False, free_mem_ratio=0, hpo_method=&#x27;auto&#x27;,\n",
       "       keep_search_state=False, learner_selector=&#x27;sample&#x27;, log_file_name=&#x27;&#x27;,\n",
       "       log_training_metric=False, log_type=&#x27;better&#x27;, max_iter=None,\n",
       "       mem_thres=4294967296, metric=&#x27;auto&#x27;, metric_constraints=[],\n",
       "       min_sample_size=10000, mlflow_logging=True, model_history=False,\n",
       "       n_concurrent_trials=1, n_jobs=-1, n_splits=5, pred_time_limit=inf,\n",
       "       preserve_checkpoint=True, retrain_full=True, ...)</pre></div></div></div></div></div>"
      ],
      "text/plain": [
       "AutoML(append_log=False, auto_augment=True, custom_hp={},\n",
       "       cv_score_agg_func=None, early_stop=False, ensemble=False,\n",
       "       estimator_list='auto', eval_method='auto', fit_kwargs_by_estimator={},\n",
       "       force_cancel=False, free_mem_ratio=0, hpo_method='auto',\n",
       "       keep_search_state=False, learner_selector='sample', log_file_name='',\n",
       "       log_training_metric=False, log_type='better', max_iter=None,\n",
       "       mem_thres=4294967296, metric='auto', metric_constraints=[],\n",
       "       min_sample_size=10000, mlflow_logging=True, model_history=False,\n",
       "       n_concurrent_trials=1, n_jobs=-1, n_splits=5, pred_time_limit=inf,\n",
       "       preserve_checkpoint=True, retrain_full=True, ...)"
      ]
     },
     "execution_count": 12,
     "metadata": {},
     "output_type": "execute_result"
    }
   ],
   "source": [
    "model"
   ]
  },
  {
   "cell_type": "code",
   "execution_count": 20,
   "id": "993a8ef1",
   "metadata": {},
   "outputs": [
    {
     "data": {
      "text/plain": [
       "25974"
      ]
     },
     "execution_count": 20,
     "metadata": {},
     "output_type": "execute_result"
    }
   ],
   "source": [
    "model.predict(X_train_scaled).argmax()"
   ]
  },
  {
   "cell_type": "code",
   "execution_count": 23,
   "id": "6c2c95b2",
   "metadata": {},
   "outputs": [
    {
     "data": {
      "text/plain": [
       "array([ 0.78720523,  0.55947023,  0.78720523,  0.55947023,  0.        ,\n",
       "        0.        ,  0.        ,  0.        ,  1.        ,  0.        ,\n",
       "        0.        ,  0.        ,  0.        ,  0.        ,  1.        ,\n",
       "        0.        ,  0.        ,  0.        ,  0.        ,  0.        ,\n",
       "        0.        ,  1.        ,  0.        ,  0.        ,  0.        ,\n",
       "        0.        ,  0.        ,  0.        ,  0.        ,  1.        ,\n",
       "        0.        ,  0.        ,  0.        ,  0.        ,  0.        ,\n",
       "        0.        ,  0.        ,  0.        ,  1.        ,  0.        ,\n",
       "        0.        ,  0.        ,  0.        ,  0.        ,  0.        ,\n",
       "        0.        ,  0.        ,  0.        ,  0.        ,  0.        ,\n",
       "        1.        ,  0.        ,  1.        ,  0.58778525,  0.80901699,\n",
       "        0.91354546,  0.40673664,  0.10452846,  0.9945219 , -0.8660254 ,\n",
       "       -0.5       ,  0.58778525,  0.80901699,  0.91354546,  0.40673664,\n",
       "        0.10452846,  0.9945219 , -0.80901699,  0.58778525])"
      ]
     },
     "execution_count": 23,
     "metadata": {},
     "output_type": "execute_result"
    }
   ],
   "source": [
    "X_train_scaled[25974]"
   ]
  },
  {
   "cell_type": "code",
   "execution_count": 27,
   "id": "d9df8b10",
   "metadata": {},
   "outputs": [
    {
     "data": {
      "text/plain": [
       "TRAIN_SERVICE_CODE_AFFECTED    21252001\n",
       "SERVICE_GROUP_CODE_AFFECTED        EK99\n",
       "ENGLISH_DAY_TYPE                     WD\n",
       "APP_TIMETABLE_FLAG_AFF                Y\n",
       "UNIT_CLASS_AFFECTED               315.0\n",
       "INCIDENT_REASON                       O\n",
       "PERFORMANCE_EVENT_CODE                M\n",
       "Lat_OR                         51.63309\n",
       "Lon_OR                          0.00989\n",
       "Lat_DES                        51.63309\n",
       "Lon_DES                         0.00989\n",
       "ORIG_MONTH_SIN                 0.587785\n",
       "ORIG_MONTH_COS                 0.809017\n",
       "ORIG_DAY_SIN                   0.913545\n",
       "ORIG_DAY_COS                   0.406737\n",
       "ORIG_HOUR_SIN                  0.104528\n",
       "ORIG_HOUR_COS                  0.994522\n",
       "ORIG_MINUTE_SIN               -0.866025\n",
       "ORIG_MINUTE_COS                    -0.5\n",
       "DEST_MONTH_SIN                 0.587785\n",
       "DEST_MONTH_COS                 0.809017\n",
       "DEST_DAY_SIN                   0.913545\n",
       "DEST_DAY_COS                   0.406737\n",
       "DEST_HOUR_SIN                  0.104528\n",
       "DEST_HOUR_COS                  0.994522\n",
       "DEST_MINUTE_SIN               -0.809017\n",
       "DEST_MINUTE_COS                0.587785\n",
       "Name: 62106, dtype: object"
      ]
     },
     "execution_count": 27,
     "metadata": {},
     "output_type": "execute_result"
    }
   ],
   "source": [
    "X_train.iloc[25974,:]"
   ]
  }
 ],
 "metadata": {
  "kernelspec": {
   "display_name": "Python 3 (ipykernel)",
   "language": "python",
   "name": "python3"
  },
  "language_info": {
   "codemirror_mode": {
    "name": "ipython",
    "version": 3
   },
   "file_extension": ".py",
   "mimetype": "text/x-python",
   "name": "python",
   "nbconvert_exporter": "python",
   "pygments_lexer": "ipython3",
   "version": "3.10.6"
  },
  "toc": {
   "base_numbering": 1,
   "nav_menu": {},
   "number_sections": true,
   "sideBar": true,
   "skip_h1_title": false,
   "title_cell": "Table of Contents",
   "title_sidebar": "Contents",
   "toc_cell": false,
   "toc_position": {},
   "toc_section_display": true,
   "toc_window_display": false
  }
 },
 "nbformat": 4,
 "nbformat_minor": 5
}
