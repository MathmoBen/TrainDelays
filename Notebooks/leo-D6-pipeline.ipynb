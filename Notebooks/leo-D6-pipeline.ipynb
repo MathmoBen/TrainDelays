{
 "cells": [
  {
   "cell_type": "code",
   "execution_count": 1,
   "id": "6fec02c1",
   "metadata": {},
   "outputs": [],
   "source": [
    "import pandas as pd\n",
    "import numpy as np\n",
    "pd.set_option('display.max_rows', 70)\n",
    "pd.set_option('display.max_columns', 50)"
   ]
  },
  {
   "cell_type": "code",
   "execution_count": 2,
   "id": "426ed543",
   "metadata": {},
   "outputs": [
    {
     "name": "stdout",
     "output_type": "stream",
     "text": [
      "<class 'pandas.core.frame.DataFrame'>\n",
      "RangeIndex: 482600 entries, 0 to 482599\n",
      "Data columns (total 13 columns):\n",
      " #   Column                        Non-Null Count   Dtype  \n",
      "---  ------                        --------------   -----  \n",
      " 0   EVENT_DATETIME                482600 non-null  object \n",
      " 1   TRAIN_SERVICE_CODE_AFFECTED   482600 non-null  object \n",
      " 2   ENGLISH_DAY_TYPE              482600 non-null  object \n",
      " 3   APP_TIMETABLE_FLAG_AFF        482600 non-null  object \n",
      " 4   TRAIN_SCHEDULE_TYPE_AFFECTED  482600 non-null  object \n",
      " 5   TRACTION_TYPE_AFFECTED        482600 non-null  object \n",
      " 6   UNIT_CLASS_AFFECTED           482600 non-null  object \n",
      " 7   INCIDENT_REASON               482600 non-null  object \n",
      " 8   Lat_OR                        482600 non-null  float64\n",
      " 9   Lon_OR                        482600 non-null  float64\n",
      " 10  Lat_DES                       482600 non-null  float64\n",
      " 11  Lon_DES                       482600 non-null  float64\n",
      " 12  PFPI_MINUTES                  482600 non-null  float64\n",
      "dtypes: float64(5), object(8)\n",
      "memory usage: 47.9+ MB\n"
     ]
    }
   ],
   "source": [
    "df = pd.read_csv('../data/EK_trimmed.csv')\n",
    "df.loc[:, 'TRAIN_SERVICE_CODE_AFFECTED'] = df['TRAIN_SERVICE_CODE_AFFECTED'].astype(str)\n",
    "df.loc[:, 'UNIT_CLASS_AFFECTED'] = df['UNIT_CLASS_AFFECTED'].astype(str)\n",
    "df.info()"
   ]
  },
  {
   "cell_type": "code",
   "execution_count": 3,
   "id": "4840ef60",
   "metadata": {},
   "outputs": [],
   "source": [
    "df.loc[:, 'EVENT_DATETIME'] = pd.to_datetime(df.EVENT_DATETIME)\n",
    "df.loc[:, 'MONTH'] = df.EVENT_DATETIME.dt.month\n",
    "df.loc[:, 'DAY'] = df.EVENT_DATETIME.dt.day\n",
    "df.loc[:, 'HOUR'] = df.EVENT_DATETIME.dt.hour\n",
    "df.loc[:, 'MINUTE'] = df.EVENT_DATETIME.dt.minute\n",
    "df.drop(columns='EVENT_DATETIME', inplace = True)"
   ]
  },
  {
   "cell_type": "code",
   "execution_count": 4,
   "id": "886395c4",
   "metadata": {},
   "outputs": [],
   "source": [
    "from sklearn.compose import ColumnTransformer\n",
    "\n",
    "from sklearn.pipeline import Pipeline\n",
    "from sklearn.impute import SimpleImputer\n",
    "from sklearn.preprocessing import MinMaxScaler\n",
    "from sklearn.model_selection import train_test_split\n",
    "from sklearn.preprocessing import OneHotEncoder\n",
    "from sklearn import set_config; set_config(display='diagram')\n"
   ]
  },
  {
   "cell_type": "code",
   "execution_count": 5,
   "id": "ab2ec582",
   "metadata": {},
   "outputs": [],
   "source": [
    "num_transformer = MinMaxScaler()\n",
    "\n",
    "cat_transformer = OneHotEncoder(handle_unknown='ignore', drop='if_binary')\n",
    "\n",
    "from sklearn.preprocessing import FunctionTransformer\n",
    "\n",
    "\n",
    "def sin_transformer(period):\n",
    "    return FunctionTransformer(lambda x: np.sin(x / period * 2 * np.pi))\n",
    "\n",
    "\n",
    "def cos_transformer(period):\n",
    "    return FunctionTransformer(lambda x: np.cos(x / period * 2 * np.pi))\n",
    "\n",
    "\n",
    "preprocessor = ColumnTransformer([\n",
    "    ('num_transformer', num_transformer, ['Lat_OR', 'Lon_OR', 'Lat_DES', 'Lon_DES']),\n",
    "    ('cat_transformer', cat_transformer, ['TRAIN_SERVICE_CODE_AFFECTED', 'ENGLISH_DAY_TYPE', 'APP_TIMETABLE_FLAG_AFF', 'TRAIN_SCHEDULE_TYPE_AFFECTED', 'TRACTION_TYPE_AFFECTED', 'UNIT_CLASS_AFFECTED', 'INCIDENT_REASON' ]),\n",
    "    ('month_sin', sin_transformer(12), ['MONTH']),\n",
    "    ('month_cos', cos_transformer(12), ['MONTH']),\n",
    "    ('day_sin', sin_transformer(12), ['DAY']),\n",
    "    ('day_cos', cos_transformer(12), ['DAY']),\n",
    "    ('hour_sin', sin_transformer(12), ['HOUR']),\n",
    "    ('hour_cos', cos_transformer(12), ['HOUR']),\n",
    "    ('minute_sin', sin_transformer(12), ['MINUTE']),\n",
    "    ('minute_cos', cos_transformer(12), ['MINUTE'])\n",
    "], sparse_threshold=0)"
   ]
  },
  {
   "cell_type": "code",
   "execution_count": 6,
   "id": "42717095",
   "metadata": {},
   "outputs": [],
   "source": [
    "X_train, X_test, y_train, y_test = train_test_split(df.drop(columns='PFPI_MINUTES'), np.log(df['PFPI_MINUTES']), test_size=0.3)"
   ]
  },
  {
   "cell_type": "code",
   "execution_count": 7,
   "id": "c822700e",
   "metadata": {},
   "outputs": [
    {
     "name": "stdout",
     "output_type": "stream",
     "text": [
      "(337820, 15)\n",
      "(144780, 15)\n"
     ]
    }
   ],
   "source": [
    "print(X_train.shape)\n",
    "print(X_test.shape)"
   ]
  },
  {
   "cell_type": "code",
   "execution_count": 8,
   "id": "3a0e1992",
   "metadata": {
    "scrolled": false
   },
   "outputs": [],
   "source": [
    "X_train_scaled = preprocessor.fit_transform(X_train)\n",
    "X_test_scaled = preprocessor.transform(X_test)"
   ]
  },
  {
   "cell_type": "code",
   "execution_count": 9,
   "id": "bc996508",
   "metadata": {},
   "outputs": [
    {
     "data": {
      "text/plain": [
       "(array([9.23000e+02, 1.21096e+05, 1.81032e+05, 9.83960e+04, 5.99910e+04,\n",
       "        1.50110e+04, 4.73300e+03, 1.16100e+03, 1.52000e+02, 1.05000e+02]),\n",
       " array([-0.7985077 , -0.15697982,  0.48454806,  1.12607594,  1.76760382,\n",
       "         2.4091317 ,  3.05065958,  3.69218746,  4.33371534,  4.97524322,\n",
       "         5.6167711 ]),\n",
       " <BarContainer object of 10 artists>)"
      ]
     },
     "execution_count": 9,
     "metadata": {},
     "output_type": "execute_result"
    },
    {
     "data": {
      "image/png": "[encoded data removed]",
      "text/plain": [
       "<Figure size 640x480 with 1 Axes>"
      ]
     },
     "metadata": {},
     "output_type": "display_data"
    }
   ],
   "source": [
    "import matplotlib.pyplot as plt\n",
    "plt.hist(np.log(df['PFPI_MINUTES']))"
   ]
  },
  {
   "cell_type": "code",
   "execution_count": 10,
   "id": "c0447beb",
   "metadata": {},
   "outputs": [],
   "source": [
    "# Create your new scorer to minimize\n",
    "from sklearn.metrics import make_scorer\n",
    "\n",
    "from sklearn.metrics import mean_squared_error\n",
    "rmse = make_scorer(lambda y_true, y_pred: mean_squared_error(y_true, y_pred)**0.5)\n",
    "\n",
    "# Create your new scorer to maximize\n",
    "rmse_neg = make_scorer(lambda y_true, y_pred: -1 * mean_squared_error(y_true, y_pred)**0.5)"
   ]
  },
  {
   "cell_type": "code",
   "execution_count": 11,
   "id": "cb394462",
   "metadata": {},
   "outputs": [
    {
     "data": {
      "text/plain": [
       "0.6655966806331571"
      ]
     },
     "execution_count": 11,
     "metadata": {},
     "output_type": "execute_result"
    }
   ],
   "source": [
    "from sklearn.linear_model import LinearRegression\n",
    "from sklearn.model_selection import cross_val_score\n",
    "\n",
    "model_lin = LinearRegression()\n",
    "\n",
    "cross_val_score(model_lin, X_train_scaled, y_train, cv=10, scoring=rmse).mean()"
   ]
  },
  {
   "cell_type": "code",
   "execution_count": 12,
   "id": "d00743c3",
   "metadata": {},
   "outputs": [
    {
     "data": {
      "text/plain": [
       "<contextlib._GeneratorContextManager at 0x7fcad68bca90>"
      ]
     },
     "execution_count": 12,
     "metadata": {},
     "output_type": "execute_result"
    }
   ],
   "source": [
    "from xgboost import XGBRegressor\n",
    "import xgboost\n",
    "xgboost.config_context(verbosity = 2)"
   ]
  },
  {
   "cell_type": "code",
   "execution_count": 13,
   "id": "12c45d37",
   "metadata": {},
   "outputs": [],
   "source": [
    "model_xgb = XGBRegressor(max_depth=10, n_estimators=500, learning_rate=0.01, n_jobs = -1)"
   ]
  },
  {
   "cell_type": "code",
   "execution_count": 14,
   "id": "fad156d2",
   "metadata": {},
   "outputs": [
    {
     "data": {
      "text/plain": [
       "0.5331671574595769"
      ]
     },
     "execution_count": 14,
     "metadata": {},
     "output_type": "execute_result"
    }
   ],
   "source": [
    "cross_val_score(model_xgb, X_train_scaled, y_train, cv=10, scoring=rmse).mean()"
   ]
  },
  {
   "cell_type": "code",
   "execution_count": 15,
   "id": "932f9fa5",
   "metadata": {},
   "outputs": [
    {
     "data": {
      "text/plain": [
       "0.2740068163761622"
      ]
     },
     "execution_count": 15,
     "metadata": {},
     "output_type": "execute_result"
    }
   ],
   "source": [
    "model_lin.fit(X_train_scaled, y_train)\n",
    "model_lin.score(X_test_scaled, y_test)"
   ]
  },
  {
   "cell_type": "code",
   "execution_count": 16,
   "id": "e53fa5ff",
   "metadata": {},
   "outputs": [
    {
     "data": {
      "text/plain": [
       "367621     4.0\n",
       "280695     3.0\n",
       "324422     1.0\n",
       "2318       6.0\n",
       "51761      2.0\n",
       "          ... \n",
       "273490     3.0\n",
       "112556     3.0\n",
       "35185      2.0\n",
       "244545    11.0\n",
       "209350     5.0\n",
       "Name: PFPI_MINUTES, Length: 144780, dtype: float64"
      ]
     },
     "execution_count": 16,
     "metadata": {},
     "output_type": "execute_result"
    }
   ],
   "source": [
    "np.exp(y_test)"
   ]
  },
  {
   "cell_type": "code",
   "execution_count": 17,
   "id": "fccccfea",
   "metadata": {},
   "outputs": [
    {
     "data": {
      "text/plain": [
       "array([3.46064531, 1.30456433, 2.19167911, ..., 2.80799499, 1.61485965,\n",
       "       2.02301676])"
      ]
     },
     "execution_count": 17,
     "metadata": {},
     "output_type": "execute_result"
    }
   ],
   "source": [
    "np.exp(model_lin.predict(X_test_scaled))"
   ]
  },
  {
   "cell_type": "code",
   "execution_count": 18,
   "id": "83eff131",
   "metadata": {},
   "outputs": [
    {
     "data": {
      "text/plain": [
       "367621    0.539355\n",
       "280695    1.695436\n",
       "324422    1.191679\n",
       "2318      1.171852\n",
       "51761     1.318334\n",
       "            ...   \n",
       "273490    0.296939\n",
       "112556    0.495190\n",
       "35185     0.807995\n",
       "244545    9.385140\n",
       "209350    2.976983\n",
       "Name: PFPI_MINUTES, Length: 144780, dtype: float64"
      ]
     },
     "execution_count": 18,
     "metadata": {},
     "output_type": "execute_result"
    }
   ],
   "source": [
    "np.abs(np.exp(y_test) - np.exp(model_lin.predict(X_test_scaled)))"
   ]
  },
  {
   "cell_type": "code",
   "execution_count": 19,
   "id": "1f3d30ec",
   "metadata": {},
   "outputs": [
    {
     "data": {
      "text/plain": [
       "0.03267865143441473"
      ]
     },
     "execution_count": 19,
     "metadata": {},
     "output_type": "execute_result"
    }
   ],
   "source": [
    "from sklearn.metrics import r2_score\n",
    "\n",
    "r2_score(np.exp(y_test), np.exp(model_lin.predict(X_test_scaled)))"
   ]
  }
 ],
 "metadata": {
  "kernelspec": {
   "display_name": "Python 3 (ipykernel)",
   "language": "python",
   "name": "python3"
  },
  "language_info": {
   "codemirror_mode": {
    "name": "ipython",
    "version": 3
   },
   "file_extension": ".py",
   "mimetype": "text/x-python",
   "name": "python",
   "nbconvert_exporter": "python",
   "pygments_lexer": "ipython3",
   "version": "3.10.6"
  },
  "toc": {
   "base_numbering": 1,
   "nav_menu": {},
   "number_sections": true,
   "sideBar": true,
   "skip_h1_title": false,
   "title_cell": "Table of Contents",
   "title_sidebar": "Contents",
   "toc_cell": false,
   "toc_position": {},
   "toc_section_display": true,
   "toc_window_display": false
  }
 },
 "nbformat": 4,
 "nbformat_minor": 5
}
