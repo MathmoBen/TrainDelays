{
 "cells": [
  {
   "cell_type": "code",
   "execution_count": 1,
   "metadata": {},
   "outputs": [],
   "source": [
    "import pandas as pd\n",
    "import numpy as np\n"
   ]
  },
  {
   "cell_type": "code",
   "execution_count": 2,
   "metadata": {},
   "outputs": [],
   "source": [
    "p1 = pd.read_csv('data/2019 Train Delays/2019-20 P1.csv')"
   ]
  },
  {
   "cell_type": "code",
   "execution_count": 5,
   "metadata": {},
   "outputs": [],
   "source": [
    "p5 = pd.read_csv('data/2019 Train Delays/2019-20 P5.csv')"
   ]
  },
  {
   "cell_type": "code",
   "execution_count": 6,
   "metadata": {},
   "outputs": [
    {
     "data": {
      "text/html": [
       "<div>\n",
       "<style scoped>\n",
       "    .dataframe tbody tr th:only-of-type {\n",
       "        vertical-align: middle;\n",
       "    }\n",
       "\n",
       "    .dataframe tbody tr th {\n",
       "        vertical-align: top;\n",
       "    }\n",
       "\n",
       "    .dataframe thead th {\n",
       "        text-align: right;\n",
       "    }\n",
       "</style>\n",
       "<table border=\"1\" class=\"dataframe\">\n",
       "  <thead>\n",
       "    <tr style=\"text-align: right;\">\n",
       "      <th></th>\n",
       "      <th>INCIDENT_NUMBER</th>\n",
       "    </tr>\n",
       "  </thead>\n",
       "  <tbody>\n",
       "    <tr>\n",
       "      <th>0</th>\n",
       "      <td>893340</td>\n",
       "    </tr>\n",
       "    <tr>\n",
       "      <th>1</th>\n",
       "      <td>893340</td>\n",
       "    </tr>\n",
       "    <tr>\n",
       "      <th>2</th>\n",
       "      <td>893342</td>\n",
       "    </tr>\n",
       "    <tr>\n",
       "      <th>3</th>\n",
       "      <td>893342</td>\n",
       "    </tr>\n",
       "    <tr>\n",
       "      <th>4</th>\n",
       "      <td>893342</td>\n",
       "    </tr>\n",
       "  </tbody>\n",
       "</table>\n",
       "</div>"
      ],
      "text/plain": [
       "   INCIDENT_NUMBER\n",
       "0           893340\n",
       "1           893340\n",
       "2           893342\n",
       "3           893342\n",
       "4           893342"
      ]
     },
     "execution_count": 6,
     "metadata": {},
     "output_type": "execute_result"
    }
   ],
   "source": [
    "p1[['INCIDENT_NUMBER']].head()"
   ]
  },
  {
   "cell_type": "code",
   "execution_count": 19,
   "metadata": {},
   "outputs": [
    {
     "data": {
      "text/plain": [
       "Index(['financial_year_period', 'origin_departure_date', 'trust_train_id',\n",
       "       'planned_origin_location_code', 'planned_origin_wtt_datetime',\n",
       "       'planned_origin_gbtt_datetime', 'planned_dest_location_code',\n",
       "       'planned_dest_wtt_datetime', 'planned_dest_gbtt_datetime',\n",
       "       'train_service_code', 'service_group_code', 'toc_code',\n",
       "       'english_day_type', 'applicable_timetable_flag', 'train_schedule_type',\n",
       "       'traction_type', 'trailing_load', 'timing_load', 'unit_class',\n",
       "       'incident_number', 'incident_create_date', 'incident_start_datetime',\n",
       "       'incident_end_datetime', 'section_code', 'nr_location_manager',\n",
       "       'resp_manager', 'incident_reason', 'attribution_status',\n",
       "       'incident_equipment', 'incident_description', 'react_reason',\n",
       "       'incident_resp_train', 'resp_train', 'react_train', 'event_type',\n",
       "       'start_stanox', 'end_stanox', 'event_datetime', 'pfpi_minutes',\n",
       "       'non_pfpi_minutes'],\n",
       "      dtype='object')"
      ]
     },
     "execution_count": 19,
     "metadata": {},
     "output_type": "execute_result"
    }
   ],
   "source": [
    "column_names = [p5.columns[i].upper(i) for i in range(len(p5.columns))]"
   ]
  },
  {
   "cell_type": "code",
   "execution_count": null,
   "metadata": {},
   "outputs": [],
   "source": [
    "p5.columns"
   ]
  },
  {
   "cell_type": "code",
   "execution_count": 2,
   "metadata": {},
   "outputs": [],
   "source": [
    "P5_2019 = pd.read_csv('data/2019 Train Delays/2019-20 P5.csv')\n"
   ]
  },
  {
   "cell_type": "code",
   "execution_count": 3,
   "metadata": {},
   "outputs": [],
   "source": [
    "P5_2019.incident_number.dropna(axis=0, inplace=True)\n"
   ]
  },
  {
   "cell_type": "code",
   "execution_count": 4,
   "metadata": {},
   "outputs": [
    {
     "data": {
      "text/plain": [
       "0         NaN\n",
       "1         NaN\n",
       "2         NaN\n",
       "3         NaN\n",
       "4    169889.0\n",
       "Name: incident_number, dtype: float64"
      ]
     },
     "execution_count": 4,
     "metadata": {},
     "output_type": "execute_result"
    }
   ],
   "source": [
    "P5_2019.incident_number.head()\n"
   ]
  },
  {
   "cell_type": "code",
   "execution_count": 7,
   "metadata": {},
   "outputs": [],
   "source": [
    "P5_2019.dropna(inplace=True, subset=['incident_number'])\n"
   ]
  },
  {
   "cell_type": "code",
   "execution_count": 11,
   "metadata": {},
   "outputs": [],
   "source": [
    "P5_2019.incident_number = P5_2019.incident_number.astype(int)\n"
   ]
  },
  {
   "cell_type": "code",
   "execution_count": 12,
   "metadata": {},
   "outputs": [
    {
     "data": {
      "text/plain": [
       "financial_year_period            object\n",
       "origin_departure_date            object\n",
       "trust_train_id                   object\n",
       "planned_origin_location_code    float64\n",
       "planned_origin_wtt_datetime      object\n",
       "planned_origin_gbtt_datetime     object\n",
       "planned_dest_location_code      float64\n",
       "planned_dest_wtt_datetime        object\n",
       "planned_dest_gbtt_datetime       object\n",
       "train_service_code              float64\n",
       "service_group_code               object\n",
       "toc_code                         object\n",
       "english_day_type                 object\n",
       "applicable_timetable_flag        object\n",
       "train_schedule_type              object\n",
       "traction_type                    object\n",
       "trailing_load                   float64\n",
       "timing_load                      object\n",
       "unit_class                      float64\n",
       "incident_number                   int64\n",
       "incident_create_date             object\n",
       "incident_start_datetime          object\n",
       "incident_end_datetime            object\n",
       "section_code                     object\n",
       "nr_location_manager              object\n",
       "resp_manager                     object\n",
       "incident_reason                  object\n",
       "attribution_status               object\n",
       "incident_equipment               object\n",
       "incident_description             object\n",
       "react_reason                     object\n",
       "incident_resp_train              object\n",
       "resp_train                       object\n",
       "react_train                      object\n",
       "event_type                       object\n",
       "start_stanox                    float64\n",
       "end_stanox                      float64\n",
       "event_datetime                   object\n",
       "pfpi_minutes                    float64\n",
       "non_pfpi_minutes                float64\n",
       "dtype: object"
      ]
     },
     "execution_count": 12,
     "metadata": {},
     "output_type": "execute_result"
    }
   ],
   "source": [
    "P5_2019.dtypes\n"
   ]
  },
  {
   "cell_type": "code",
   "execution_count": 13,
   "metadata": {},
   "outputs": [],
   "source": [
    "P5_2019.to_csv('data/2019 Train Delays/2019-20 P5 2.csv')\n"
   ]
  },
  {
   "cell_type": "code",
   "execution_count": 17,
   "metadata": {},
   "outputs": [],
   "source": [
    "P5_2019.start_stanox=P5_2019.start_stanox.astype(int)\n"
   ]
  },
  {
   "cell_type": "code",
   "execution_count": 19,
   "metadata": {},
   "outputs": [
    {
     "data": {
      "text/plain": [
       "dtype('int64')"
      ]
     },
     "execution_count": 19,
     "metadata": {},
     "output_type": "execute_result"
    }
   ],
   "source": [
    "P5_2019.start_stanox.dtype\n"
   ]
  },
  {
   "cell_type": "code",
   "execution_count": 21,
   "metadata": {},
   "outputs": [
    {
     "data": {
      "text/plain": [
       "financial_year_period            object\n",
       "origin_departure_date            object\n",
       "trust_train_id                   object\n",
       "planned_origin_location_code    float64\n",
       "planned_origin_wtt_datetime      object\n",
       "planned_origin_gbtt_datetime     object\n",
       "planned_dest_location_code      float64\n",
       "planned_dest_wtt_datetime        object\n",
       "planned_dest_gbtt_datetime       object\n",
       "train_service_code              float64\n",
       "service_group_code               object\n",
       "toc_code                         object\n",
       "english_day_type                 object\n",
       "applicable_timetable_flag        object\n",
       "train_schedule_type              object\n",
       "traction_type                    object\n",
       "trailing_load                   float64\n",
       "timing_load                      object\n",
       "unit_class                      float64\n",
       "incident_number                   int64\n",
       "incident_create_date             object\n",
       "incident_start_datetime          object\n",
       "incident_end_datetime            object\n",
       "section_code                     object\n",
       "nr_location_manager              object\n",
       "resp_manager                     object\n",
       "incident_reason                  object\n",
       "attribution_status               object\n",
       "incident_equipment               object\n",
       "incident_description             object\n",
       "react_reason                     object\n",
       "incident_resp_train              object\n",
       "resp_train                       object\n",
       "react_train                      object\n",
       "event_type                       object\n",
       "start_stanox                      int64\n",
       "end_stanox                      float64\n",
       "event_datetime                   object\n",
       "pfpi_minutes                    float64\n",
       "non_pfpi_minutes                float64\n",
       "dtype: object"
      ]
     },
     "execution_count": 21,
     "metadata": {},
     "output_type": "execute_result"
    }
   ],
   "source": [
    "P5_2019.dtypes\n"
   ]
  },
  {
   "cell_type": "code",
   "execution_count": 20,
   "metadata": {},
   "outputs": [],
   "source": [
    "P5_2019.to_csv('data/2019 Train Delays/2019-20 P5 2.csv')\n"
   ]
  },
  {
   "cell_type": "code",
   "execution_count": 24,
   "metadata": {},
   "outputs": [],
   "source": [
    "P5_2019.end_stanox=P5_2019.end_stanox.astype(int)\n"
   ]
  },
  {
   "cell_type": "code",
   "execution_count": 25,
   "metadata": {},
   "outputs": [
    {
     "data": {
      "text/plain": [
       "dtype('int64')"
      ]
     },
     "execution_count": 25,
     "metadata": {},
     "output_type": "execute_result"
    }
   ],
   "source": [
    "P5_2019.end_stanox.dtype\n"
   ]
  },
  {
   "cell_type": "code",
   "execution_count": 26,
   "metadata": {},
   "outputs": [],
   "source": [
    "P5_2019.to_csv('data/2019 Train Delays/2019-20 P5 2.csv')\n"
   ]
  },
  {
   "cell_type": "code",
   "execution_count": 28,
   "metadata": {},
   "outputs": [
    {
     "data": {
      "text/plain": [
       "financial_year_period            object\n",
       "origin_departure_date            object\n",
       "trust_train_id                   object\n",
       "planned_origin_location_code    float64\n",
       "planned_origin_wtt_datetime      object\n",
       "planned_origin_gbtt_datetime     object\n",
       "planned_dest_location_code      float64\n",
       "planned_dest_wtt_datetime        object\n",
       "planned_dest_gbtt_datetime       object\n",
       "train_service_code              float64\n",
       "service_group_code               object\n",
       "toc_code                         object\n",
       "english_day_type                 object\n",
       "applicable_timetable_flag        object\n",
       "train_schedule_type              object\n",
       "traction_type                    object\n",
       "trailing_load                   float64\n",
       "timing_load                      object\n",
       "unit_class                      float64\n",
       "incident_number                   int64\n",
       "incident_create_date             object\n",
       "incident_start_datetime          object\n",
       "incident_end_datetime            object\n",
       "section_code                     object\n",
       "nr_location_manager              object\n",
       "resp_manager                     object\n",
       "incident_reason                  object\n",
       "attribution_status               object\n",
       "incident_equipment               object\n",
       "incident_description             object\n",
       "react_reason                     object\n",
       "incident_resp_train              object\n",
       "resp_train                       object\n",
       "react_train                      object\n",
       "event_type                       object\n",
       "start_stanox                      int64\n",
       "end_stanox                        int64\n",
       "event_datetime                   object\n",
       "pfpi_minutes                    float64\n",
       "non_pfpi_minutes                float64\n",
       "dtype: object"
      ]
     },
     "execution_count": 28,
     "metadata": {},
     "output_type": "execute_result"
    }
   ],
   "source": [
    "P5_2019.dtypes\n"
   ]
  },
  {
   "cell_type": "code",
   "execution_count": 29,
   "metadata": {},
   "outputs": [
    {
     "data": {
      "text/html": [
       "<div>\n",
       "<style scoped>\n",
       "    .dataframe tbody tr th:only-of-type {\n",
       "        vertical-align: middle;\n",
       "    }\n",
       "\n",
       "    .dataframe tbody tr th {\n",
       "        vertical-align: top;\n",
       "    }\n",
       "\n",
       "    .dataframe thead th {\n",
       "        text-align: right;\n",
       "    }\n",
       "</style>\n",
       "<table border=\"1\" class=\"dataframe\">\n",
       "  <thead>\n",
       "    <tr style=\"text-align: right;\">\n",
       "      <th></th>\n",
       "      <th>financial_year_period</th>\n",
       "      <th>origin_departure_date</th>\n",
       "      <th>trust_train_id</th>\n",
       "      <th>planned_origin_location_code</th>\n",
       "      <th>planned_origin_wtt_datetime</th>\n",
       "      <th>planned_origin_gbtt_datetime</th>\n",
       "      <th>planned_dest_location_code</th>\n",
       "      <th>planned_dest_wtt_datetime</th>\n",
       "      <th>planned_dest_gbtt_datetime</th>\n",
       "      <th>train_service_code</th>\n",
       "      <th>...</th>\n",
       "      <th>react_reason</th>\n",
       "      <th>incident_resp_train</th>\n",
       "      <th>resp_train</th>\n",
       "      <th>react_train</th>\n",
       "      <th>event_type</th>\n",
       "      <th>start_stanox</th>\n",
       "      <th>end_stanox</th>\n",
       "      <th>event_datetime</th>\n",
       "      <th>pfpi_minutes</th>\n",
       "      <th>non_pfpi_minutes</th>\n",
       "    </tr>\n",
       "  </thead>\n",
       "  <tbody>\n",
       "    <tr>\n",
       "      <th>4</th>\n",
       "      <td>2019/20_P05</td>\n",
       "      <td>21-Jul-19</td>\n",
       "      <td>252Y04MY21</td>\n",
       "      <td>25701.0</td>\n",
       "      <td>21/07/2019 19:00</td>\n",
       "      <td>21/07/2019 19:00</td>\n",
       "      <td>16416.0</td>\n",
       "      <td>21/07/2019 20:15</td>\n",
       "      <td>21/07/2019 20:16</td>\n",
       "      <td>21845000.0</td>\n",
       "      <td>...</td>\n",
       "      <td>NaN</td>\n",
       "      <td>NaN</td>\n",
       "      <td>NaN</td>\n",
       "      <td>NaN</td>\n",
       "      <td>M</td>\n",
       "      <td>16503</td>\n",
       "      <td>16495</td>\n",
       "      <td>21/07/2019 20:08</td>\n",
       "      <td>13.0</td>\n",
       "      <td>0.0</td>\n",
       "    </tr>\n",
       "    <tr>\n",
       "      <th>5</th>\n",
       "      <td>2019/20_P05</td>\n",
       "      <td>21-Jul-19</td>\n",
       "      <td>252Y04MY21</td>\n",
       "      <td>25701.0</td>\n",
       "      <td>21/07/2019 19:00</td>\n",
       "      <td>21/07/2019 19:00</td>\n",
       "      <td>16416.0</td>\n",
       "      <td>21/07/2019 20:15</td>\n",
       "      <td>21/07/2019 20:16</td>\n",
       "      <td>21845000.0</td>\n",
       "      <td>...</td>\n",
       "      <td>YA</td>\n",
       "      <td>NaN</td>\n",
       "      <td>NaN</td>\n",
       "      <td>121M76MY21</td>\n",
       "      <td>M</td>\n",
       "      <td>16460</td>\n",
       "      <td>16416</td>\n",
       "      <td>21/07/2019 20:26</td>\n",
       "      <td>4.0</td>\n",
       "      <td>0.0</td>\n",
       "    </tr>\n",
       "    <tr>\n",
       "      <th>6</th>\n",
       "      <td>2019/20_P05</td>\n",
       "      <td>21-Jul-19</td>\n",
       "      <td>482P20MV21</td>\n",
       "      <td>48231.0</td>\n",
       "      <td>21/07/2019 17:36</td>\n",
       "      <td>21/07/2019 17:36</td>\n",
       "      <td>48053.0</td>\n",
       "      <td>21/07/2019 18:06</td>\n",
       "      <td>21/07/2019 18:07</td>\n",
       "      <td>21896002.0</td>\n",
       "      <td>...</td>\n",
       "      <td>NaN</td>\n",
       "      <td>NaN</td>\n",
       "      <td>NaN</td>\n",
       "      <td>NaN</td>\n",
       "      <td>M</td>\n",
       "      <td>48215</td>\n",
       "      <td>48056</td>\n",
       "      <td>21/07/2019 17:58</td>\n",
       "      <td>3.0</td>\n",
       "      <td>0.0</td>\n",
       "    </tr>\n",
       "    <tr>\n",
       "      <th>7</th>\n",
       "      <td>2019/20_P05</td>\n",
       "      <td>21-Jul-19</td>\n",
       "      <td>011M16MY21</td>\n",
       "      <td>1100.0</td>\n",
       "      <td>21/07/2019 20:26</td>\n",
       "      <td>21/07/2019 20:26</td>\n",
       "      <td>72410.0</td>\n",
       "      <td>22/07/2019 07:47</td>\n",
       "      <td>22/07/2019 07:49</td>\n",
       "      <td>23558003.0</td>\n",
       "      <td>...</td>\n",
       "      <td>NaN</td>\n",
       "      <td>NaN</td>\n",
       "      <td>NaN</td>\n",
       "      <td>NaN</td>\n",
       "      <td>M</td>\n",
       "      <td>7981</td>\n",
       "      <td>9095</td>\n",
       "      <td>22/07/2019 02:47</td>\n",
       "      <td>3.0</td>\n",
       "      <td>0.0</td>\n",
       "    </tr>\n",
       "    <tr>\n",
       "      <th>8</th>\n",
       "      <td>2019/20_P05</td>\n",
       "      <td>21-Jul-19</td>\n",
       "      <td>352U10MB21</td>\n",
       "      <td>35001.0</td>\n",
       "      <td>21/07/2019 07:58</td>\n",
       "      <td>21/07/2019 07:58</td>\n",
       "      <td>36080.0</td>\n",
       "      <td>21/07/2019 08:43</td>\n",
       "      <td>21/07/2019 08:43</td>\n",
       "      <td>12302012.0</td>\n",
       "      <td>...</td>\n",
       "      <td>NaN</td>\n",
       "      <td>NaN</td>\n",
       "      <td>NaN</td>\n",
       "      <td>NaN</td>\n",
       "      <td>M</td>\n",
       "      <td>35001</td>\n",
       "      <td>36066</td>\n",
       "      <td>21/07/2019 08:21</td>\n",
       "      <td>6.0</td>\n",
       "      <td>0.0</td>\n",
       "    </tr>\n",
       "  </tbody>\n",
       "</table>\n",
       "<p>5 rows × 40 columns</p>\n",
       "</div>"
      ],
      "text/plain": [
       "  financial_year_period origin_departure_date trust_train_id  \\\n",
       "4           2019/20_P05             21-Jul-19     252Y04MY21   \n",
       "5           2019/20_P05             21-Jul-19     252Y04MY21   \n",
       "6           2019/20_P05             21-Jul-19     482P20MV21   \n",
       "7           2019/20_P05             21-Jul-19     011M16MY21   \n",
       "8           2019/20_P05             21-Jul-19     352U10MB21   \n",
       "\n",
       "   planned_origin_location_code planned_origin_wtt_datetime  \\\n",
       "4                       25701.0            21/07/2019 19:00   \n",
       "5                       25701.0            21/07/2019 19:00   \n",
       "6                       48231.0            21/07/2019 17:36   \n",
       "7                        1100.0            21/07/2019 20:26   \n",
       "8                       35001.0            21/07/2019 07:58   \n",
       "\n",
       "  planned_origin_gbtt_datetime  planned_dest_location_code  \\\n",
       "4             21/07/2019 19:00                     16416.0   \n",
       "5             21/07/2019 19:00                     16416.0   \n",
       "6             21/07/2019 17:36                     48053.0   \n",
       "7             21/07/2019 20:26                     72410.0   \n",
       "8             21/07/2019 07:58                     36080.0   \n",
       "\n",
       "  planned_dest_wtt_datetime planned_dest_gbtt_datetime  train_service_code  \\\n",
       "4          21/07/2019 20:15           21/07/2019 20:16          21845000.0   \n",
       "5          21/07/2019 20:15           21/07/2019 20:16          21845000.0   \n",
       "6          21/07/2019 18:06           21/07/2019 18:07          21896002.0   \n",
       "7          22/07/2019 07:47           22/07/2019 07:49          23558003.0   \n",
       "8          21/07/2019 08:43           21/07/2019 08:43          12302012.0   \n",
       "\n",
       "   ... react_reason incident_resp_train resp_train react_train event_type  \\\n",
       "4  ...          NaN                 NaN        NaN         NaN          M   \n",
       "5  ...           YA                 NaN        NaN  121M76MY21          M   \n",
       "6  ...          NaN                 NaN        NaN         NaN          M   \n",
       "7  ...          NaN                 NaN        NaN         NaN          M   \n",
       "8  ...          NaN                 NaN        NaN         NaN          M   \n",
       "\n",
       "  start_stanox  end_stanox    event_datetime  pfpi_minutes  non_pfpi_minutes  \n",
       "4        16503       16495  21/07/2019 20:08          13.0               0.0  \n",
       "5        16460       16416  21/07/2019 20:26           4.0               0.0  \n",
       "6        48215       48056  21/07/2019 17:58           3.0               0.0  \n",
       "7         7981        9095  22/07/2019 02:47           3.0               0.0  \n",
       "8        35001       36066  21/07/2019 08:21           6.0               0.0  \n",
       "\n",
       "[5 rows x 40 columns]"
      ]
     },
     "execution_count": 29,
     "metadata": {},
     "output_type": "execute_result"
    }
   ],
   "source": [
    "P5_2019.head()\n"
   ]
  },
  {
   "cell_type": "code",
   "execution_count": 30,
   "metadata": {},
   "outputs": [],
   "source": [
    "P05_2019 = pd.read_csv(f'data/2019 Train Delays/2019-20 P5.csv')\n"
   ]
  },
  {
   "cell_type": "code",
   "execution_count": 32,
   "metadata": {},
   "outputs": [
    {
     "data": {
      "text/html": [
       "<div>\n",
       "<style scoped>\n",
       "    .dataframe tbody tr th:only-of-type {\n",
       "        vertical-align: middle;\n",
       "    }\n",
       "\n",
       "    .dataframe tbody tr th {\n",
       "        vertical-align: top;\n",
       "    }\n",
       "\n",
       "    .dataframe thead th {\n",
       "        text-align: right;\n",
       "    }\n",
       "</style>\n",
       "<table border=\"1\" class=\"dataframe\">\n",
       "  <thead>\n",
       "    <tr style=\"text-align: right;\">\n",
       "      <th></th>\n",
       "      <th>financial_year_period</th>\n",
       "      <th>origin_departure_date</th>\n",
       "      <th>trust_train_id</th>\n",
       "      <th>planned_origin_location_code</th>\n",
       "      <th>planned_origin_wtt_datetime</th>\n",
       "      <th>planned_origin_gbtt_datetime</th>\n",
       "      <th>planned_dest_location_code</th>\n",
       "      <th>planned_dest_wtt_datetime</th>\n",
       "      <th>planned_dest_gbtt_datetime</th>\n",
       "      <th>train_service_code</th>\n",
       "      <th>...</th>\n",
       "      <th>react_reason</th>\n",
       "      <th>incident_resp_train</th>\n",
       "      <th>resp_train</th>\n",
       "      <th>react_train</th>\n",
       "      <th>event_type</th>\n",
       "      <th>start_stanox</th>\n",
       "      <th>end_stanox</th>\n",
       "      <th>event_datetime</th>\n",
       "      <th>pfpi_minutes</th>\n",
       "      <th>non_pfpi_minutes</th>\n",
       "    </tr>\n",
       "  </thead>\n",
       "  <tbody>\n",
       "    <tr>\n",
       "      <th>4</th>\n",
       "      <td>2019/20_P05</td>\n",
       "      <td>21-Jul-19</td>\n",
       "      <td>252Y04MY21</td>\n",
       "      <td>25701.0</td>\n",
       "      <td>21/07/2019 19:00</td>\n",
       "      <td>21/07/2019 19:00</td>\n",
       "      <td>16416.0</td>\n",
       "      <td>21/07/2019 20:15</td>\n",
       "      <td>21/07/2019 20:16</td>\n",
       "      <td>21845000.0</td>\n",
       "      <td>...</td>\n",
       "      <td>NaN</td>\n",
       "      <td>NaN</td>\n",
       "      <td>NaN</td>\n",
       "      <td>NaN</td>\n",
       "      <td>M</td>\n",
       "      <td>16503.0</td>\n",
       "      <td>16495.0</td>\n",
       "      <td>21/07/2019 20:08</td>\n",
       "      <td>13.0</td>\n",
       "      <td>0.0</td>\n",
       "    </tr>\n",
       "    <tr>\n",
       "      <th>5</th>\n",
       "      <td>2019/20_P05</td>\n",
       "      <td>21-Jul-19</td>\n",
       "      <td>252Y04MY21</td>\n",
       "      <td>25701.0</td>\n",
       "      <td>21/07/2019 19:00</td>\n",
       "      <td>21/07/2019 19:00</td>\n",
       "      <td>16416.0</td>\n",
       "      <td>21/07/2019 20:15</td>\n",
       "      <td>21/07/2019 20:16</td>\n",
       "      <td>21845000.0</td>\n",
       "      <td>...</td>\n",
       "      <td>YA</td>\n",
       "      <td>NaN</td>\n",
       "      <td>NaN</td>\n",
       "      <td>121M76MY21</td>\n",
       "      <td>M</td>\n",
       "      <td>16460.0</td>\n",
       "      <td>16416.0</td>\n",
       "      <td>21/07/2019 20:26</td>\n",
       "      <td>4.0</td>\n",
       "      <td>0.0</td>\n",
       "    </tr>\n",
       "    <tr>\n",
       "      <th>6</th>\n",
       "      <td>2019/20_P05</td>\n",
       "      <td>21-Jul-19</td>\n",
       "      <td>482P20MV21</td>\n",
       "      <td>48231.0</td>\n",
       "      <td>21/07/2019 17:36</td>\n",
       "      <td>21/07/2019 17:36</td>\n",
       "      <td>48053.0</td>\n",
       "      <td>21/07/2019 18:06</td>\n",
       "      <td>21/07/2019 18:07</td>\n",
       "      <td>21896002.0</td>\n",
       "      <td>...</td>\n",
       "      <td>NaN</td>\n",
       "      <td>NaN</td>\n",
       "      <td>NaN</td>\n",
       "      <td>NaN</td>\n",
       "      <td>M</td>\n",
       "      <td>48215.0</td>\n",
       "      <td>48056.0</td>\n",
       "      <td>21/07/2019 17:58</td>\n",
       "      <td>3.0</td>\n",
       "      <td>0.0</td>\n",
       "    </tr>\n",
       "    <tr>\n",
       "      <th>7</th>\n",
       "      <td>2019/20_P05</td>\n",
       "      <td>21-Jul-19</td>\n",
       "      <td>011M16MY21</td>\n",
       "      <td>1100.0</td>\n",
       "      <td>21/07/2019 20:26</td>\n",
       "      <td>21/07/2019 20:26</td>\n",
       "      <td>72410.0</td>\n",
       "      <td>22/07/2019 07:47</td>\n",
       "      <td>22/07/2019 07:49</td>\n",
       "      <td>23558003.0</td>\n",
       "      <td>...</td>\n",
       "      <td>NaN</td>\n",
       "      <td>NaN</td>\n",
       "      <td>NaN</td>\n",
       "      <td>NaN</td>\n",
       "      <td>M</td>\n",
       "      <td>7981.0</td>\n",
       "      <td>9095.0</td>\n",
       "      <td>22/07/2019 02:47</td>\n",
       "      <td>3.0</td>\n",
       "      <td>0.0</td>\n",
       "    </tr>\n",
       "    <tr>\n",
       "      <th>8</th>\n",
       "      <td>2019/20_P05</td>\n",
       "      <td>21-Jul-19</td>\n",
       "      <td>352U10MB21</td>\n",
       "      <td>35001.0</td>\n",
       "      <td>21/07/2019 07:58</td>\n",
       "      <td>21/07/2019 07:58</td>\n",
       "      <td>36080.0</td>\n",
       "      <td>21/07/2019 08:43</td>\n",
       "      <td>21/07/2019 08:43</td>\n",
       "      <td>12302012.0</td>\n",
       "      <td>...</td>\n",
       "      <td>NaN</td>\n",
       "      <td>NaN</td>\n",
       "      <td>NaN</td>\n",
       "      <td>NaN</td>\n",
       "      <td>M</td>\n",
       "      <td>35001.0</td>\n",
       "      <td>36066.0</td>\n",
       "      <td>21/07/2019 08:21</td>\n",
       "      <td>6.0</td>\n",
       "      <td>0.0</td>\n",
       "    </tr>\n",
       "  </tbody>\n",
       "</table>\n",
       "<p>5 rows × 40 columns</p>\n",
       "</div>"
      ],
      "text/plain": [
       "  financial_year_period origin_departure_date trust_train_id  \\\n",
       "4           2019/20_P05             21-Jul-19     252Y04MY21   \n",
       "5           2019/20_P05             21-Jul-19     252Y04MY21   \n",
       "6           2019/20_P05             21-Jul-19     482P20MV21   \n",
       "7           2019/20_P05             21-Jul-19     011M16MY21   \n",
       "8           2019/20_P05             21-Jul-19     352U10MB21   \n",
       "\n",
       "   planned_origin_location_code planned_origin_wtt_datetime  \\\n",
       "4                       25701.0            21/07/2019 19:00   \n",
       "5                       25701.0            21/07/2019 19:00   \n",
       "6                       48231.0            21/07/2019 17:36   \n",
       "7                        1100.0            21/07/2019 20:26   \n",
       "8                       35001.0            21/07/2019 07:58   \n",
       "\n",
       "  planned_origin_gbtt_datetime  planned_dest_location_code  \\\n",
       "4             21/07/2019 19:00                     16416.0   \n",
       "5             21/07/2019 19:00                     16416.0   \n",
       "6             21/07/2019 17:36                     48053.0   \n",
       "7             21/07/2019 20:26                     72410.0   \n",
       "8             21/07/2019 07:58                     36080.0   \n",
       "\n",
       "  planned_dest_wtt_datetime planned_dest_gbtt_datetime  train_service_code  \\\n",
       "4          21/07/2019 20:15           21/07/2019 20:16          21845000.0   \n",
       "5          21/07/2019 20:15           21/07/2019 20:16          21845000.0   \n",
       "6          21/07/2019 18:06           21/07/2019 18:07          21896002.0   \n",
       "7          22/07/2019 07:47           22/07/2019 07:49          23558003.0   \n",
       "8          21/07/2019 08:43           21/07/2019 08:43          12302012.0   \n",
       "\n",
       "   ... react_reason incident_resp_train resp_train react_train event_type  \\\n",
       "4  ...          NaN                 NaN        NaN         NaN          M   \n",
       "5  ...           YA                 NaN        NaN  121M76MY21          M   \n",
       "6  ...          NaN                 NaN        NaN         NaN          M   \n",
       "7  ...          NaN                 NaN        NaN         NaN          M   \n",
       "8  ...          NaN                 NaN        NaN         NaN          M   \n",
       "\n",
       "  start_stanox  end_stanox    event_datetime  pfpi_minutes  non_pfpi_minutes  \n",
       "4      16503.0     16495.0  21/07/2019 20:08          13.0               0.0  \n",
       "5      16460.0     16416.0  21/07/2019 20:26           4.0               0.0  \n",
       "6      48215.0     48056.0  21/07/2019 17:58           3.0               0.0  \n",
       "7       7981.0      9095.0  22/07/2019 02:47           3.0               0.0  \n",
       "8      35001.0     36066.0  21/07/2019 08:21           6.0               0.0  \n",
       "\n",
       "[5 rows x 40 columns]"
      ]
     },
     "execution_count": 32,
     "metadata": {},
     "output_type": "execute_result"
    }
   ],
   "source": [
    "P05_2019.dropna(inplace=True, subset=['incident_number'])\n",
    "P05_2019.head()\n"
   ]
  },
  {
   "cell_type": "code",
   "execution_count": 1,
   "metadata": {},
   "outputs": [],
   "source": [
    "import pandas as pd\n",
    "import numpy as np\n",
    "from data import clean_columns_2019"
   ]
  },
  {
   "cell_type": "code",
   "execution_count": 2,
   "metadata": {},
   "outputs": [],
   "source": [
    "p1 = pd.read_csv('data/2019 Train Delays/2019-20 P1.csv')\n",
    "p2 = pd.read_csv('data/2019 Train Delays/2019-20 P2.csv')"
   ]
  },
  {
   "cell_type": "code",
   "execution_count": 3,
   "metadata": {},
   "outputs": [],
   "source": [
    "p3 = pd.read_csv('data/2019 Train Delays/2019-20 P3.csv')\n",
    "p4 = pd.read_csv('data/2019 Train Delays/2019-20 P4.csv')"
   ]
  },
  {
   "cell_type": "code",
   "execution_count": null,
   "metadata": {},
   "outputs": [],
   "source": [
    "P12 = np.vstack((p1, p2))"
   ]
  },
  {
   "cell_type": "code",
   "execution_count": null,
   "metadata": {},
   "outputs": [],
   "source": [
    "P"
   ]
  },
  {
   "cell_type": "code",
   "execution_count": null,
   "metadata": {},
   "outputs": [],
   "source": []
  },
  {
   "cell_type": "code",
   "execution_count": null,
   "metadata": {},
   "outputs": [],
   "source": []
  },
  {
   "cell_type": "code",
   "execution_count": null,
   "metadata": {},
   "outputs": [],
   "source": [
    "p5 = pd.read_csv('data/2019 Train Delays/2019-20 P5.csv')\n",
    "p6 = pd.read_csv('data/2019 Train Delays/2019-20 P6.csv')"
   ]
  },
  {
   "cell_type": "code",
   "execution_count": null,
   "metadata": {},
   "outputs": [],
   "source": [
    "p7 = pd.read_csv('data/2019 Train Delays/2019-20 P7.csv')\n",
    "p8 = pd.read_csv('data/2019 Train Delays/2019-20 P8.csv')"
   ]
  },
  {
   "cell_type": "code",
   "execution_count": null,
   "metadata": {},
   "outputs": [],
   "source": [
    "p9 = pd.read_csv('data/2019 Train Delays/2019-20 P9.csv')\n",
    "p10 = pd.read_csv('data/2019 Train Delays/2019-20 P10.csv')"
   ]
  },
  {
   "cell_type": "code",
   "execution_count": null,
   "metadata": {},
   "outputs": [],
   "source": [
    "p11 = pd.read_csv('data/2019 Train Delays/2019-20 P11.csv')\n",
    "p12 = pd.read_csv('data/2019 Train Delays/2019-20 P12.csv')"
   ]
  },
  {
   "cell_type": "code",
   "execution_count": null,
   "metadata": {},
   "outputs": [],
   "source": [
    "p13 = pd.read_csv('data/2019 Train Delays/2019-20 P13.csv')"
   ]
  },
  {
   "cell_type": "code",
   "execution_count": null,
   "metadata": {},
   "outputs": [],
   "source": []
  }
 ],
 "metadata": {
  "kernelspec": {
   "display_name": "Python 3 (ipykernel)",
   "language": "python",
   "name": "python3"
  },
  "language_info": {
   "codemirror_mode": {
    "name": "ipython",
    "version": 3
   },
   "file_extension": ".py",
   "mimetype": "text/x-python",
   "name": "python",
   "nbconvert_exporter": "python",
   "pygments_lexer": "ipython3",
   "version": "3.10.6"
  },
  "toc": {
   "base_numbering": 1,
   "nav_menu": {},
   "number_sections": true,
   "sideBar": true,
   "skip_h1_title": false,
   "title_cell": "Table of Contents",
   "title_sidebar": "Contents",
   "toc_cell": false,
   "toc_position": {},
   "toc_section_display": true,
   "toc_window_display": false
  }
 },
 "nbformat": 4,
 "nbformat_minor": 2
}
