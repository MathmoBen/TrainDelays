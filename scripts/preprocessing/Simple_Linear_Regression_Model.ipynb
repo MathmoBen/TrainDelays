{
  "cells": [
    {
      "cell_type": "code",
      "execution_count": 1,
      "metadata": {
        "id": "exrcYwJLs8Nq"
      },
      "outputs": [],
      "source": [
        "import pandas as pd\n",
        "import numpy as np\n",
        "\n",
        "from sklearn.linear_model import LinearRegression\n",
        "from sklearn.model_selection import cross_validate, train_test_split\n",
        "\n",
        "from preprocess import *\n"
      ]
    },
    {
      "cell_type": "code",
      "execution_count": 3,
      "metadata": {
        "id": "5y6V4xVXu8g6"
      },
      "outputs": [],
      "source": [
        "df = pd.read_csv('/home/lewis/code/TrainDelays/TrainDelays/data/clean_data.csv')\n"
      ]
    },
    {
      "cell_type": "code",
      "execution_count": 4,
      "metadata": {
        "colab": {
          "base_uri": "https://localhost:8080/"
        },
        "id": "7Qfo4hBp2cuu",
        "outputId": "b965dad6-fc2d-4b7e-b3fa-8356304ae383"
      },
      "outputs": [
        {
          "data": {
            "text/plain": [
              "(493251, 28)"
            ]
          },
          "execution_count": 4,
          "metadata": {},
          "output_type": "execute_result"
        }
      ],
      "source": [
        "df.shape\n"
      ]
    },
    {
      "cell_type": "code",
      "execution_count": 5,
      "metadata": {
        "colab": {
          "base_uri": "https://localhost:8080/",
          "height": 255
        },
        "id": "DhDXpPlF1AMN",
        "outputId": "770d0b9c-c701-400c-979e-27d7480b6d13"
      },
      "outputs": [
        {
          "data": {
            "text/html": [
              "<div>\n",
              "<style scoped>\n",
              "    .dataframe tbody tr th:only-of-type {\n",
              "        vertical-align: middle;\n",
              "    }\n",
              "\n",
              "    .dataframe tbody tr th {\n",
              "        vertical-align: top;\n",
              "    }\n",
              "\n",
              "    .dataframe thead th {\n",
              "        text-align: right;\n",
              "    }\n",
              "</style>\n",
              "<table border=\"1\" class=\"dataframe\">\n",
              "  <thead>\n",
              "    <tr style=\"text-align: right;\">\n",
              "      <th></th>\n",
              "      <th>TRAIN_SERVICE_CODE_AFFECTED</th>\n",
              "      <th>SERVICE_GROUP_CODE_AFFECTED</th>\n",
              "      <th>ENGLISH_DAY_TYPE</th>\n",
              "      <th>APP_TIMETABLE_FLAG_AFF</th>\n",
              "      <th>UNIT_CLASS_AFFECTED</th>\n",
              "      <th>INCIDENT_REASON</th>\n",
              "      <th>PERFORMANCE_EVENT_CODE</th>\n",
              "      <th>PFPI_MINUTES</th>\n",
              "      <th>Lat_OR</th>\n",
              "      <th>Lon_OR</th>\n",
              "      <th>...</th>\n",
              "      <th>ORIG_MINUTE_SIN</th>\n",
              "      <th>ORIG_MINUTE_COS</th>\n",
              "      <th>DEST_MONTH_SIN</th>\n",
              "      <th>DEST_MONTH_COS</th>\n",
              "      <th>DEST_DAY_SIN</th>\n",
              "      <th>DEST_DAY_COS</th>\n",
              "      <th>DEST_HOUR_SIN</th>\n",
              "      <th>DEST_HOUR_COS</th>\n",
              "      <th>DEST_MINUTE_SIN</th>\n",
              "      <th>DEST_MINUTE_COS</th>\n",
              "    </tr>\n",
              "  </thead>\n",
              "  <tbody>\n",
              "    <tr>\n",
              "      <th>0</th>\n",
              "      <td>22214000</td>\n",
              "      <td>EK01</td>\n",
              "      <td>SA</td>\n",
              "      <td>Y</td>\n",
              "      <td>375.0</td>\n",
              "      <td>MD</td>\n",
              "      <td>M</td>\n",
              "      <td>9.0</td>\n",
              "      <td>51.54343</td>\n",
              "      <td>-0.02447</td>\n",
              "      <td>...</td>\n",
              "      <td>-1.000000</td>\n",
              "      <td>-1.836970e-16</td>\n",
              "      <td>0.951057</td>\n",
              "      <td>0.309017</td>\n",
              "      <td>7.431448e-01</td>\n",
              "      <td>0.669131</td>\n",
              "      <td>0.951057</td>\n",
              "      <td>0.309017</td>\n",
              "      <td>-0.978148</td>\n",
              "      <td>0.207912</td>\n",
              "    </tr>\n",
              "    <tr>\n",
              "      <th>1</th>\n",
              "      <td>22214000</td>\n",
              "      <td>EK01</td>\n",
              "      <td>WD</td>\n",
              "      <td>Y</td>\n",
              "      <td>378.0</td>\n",
              "      <td>MD</td>\n",
              "      <td>M</td>\n",
              "      <td>12.0</td>\n",
              "      <td>51.54343</td>\n",
              "      <td>-0.02447</td>\n",
              "      <td>...</td>\n",
              "      <td>-0.587785</td>\n",
              "      <td>-8.090170e-01</td>\n",
              "      <td>0.951057</td>\n",
              "      <td>0.309017</td>\n",
              "      <td>9.135455e-01</td>\n",
              "      <td>-0.406737</td>\n",
              "      <td>0.866025</td>\n",
              "      <td>0.500000</td>\n",
              "      <td>-0.809017</td>\n",
              "      <td>-0.587785</td>\n",
              "    </tr>\n",
              "    <tr>\n",
              "      <th>2</th>\n",
              "      <td>22214000</td>\n",
              "      <td>EK01</td>\n",
              "      <td>WD</td>\n",
              "      <td>Y</td>\n",
              "      <td>378.0</td>\n",
              "      <td>X8</td>\n",
              "      <td>M</td>\n",
              "      <td>8.0</td>\n",
              "      <td>51.54343</td>\n",
              "      <td>-0.02447</td>\n",
              "      <td>...</td>\n",
              "      <td>0.978148</td>\n",
              "      <td>-2.079117e-01</td>\n",
              "      <td>0.104528</td>\n",
              "      <td>0.994522</td>\n",
              "      <td>5.665539e-16</td>\n",
              "      <td>-1.000000</td>\n",
              "      <td>0.809017</td>\n",
              "      <td>-0.587785</td>\n",
              "      <td>0.913545</td>\n",
              "      <td>-0.406737</td>\n",
              "    </tr>\n",
              "    <tr>\n",
              "      <th>3</th>\n",
              "      <td>22214000</td>\n",
              "      <td>EK01</td>\n",
              "      <td>SA</td>\n",
              "      <td>Y</td>\n",
              "      <td>375.0</td>\n",
              "      <td>TG</td>\n",
              "      <td>M</td>\n",
              "      <td>10.0</td>\n",
              "      <td>51.54343</td>\n",
              "      <td>-0.02447</td>\n",
              "      <td>...</td>\n",
              "      <td>-0.309017</td>\n",
              "      <td>-9.510565e-01</td>\n",
              "      <td>0.913545</td>\n",
              "      <td>0.406737</td>\n",
              "      <td>5.877853e-01</td>\n",
              "      <td>-0.809017</td>\n",
              "      <td>0.913545</td>\n",
              "      <td>-0.406737</td>\n",
              "      <td>-0.207912</td>\n",
              "      <td>-0.978148</td>\n",
              "    </tr>\n",
              "    <tr>\n",
              "      <th>4</th>\n",
              "      <td>22214000</td>\n",
              "      <td>EK01</td>\n",
              "      <td>SA</td>\n",
              "      <td>Y</td>\n",
              "      <td>375.0</td>\n",
              "      <td>TG</td>\n",
              "      <td>M</td>\n",
              "      <td>11.0</td>\n",
              "      <td>51.54343</td>\n",
              "      <td>-0.02447</td>\n",
              "      <td>...</td>\n",
              "      <td>-0.669131</td>\n",
              "      <td>7.431448e-01</td>\n",
              "      <td>0.913545</td>\n",
              "      <td>0.406737</td>\n",
              "      <td>5.877853e-01</td>\n",
              "      <td>-0.809017</td>\n",
              "      <td>0.913545</td>\n",
              "      <td>-0.406737</td>\n",
              "      <td>-0.500000</td>\n",
              "      <td>0.866025</td>\n",
              "    </tr>\n",
              "  </tbody>\n",
              "</table>\n",
              "<p>5 rows × 28 columns</p>\n",
              "</div>"
            ],
            "text/plain": [
              "   TRAIN_SERVICE_CODE_AFFECTED SERVICE_GROUP_CODE_AFFECTED ENGLISH_DAY_TYPE  \\\n",
              "0                     22214000                        EK01               SA   \n",
              "1                     22214000                        EK01               WD   \n",
              "2                     22214000                        EK01               WD   \n",
              "3                     22214000                        EK01               SA   \n",
              "4                     22214000                        EK01               SA   \n",
              "\n",
              "  APP_TIMETABLE_FLAG_AFF  UNIT_CLASS_AFFECTED INCIDENT_REASON  \\\n",
              "0                      Y                375.0              MD   \n",
              "1                      Y                378.0              MD   \n",
              "2                      Y                378.0              X8   \n",
              "3                      Y                375.0              TG   \n",
              "4                      Y                375.0              TG   \n",
              "\n",
              "  PERFORMANCE_EVENT_CODE  PFPI_MINUTES    Lat_OR   Lon_OR  ...  \\\n",
              "0                      M           9.0  51.54343 -0.02447  ...   \n",
              "1                      M          12.0  51.54343 -0.02447  ...   \n",
              "2                      M           8.0  51.54343 -0.02447  ...   \n",
              "3                      M          10.0  51.54343 -0.02447  ...   \n",
              "4                      M          11.0  51.54343 -0.02447  ...   \n",
              "\n",
              "   ORIG_MINUTE_SIN  ORIG_MINUTE_COS  DEST_MONTH_SIN  DEST_MONTH_COS  \\\n",
              "0        -1.000000    -1.836970e-16        0.951057        0.309017   \n",
              "1        -0.587785    -8.090170e-01        0.951057        0.309017   \n",
              "2         0.978148    -2.079117e-01        0.104528        0.994522   \n",
              "3        -0.309017    -9.510565e-01        0.913545        0.406737   \n",
              "4        -0.669131     7.431448e-01        0.913545        0.406737   \n",
              "\n",
              "   DEST_DAY_SIN  DEST_DAY_COS  DEST_HOUR_SIN  DEST_HOUR_COS  DEST_MINUTE_SIN  \\\n",
              "0  7.431448e-01      0.669131       0.951057       0.309017        -0.978148   \n",
              "1  9.135455e-01     -0.406737       0.866025       0.500000        -0.809017   \n",
              "2  5.665539e-16     -1.000000       0.809017      -0.587785         0.913545   \n",
              "3  5.877853e-01     -0.809017       0.913545      -0.406737        -0.207912   \n",
              "4  5.877853e-01     -0.809017       0.913545      -0.406737        -0.500000   \n",
              "\n",
              "   DEST_MINUTE_COS  \n",
              "0         0.207912  \n",
              "1        -0.587785  \n",
              "2        -0.406737  \n",
              "3        -0.978148  \n",
              "4         0.866025  \n",
              "\n",
              "[5 rows x 28 columns]"
            ]
          },
          "execution_count": 5,
          "metadata": {},
          "output_type": "execute_result"
        }
      ],
      "source": [
        "df.head()\n"
      ]
    },
    {
      "cell_type": "code",
      "execution_count": 6,
      "metadata": {
        "id": "4GZFVU2O1BbM"
      },
      "outputs": [],
      "source": [
        "pipe = preprocessing_pipe()\n"
      ]
    },
    {
      "cell_type": "code",
      "execution_count": 7,
      "metadata": {
        "colab": {
          "base_uri": "https://localhost:8080/"
        },
        "id": "x88JC4No1VBf",
        "outputId": "5564cc40-a7f6-4aa7-ff9b-65f043b533e3"
      },
      "outputs": [
        {
          "data": {
            "text/plain": [
              "Index(['TRAIN_SERVICE_CODE_AFFECTED', 'SERVICE_GROUP_CODE_AFFECTED',\n",
              "       'ENGLISH_DAY_TYPE', 'APP_TIMETABLE_FLAG_AFF', 'UNIT_CLASS_AFFECTED',\n",
              "       'INCIDENT_REASON', 'PERFORMANCE_EVENT_CODE', 'PFPI_MINUTES', 'Lat_OR',\n",
              "       'Lon_OR', 'Lat_DES', 'Lon_DES', 'ORIG_MONTH_SIN', 'ORIG_MONTH_COS',\n",
              "       'ORIG_DAY_SIN', 'ORIG_DAY_COS', 'ORIG_HOUR_SIN', 'ORIG_HOUR_COS',\n",
              "       'ORIG_MINUTE_SIN', 'ORIG_MINUTE_COS', 'DEST_MONTH_SIN',\n",
              "       'DEST_MONTH_COS', 'DEST_DAY_SIN', 'DEST_DAY_COS', 'DEST_HOUR_SIN',\n",
              "       'DEST_HOUR_COS', 'DEST_MINUTE_SIN', 'DEST_MINUTE_COS'],\n",
              "      dtype='object')"
            ]
          },
          "execution_count": 7,
          "metadata": {},
          "output_type": "execute_result"
        }
      ],
      "source": [
        "df.columns\n"
      ]
    },
    {
      "cell_type": "code",
      "execution_count": 8,
      "metadata": {
        "id": "YfZsB7lO2LHV"
      },
      "outputs": [],
      "source": [
        "df.dropna(axis=0, subset=['DEST_MINUTE_SIN', 'DEST_MINUTE_COS'], inplace=True)\n"
      ]
    },
    {
      "cell_type": "code",
      "execution_count": 9,
      "metadata": {
        "colab": {
          "base_uri": "https://localhost:8080/"
        },
        "id": "lzHSD4SG2CYD",
        "outputId": "c68abde1-98bf-4cb0-e83b-ca5c04240fdc"
      },
      "outputs": [
        {
          "data": {
            "text/plain": [
              "TRAIN_SERVICE_CODE_AFFECTED    0\n",
              "SERVICE_GROUP_CODE_AFFECTED    0\n",
              "ENGLISH_DAY_TYPE               0\n",
              "APP_TIMETABLE_FLAG_AFF         0\n",
              "UNIT_CLASS_AFFECTED            0\n",
              "INCIDENT_REASON                0\n",
              "PERFORMANCE_EVENT_CODE         0\n",
              "PFPI_MINUTES                   0\n",
              "Lat_OR                         0\n",
              "Lon_OR                         0\n",
              "Lat_DES                        0\n",
              "Lon_DES                        0\n",
              "ORIG_MONTH_SIN                 0\n",
              "ORIG_MONTH_COS                 0\n",
              "ORIG_DAY_SIN                   0\n",
              "ORIG_DAY_COS                   0\n",
              "ORIG_HOUR_SIN                  0\n",
              "ORIG_HOUR_COS                  0\n",
              "ORIG_MINUTE_SIN                0\n",
              "ORIG_MINUTE_COS                0\n",
              "DEST_MONTH_SIN                 0\n",
              "DEST_MONTH_COS                 0\n",
              "DEST_DAY_SIN                   0\n",
              "DEST_DAY_COS                   0\n",
              "DEST_HOUR_SIN                  0\n",
              "DEST_HOUR_COS                  0\n",
              "DEST_MINUTE_SIN                0\n",
              "DEST_MINUTE_COS                0\n",
              "dtype: int64"
            ]
          },
          "execution_count": 9,
          "metadata": {},
          "output_type": "execute_result"
        }
      ],
      "source": [
        "df.isnull().sum()\n"
      ]
    },
    {
      "cell_type": "code",
      "execution_count": 10,
      "metadata": {
        "id": "Ei7cqUpp1E9T"
      },
      "outputs": [],
      "source": [
        "X = df.drop(columns=['PFPI_MINUTES'])\n",
        "y = df['PFPI_MINUTES']\n"
      ]
    },
    {
      "cell_type": "code",
      "execution_count": 11,
      "metadata": {
        "id": "HPhJRbzm1ZgT"
      },
      "outputs": [],
      "source": [
        "X_train, X_test, y_train, y_test = train_test_split(X, y, test_size=0.3)\n"
      ]
    },
    {
      "cell_type": "code",
      "execution_count": 12,
      "metadata": {
        "colab": {
          "base_uri": "https://localhost:8080/",
          "height": 156
        },
        "id": "D_yZfiSu1gx2",
        "outputId": "1dff46a3-29f7-47cf-a7bb-5f34813e50e9"
      },
      "outputs": [
        {
          "data": {
            "text/html": [
              "<style>#sk-container-id-1 {color: black;}#sk-container-id-1 pre{padding: 0;}#sk-container-id-1 div.sk-toggleable {background-color: white;}#sk-container-id-1 label.sk-toggleable__label {cursor: pointer;display: block;width: 100%;margin-bottom: 0;padding: 0.3em;box-sizing: border-box;text-align: center;}#sk-container-id-1 label.sk-toggleable__label-arrow:before {content: \"▸\";float: left;margin-right: 0.25em;color: #696969;}#sk-container-id-1 label.sk-toggleable__label-arrow:hover:before {color: black;}#sk-container-id-1 div.sk-estimator:hover label.sk-toggleable__label-arrow:before {color: black;}#sk-container-id-1 div.sk-toggleable__content {max-height: 0;max-width: 0;overflow: hidden;text-align: left;background-color: #f0f8ff;}#sk-container-id-1 div.sk-toggleable__content pre {margin: 0.2em;color: black;border-radius: 0.25em;background-color: #f0f8ff;}#sk-container-id-1 input.sk-toggleable__control:checked~div.sk-toggleable__content {max-height: 200px;max-width: 100%;overflow: auto;}#sk-container-id-1 input.sk-toggleable__control:checked~label.sk-toggleable__label-arrow:before {content: \"▾\";}#sk-container-id-1 div.sk-estimator input.sk-toggleable__control:checked~label.sk-toggleable__label {background-color: #d4ebff;}#sk-container-id-1 div.sk-label input.sk-toggleable__control:checked~label.sk-toggleable__label {background-color: #d4ebff;}#sk-container-id-1 input.sk-hidden--visually {border: 0;clip: rect(1px 1px 1px 1px);clip: rect(1px, 1px, 1px, 1px);height: 1px;margin: -1px;overflow: hidden;padding: 0;position: absolute;width: 1px;}#sk-container-id-1 div.sk-estimator {font-family: monospace;background-color: #f0f8ff;border: 1px dotted black;border-radius: 0.25em;box-sizing: border-box;margin-bottom: 0.5em;}#sk-container-id-1 div.sk-estimator:hover {background-color: #d4ebff;}#sk-container-id-1 div.sk-parallel-item::after {content: \"\";width: 100%;border-bottom: 1px solid gray;flex-grow: 1;}#sk-container-id-1 div.sk-label:hover label.sk-toggleable__label {background-color: #d4ebff;}#sk-container-id-1 div.sk-serial::before {content: \"\";position: absolute;border-left: 1px solid gray;box-sizing: border-box;top: 0;bottom: 0;left: 50%;z-index: 0;}#sk-container-id-1 div.sk-serial {display: flex;flex-direction: column;align-items: center;background-color: white;padding-right: 0.2em;padding-left: 0.2em;position: relative;}#sk-container-id-1 div.sk-item {position: relative;z-index: 1;}#sk-container-id-1 div.sk-parallel {display: flex;align-items: stretch;justify-content: center;background-color: white;position: relative;}#sk-container-id-1 div.sk-item::before, #sk-container-id-1 div.sk-parallel-item::before {content: \"\";position: absolute;border-left: 1px solid gray;box-sizing: border-box;top: 0;bottom: 0;left: 50%;z-index: -1;}#sk-container-id-1 div.sk-parallel-item {display: flex;flex-direction: column;z-index: 1;position: relative;background-color: white;}#sk-container-id-1 div.sk-parallel-item:first-child::after {align-self: flex-end;width: 50%;}#sk-container-id-1 div.sk-parallel-item:last-child::after {align-self: flex-start;width: 50%;}#sk-container-id-1 div.sk-parallel-item:only-child::after {width: 0;}#sk-container-id-1 div.sk-dashed-wrapped {border: 1px dashed gray;margin: 0 0.4em 0.5em 0.4em;box-sizing: border-box;padding-bottom: 0.4em;background-color: white;}#sk-container-id-1 div.sk-label label {font-family: monospace;font-weight: bold;display: inline-block;line-height: 1.2em;}#sk-container-id-1 div.sk-label-container {text-align: center;}#sk-container-id-1 div.sk-container {/* jupyter's `normalize.less` sets `[hidden] { display: none; }` but bootstrap.min.css set `[hidden] { display: none !important; }` so we also need the `!important` here to be able to override the default hidden behavior on the sphinx rendered scikit-learn.org. See: https://github.com/scikit-learn/scikit-learn/issues/21755 */display: inline-block !important;position: relative;}#sk-container-id-1 div.sk-text-repr-fallback {display: none;}</style><div id=\"sk-container-id-1\" class=\"sk-top-container\"><div class=\"sk-text-repr-fallback\"><pre>Pipeline(steps=[(&#x27;transformer&#x27;,\n",
              "                 ColumnTransformer(remainder=&#x27;passthrough&#x27;,\n",
              "                                   transformers=[(&#x27;minmaxscaler&#x27;,\n",
              "                                                  MinMaxScaler(),\n",
              "                                                  [&#x27;Lat_OR&#x27;, &#x27;Lon_OR&#x27;,\n",
              "                                                   &#x27;Lat_DES&#x27;, &#x27;Lon_DES&#x27;]),\n",
              "                                                 (&#x27;onehotencoder&#x27;,\n",
              "                                                  OneHotEncoder(handle_unknown=&#x27;ignore&#x27;,\n",
              "                                                                sparse_output=False),\n",
              "                                                  [&#x27;ENGLISH_DAY_TYPE&#x27;,\n",
              "                                                   &#x27;SERVICE_GROUP_CODE_AFFECTED&#x27;,\n",
              "                                                   &#x27;INCIDENT_REASON&#x27;,\n",
              "                                                   &#x27;UNIT_CLASS_AFFECTED&#x27;,\n",
              "                                                   &#x27;TRAIN_SERVICE_CODE_AFFECTED&#x27;,\n",
              "                                                   &#x27;PERFORMANCE_EVENT_CODE&#x27;,\n",
              "                                                   &#x27;APP_TIMETABLE_FLAG_AFF&#x27;])]))])</pre><b>In a Jupyter environment, please rerun this cell to show the HTML representation or trust the notebook. <br />On GitHub, the HTML representation is unable to render, please try loading this page with nbviewer.org.</b></div><div class=\"sk-container\" hidden><div class=\"sk-item sk-dashed-wrapped\"><div class=\"sk-label-container\"><div class=\"sk-label sk-toggleable\"><input class=\"sk-toggleable__control sk-hidden--visually\" id=\"sk-estimator-id-1\" type=\"checkbox\" ><label for=\"sk-estimator-id-1\" class=\"sk-toggleable__label sk-toggleable__label-arrow\">Pipeline</label><div class=\"sk-toggleable__content\"><pre>Pipeline(steps=[(&#x27;transformer&#x27;,\n",
              "                 ColumnTransformer(remainder=&#x27;passthrough&#x27;,\n",
              "                                   transformers=[(&#x27;minmaxscaler&#x27;,\n",
              "                                                  MinMaxScaler(),\n",
              "                                                  [&#x27;Lat_OR&#x27;, &#x27;Lon_OR&#x27;,\n",
              "                                                   &#x27;Lat_DES&#x27;, &#x27;Lon_DES&#x27;]),\n",
              "                                                 (&#x27;onehotencoder&#x27;,\n",
              "                                                  OneHotEncoder(handle_unknown=&#x27;ignore&#x27;,\n",
              "                                                                sparse_output=False),\n",
              "                                                  [&#x27;ENGLISH_DAY_TYPE&#x27;,\n",
              "                                                   &#x27;SERVICE_GROUP_CODE_AFFECTED&#x27;,\n",
              "                                                   &#x27;INCIDENT_REASON&#x27;,\n",
              "                                                   &#x27;UNIT_CLASS_AFFECTED&#x27;,\n",
              "                                                   &#x27;TRAIN_SERVICE_CODE_AFFECTED&#x27;,\n",
              "                                                   &#x27;PERFORMANCE_EVENT_CODE&#x27;,\n",
              "                                                   &#x27;APP_TIMETABLE_FLAG_AFF&#x27;])]))])</pre></div></div></div><div class=\"sk-serial\"><div class=\"sk-item sk-dashed-wrapped\"><div class=\"sk-label-container\"><div class=\"sk-label sk-toggleable\"><input class=\"sk-toggleable__control sk-hidden--visually\" id=\"sk-estimator-id-2\" type=\"checkbox\" ><label for=\"sk-estimator-id-2\" class=\"sk-toggleable__label sk-toggleable__label-arrow\">transformer: ColumnTransformer</label><div class=\"sk-toggleable__content\"><pre>ColumnTransformer(remainder=&#x27;passthrough&#x27;,\n",
              "                  transformers=[(&#x27;minmaxscaler&#x27;, MinMaxScaler(),\n",
              "                                 [&#x27;Lat_OR&#x27;, &#x27;Lon_OR&#x27;, &#x27;Lat_DES&#x27;, &#x27;Lon_DES&#x27;]),\n",
              "                                (&#x27;onehotencoder&#x27;,\n",
              "                                 OneHotEncoder(handle_unknown=&#x27;ignore&#x27;,\n",
              "                                               sparse_output=False),\n",
              "                                 [&#x27;ENGLISH_DAY_TYPE&#x27;,\n",
              "                                  &#x27;SERVICE_GROUP_CODE_AFFECTED&#x27;,\n",
              "                                  &#x27;INCIDENT_REASON&#x27;, &#x27;UNIT_CLASS_AFFECTED&#x27;,\n",
              "                                  &#x27;TRAIN_SERVICE_CODE_AFFECTED&#x27;,\n",
              "                                  &#x27;PERFORMANCE_EVENT_CODE&#x27;,\n",
              "                                  &#x27;APP_TIMETABLE_FLAG_AFF&#x27;])])</pre></div></div></div><div class=\"sk-parallel\"><div class=\"sk-parallel-item\"><div class=\"sk-item\"><div class=\"sk-label-container\"><div class=\"sk-label sk-toggleable\"><input class=\"sk-toggleable__control sk-hidden--visually\" id=\"sk-estimator-id-3\" type=\"checkbox\" ><label for=\"sk-estimator-id-3\" class=\"sk-toggleable__label sk-toggleable__label-arrow\">minmaxscaler</label><div class=\"sk-toggleable__content\"><pre>[&#x27;Lat_OR&#x27;, &#x27;Lon_OR&#x27;, &#x27;Lat_DES&#x27;, &#x27;Lon_DES&#x27;]</pre></div></div></div><div class=\"sk-serial\"><div class=\"sk-item\"><div class=\"sk-estimator sk-toggleable\"><input class=\"sk-toggleable__control sk-hidden--visually\" id=\"sk-estimator-id-4\" type=\"checkbox\" ><label for=\"sk-estimator-id-4\" class=\"sk-toggleable__label sk-toggleable__label-arrow\">MinMaxScaler</label><div class=\"sk-toggleable__content\"><pre>MinMaxScaler()</pre></div></div></div></div></div></div><div class=\"sk-parallel-item\"><div class=\"sk-item\"><div class=\"sk-label-container\"><div class=\"sk-label sk-toggleable\"><input class=\"sk-toggleable__control sk-hidden--visually\" id=\"sk-estimator-id-5\" type=\"checkbox\" ><label for=\"sk-estimator-id-5\" class=\"sk-toggleable__label sk-toggleable__label-arrow\">onehotencoder</label><div class=\"sk-toggleable__content\"><pre>[&#x27;ENGLISH_DAY_TYPE&#x27;, &#x27;SERVICE_GROUP_CODE_AFFECTED&#x27;, &#x27;INCIDENT_REASON&#x27;, &#x27;UNIT_CLASS_AFFECTED&#x27;, &#x27;TRAIN_SERVICE_CODE_AFFECTED&#x27;, &#x27;PERFORMANCE_EVENT_CODE&#x27;, &#x27;APP_TIMETABLE_FLAG_AFF&#x27;]</pre></div></div></div><div class=\"sk-serial\"><div class=\"sk-item\"><div class=\"sk-estimator sk-toggleable\"><input class=\"sk-toggleable__control sk-hidden--visually\" id=\"sk-estimator-id-6\" type=\"checkbox\" ><label for=\"sk-estimator-id-6\" class=\"sk-toggleable__label sk-toggleable__label-arrow\">OneHotEncoder</label><div class=\"sk-toggleable__content\"><pre>OneHotEncoder(handle_unknown=&#x27;ignore&#x27;, sparse_output=False)</pre></div></div></div></div></div></div><div class=\"sk-parallel-item\"><div class=\"sk-item\"><div class=\"sk-label-container\"><div class=\"sk-label sk-toggleable\"><input class=\"sk-toggleable__control sk-hidden--visually\" id=\"sk-estimator-id-7\" type=\"checkbox\" ><label for=\"sk-estimator-id-7\" class=\"sk-toggleable__label sk-toggleable__label-arrow\">remainder</label><div class=\"sk-toggleable__content\"><pre>[&#x27;ORIG_MONTH_SIN&#x27;, &#x27;ORIG_MONTH_COS&#x27;, &#x27;ORIG_DAY_SIN&#x27;, &#x27;ORIG_DAY_COS&#x27;, &#x27;ORIG_HOUR_SIN&#x27;, &#x27;ORIG_HOUR_COS&#x27;, &#x27;ORIG_MINUTE_SIN&#x27;, &#x27;ORIG_MINUTE_COS&#x27;, &#x27;DEST_MONTH_SIN&#x27;, &#x27;DEST_MONTH_COS&#x27;, &#x27;DEST_DAY_SIN&#x27;, &#x27;DEST_DAY_COS&#x27;, &#x27;DEST_HOUR_SIN&#x27;, &#x27;DEST_HOUR_COS&#x27;, &#x27;DEST_MINUTE_SIN&#x27;, &#x27;DEST_MINUTE_COS&#x27;]</pre></div></div></div><div class=\"sk-serial\"><div class=\"sk-item\"><div class=\"sk-estimator sk-toggleable\"><input class=\"sk-toggleable__control sk-hidden--visually\" id=\"sk-estimator-id-8\" type=\"checkbox\" ><label for=\"sk-estimator-id-8\" class=\"sk-toggleable__label sk-toggleable__label-arrow\">passthrough</label><div class=\"sk-toggleable__content\"><pre>passthrough</pre></div></div></div></div></div></div></div></div></div></div></div></div>"
            ],
            "text/plain": [
              "Pipeline(steps=[('transformer',\n",
              "                 ColumnTransformer(remainder='passthrough',\n",
              "                                   transformers=[('minmaxscaler',\n",
              "                                                  MinMaxScaler(),\n",
              "                                                  ['Lat_OR', 'Lon_OR',\n",
              "                                                   'Lat_DES', 'Lon_DES']),\n",
              "                                                 ('onehotencoder',\n",
              "                                                  OneHotEncoder(handle_unknown='ignore',\n",
              "                                                                sparse_output=False),\n",
              "                                                  ['ENGLISH_DAY_TYPE',\n",
              "                                                   'SERVICE_GROUP_CODE_AFFECTED',\n",
              "                                                   'INCIDENT_REASON',\n",
              "                                                   'UNIT_CLASS_AFFECTED',\n",
              "                                                   'TRAIN_SERVICE_CODE_AFFECTED',\n",
              "                                                   'PERFORMANCE_EVENT_CODE',\n",
              "                                                   'APP_TIMETABLE_FLAG_AFF'])]))])"
            ]
          },
          "execution_count": 12,
          "metadata": {},
          "output_type": "execute_result"
        }
      ],
      "source": [
        "pipe.fit(X_train)\n"
      ]
    },
    {
      "cell_type": "code",
      "execution_count": 13,
      "metadata": {
        "id": "Vb26Kqvw1iA5"
      },
      "outputs": [],
      "source": [
        "X_train_processed = pipe.transform(X_train)\n",
        "X_test_processed = pipe.transform(X_test)\n"
      ]
    },
    {
      "cell_type": "code",
      "execution_count": 14,
      "metadata": {
        "colab": {
          "base_uri": "https://localhost:8080/"
        },
        "id": "qZhPSYO414pS",
        "outputId": "c77af60f-c84d-46e1-d87e-f8df5f5c7d9f"
      },
      "outputs": [
        {
          "data": {
            "text/plain": [
              "array([[ 6.56315931e-01,  1.59186147e-01,  6.75035483e-01, ...,\n",
              "         2.83276945e-16,  8.66025404e-01, -5.00000000e-01],\n",
              "       [ 6.89688903e-01,  5.35189155e-01,  6.89688903e-01, ...,\n",
              "        -7.43144825e-01,  9.78147601e-01,  2.07911691e-01],\n",
              "       [ 7.19110821e-01,  2.75532169e-01,  6.75035483e-01, ...,\n",
              "        -5.00000000e-01,  3.09016994e-01,  9.51056516e-01],\n",
              "       ...,\n",
              "       [ 5.78311404e-01,  2.80882445e-01,  5.49906019e-01, ...,\n",
              "        -3.09016994e-01, -4.06736643e-01,  9.13545458e-01],\n",
              "       [ 6.74843684e-01,  1.70808385e-01,  7.89497276e-01, ...,\n",
              "        -2.07911691e-01,  9.94521895e-01, -1.04528463e-01],\n",
              "       [ 6.50044114e-01,  3.78502502e-01,  7.01158464e-01, ...,\n",
              "         3.09016994e-01,  8.09016994e-01, -5.87785252e-01]])"
            ]
          },
          "execution_count": 14,
          "metadata": {},
          "output_type": "execute_result"
        }
      ],
      "source": [
        "X_train_processed\n"
      ]
    },
    {
      "cell_type": "code",
      "execution_count": 15,
      "metadata": {
        "colab": {
          "base_uri": "https://localhost:8080/",
          "height": 74
        },
        "id": "QF4ChpUT1n6Z",
        "outputId": "f04dbd18-10c4-4f31-f2c2-826557c9e16c"
      },
      "outputs": [
        {
          "ename": "",
          "evalue": "",
          "output_type": "error",
          "traceback": [
            "\u001b[1;31mThe Kernel crashed while executing code in the the current cell or a previous cell. Please review the code in the cell(s) to identify a possible cause of the failure. Click <a href='https://aka.ms/vscodeJupyterKernelCrash'>here</a> for more info. View Jupyter <a href='command:jupyter.viewOutput'>log</a> for further details."
          ]
        }
      ],
      "source": [
        "model = LinearRegression()\n",
        "\n",
        "model.fit(X_train_processed, y_train)\n"
      ]
    },
    {
      "cell_type": "code",
      "execution_count": 61,
      "metadata": {
        "colab": {
          "base_uri": "https://localhost:8080/"
        },
        "id": "SN0PgHdu10D-",
        "outputId": "f0df590d-a86d-4be2-f46e-0d2922e6ac75"
      },
      "outputs": [
        {
          "data": {
            "text/plain": [
              "-1765353789758319.8"
            ]
          },
          "execution_count": 61,
          "metadata": {},
          "output_type": "execute_result"
        }
      ],
      "source": [
        "model.score(X_test_processed, y_test)\n"
      ]
    },
    {
      "cell_type": "code",
      "execution_count": 62,
      "metadata": {
        "id": "YBG5B-lQ4ZCb"
      },
      "outputs": [],
      "source": [
        "cv_results = cross_validate(model, X_train_processed, y_train, cv=5)\n"
      ]
    },
    {
      "cell_type": "code",
      "execution_count": 64,
      "metadata": {
        "colab": {
          "base_uri": "https://localhost:8080/"
        },
        "id": "qYCogXc45LZe",
        "outputId": "261ceddd-2197-4a2d-fea3-746f668bad2b"
      },
      "outputs": [
        {
          "data": {
            "text/plain": [
              "-1.16599938087125e+17"
            ]
          },
          "execution_count": 64,
          "metadata": {},
          "output_type": "execute_result"
        }
      ],
      "source": [
        "cv_results['test_score'].mean()\n"
      ]
    },
    {
      "cell_type": "code",
      "execution_count": 1,
      "metadata": {
        "id": "Wgq3uLaR6zD0"
      },
      "outputs": [
        {
          "ename": "NameError",
          "evalue": "name 'model' is not defined",
          "output_type": "error",
          "traceback": [
            "\u001b[0;31m---------------------------------------------------------------------------\u001b[0m",
            "\u001b[0;31mNameError\u001b[0m                                 Traceback (most recent call last)",
            "\u001b[1;32m/home/lewis/code/TrainDelays/TrainDelays/Notebooks/Lewis/Models/Simple_Linear_Regression_Model.ipynb Cell 18\u001b[0m line \u001b[0;36m1\n\u001b[0;32m----> <a href='vscode-notebook-cell://wsl%2Bubuntu/home/lewis/code/TrainDelays/TrainDelays/Notebooks/Lewis/Models/Simple_Linear_Regression_Model.ipynb#X23sdnNjb2RlLXJlbW90ZQ%3D%3D?line=0'>1</a>\u001b[0m model\u001b[39m.\u001b[39mscore(X_train_processed, y_train)\n",
            "\u001b[0;31mNameError\u001b[0m: name 'model' is not defined"
          ]
        }
      ],
      "source": [
        "model.score(X_train_processed, y_train)\n"
      ]
    },
    {
      "cell_type": "code",
      "execution_count": null,
      "metadata": {},
      "outputs": [],
      "source": []
    }
  ],
  "metadata": {
    "accelerator": "GPU",
    "colab": {
      "gpuType": "T4",
      "provenance": []
    },
    "kernelspec": {
      "display_name": "Python 3",
      "name": "python3"
    },
    "language_info": {
      "codemirror_mode": {
        "name": "ipython",
        "version": 3
      },
      "file_extension": ".py",
      "mimetype": "text/x-python",
      "name": "python",
      "nbconvert_exporter": "python",
      "pygments_lexer": "ipython3",
      "version": "3.10.6"
    }
  },
  "nbformat": 4,
  "nbformat_minor": 0
}
