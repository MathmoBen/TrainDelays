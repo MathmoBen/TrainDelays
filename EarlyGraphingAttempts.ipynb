{
 "cells": [
  {
   "cell_type": "code",
   "execution_count": 2,
   "id": "2f40330c",
   "metadata": {},
   "outputs": [],
   "source": [
    "import pandas as pd\n",
    "import numpy as np\n",
    "import os\n",
    "\n",
    "from sklearn.neighbors import KNeighborsRegressor\n",
    "from sklearn.model_selection import train_test_split\n",
    "from sklearn.model_selection import cross_validate"
   ]
  },
  {
   "cell_type": "code",
   "execution_count": 3,
   "id": "4d0fc7a4",
   "metadata": {},
   "outputs": [],
   "source": [
    "GCP_PROJECT = 'train-delays-406412'\n",
    "\n",
    "BQ_DATASET = 'train_delays'"
   ]
  },
  {
   "cell_type": "code",
   "execution_count": 4,
   "id": "3d3ba505",
   "metadata": {},
   "outputs": [],
   "source": [
    "query = '''\n",
    "SELECT * FROM `train-delays-406412.train_delays.train_delays_cleaned`\n",
    "'''"
   ]
  },
  {
   "cell_type": "code",
   "execution_count": 5,
   "id": "c8a6cfa3",
   "metadata": {},
   "outputs": [],
   "source": [
    "from google.cloud import bigquery\n",
    "from google.oauth2 import service_account\n",
    "from pathlib import Path\n",
    "#from params import *\n",
    "\n",
    "def get_data_from_bq(\n",
    "    gcp_project: 'train-delays-406412',\n",
    "    query: str):\n",
    "    client = bigquery.Client()\n",
    "    query_job = client.query(query)\n",
    "    result = query_job.result()\n",
    "    df = result.to_dataframe()\n",
    "    return df"
   ]
  },
  {
   "cell_type": "code",
   "execution_count": 25,
   "id": "3389bc35",
   "metadata": {},
   "outputs": [],
   "source": [
    "df = get_data_from_bq(gcp_project=GCP_PROJECT, query=query)"
   ]
  },
  {
   "cell_type": "code",
   "execution_count": 26,
   "id": "158f6483",
   "metadata": {},
   "outputs": [
    {
     "name": "stdout",
     "output_type": "stream",
     "text": [
      "/home/ben/code/MathmoBen/TrainDelays\r\n"
     ]
    }
   ],
   "source": [
    "!pwd"
   ]
  },
  {
   "cell_type": "code",
   "execution_count": 29,
   "id": "ca685c40",
   "metadata": {},
   "outputs": [],
   "source": [
    "df_clean = pd.read_csv('/home/ben/code/MathmoBen/TrainDelays/clean_data.csv')"
   ]
  },
  {
   "cell_type": "code",
   "execution_count": 30,
   "id": "587cef97",
   "metadata": {},
   "outputs": [
    {
     "data": {
      "text/html": [
       "<div>\n",
       "<style scoped>\n",
       "    .dataframe tbody tr th:only-of-type {\n",
       "        vertical-align: middle;\n",
       "    }\n",
       "\n",
       "    .dataframe tbody tr th {\n",
       "        vertical-align: top;\n",
       "    }\n",
       "\n",
       "    .dataframe thead th {\n",
       "        text-align: right;\n",
       "    }\n",
       "</style>\n",
       "<table border=\"1\" class=\"dataframe\">\n",
       "  <thead>\n",
       "    <tr style=\"text-align: right;\">\n",
       "      <th></th>\n",
       "      <th>TRAIN_SERVICE_CODE_AFFECTED</th>\n",
       "      <th>SERVICE_GROUP_CODE_AFFECTED</th>\n",
       "      <th>ENGLISH_DAY_TYPE</th>\n",
       "      <th>APP_TIMETABLE_FLAG_AFF</th>\n",
       "      <th>UNIT_CLASS_AFFECTED</th>\n",
       "      <th>INCIDENT_REASON</th>\n",
       "      <th>PERFORMANCE_EVENT_CODE</th>\n",
       "      <th>PFPI_MINUTES</th>\n",
       "      <th>Lat_OR</th>\n",
       "      <th>Lon_OR</th>\n",
       "      <th>...</th>\n",
       "      <th>ORIG_MINUTE_SIN</th>\n",
       "      <th>ORIG_MINUTE_COS</th>\n",
       "      <th>DEST_MONTH_SIN</th>\n",
       "      <th>DEST_MONTH_COS</th>\n",
       "      <th>DEST_DAY_SIN</th>\n",
       "      <th>DEST_DAY_COS</th>\n",
       "      <th>DEST_HOUR_SIN</th>\n",
       "      <th>DEST_HOUR_COS</th>\n",
       "      <th>DEST_MINUTE_SIN</th>\n",
       "      <th>DEST_MINUTE_COS</th>\n",
       "    </tr>\n",
       "  </thead>\n",
       "  <tbody>\n",
       "    <tr>\n",
       "      <th>0</th>\n",
       "      <td>22214000</td>\n",
       "      <td>EK01</td>\n",
       "      <td>SA</td>\n",
       "      <td>Y</td>\n",
       "      <td>375.0</td>\n",
       "      <td>MD</td>\n",
       "      <td>M</td>\n",
       "      <td>9.0</td>\n",
       "      <td>51.54343</td>\n",
       "      <td>-0.02447</td>\n",
       "      <td>...</td>\n",
       "      <td>-1.000000</td>\n",
       "      <td>-1.836970e-16</td>\n",
       "      <td>0.951057</td>\n",
       "      <td>0.309017</td>\n",
       "      <td>7.431448e-01</td>\n",
       "      <td>0.669131</td>\n",
       "      <td>0.951057</td>\n",
       "      <td>0.309017</td>\n",
       "      <td>-0.978148</td>\n",
       "      <td>0.207912</td>\n",
       "    </tr>\n",
       "    <tr>\n",
       "      <th>1</th>\n",
       "      <td>22214000</td>\n",
       "      <td>EK01</td>\n",
       "      <td>WD</td>\n",
       "      <td>Y</td>\n",
       "      <td>378.0</td>\n",
       "      <td>MD</td>\n",
       "      <td>M</td>\n",
       "      <td>12.0</td>\n",
       "      <td>51.54343</td>\n",
       "      <td>-0.02447</td>\n",
       "      <td>...</td>\n",
       "      <td>-0.587785</td>\n",
       "      <td>-8.090170e-01</td>\n",
       "      <td>0.951057</td>\n",
       "      <td>0.309017</td>\n",
       "      <td>9.135455e-01</td>\n",
       "      <td>-0.406737</td>\n",
       "      <td>0.866025</td>\n",
       "      <td>0.500000</td>\n",
       "      <td>-0.809017</td>\n",
       "      <td>-0.587785</td>\n",
       "    </tr>\n",
       "    <tr>\n",
       "      <th>2</th>\n",
       "      <td>22214000</td>\n",
       "      <td>EK01</td>\n",
       "      <td>WD</td>\n",
       "      <td>Y</td>\n",
       "      <td>378.0</td>\n",
       "      <td>X8</td>\n",
       "      <td>M</td>\n",
       "      <td>8.0</td>\n",
       "      <td>51.54343</td>\n",
       "      <td>-0.02447</td>\n",
       "      <td>...</td>\n",
       "      <td>0.978148</td>\n",
       "      <td>-2.079117e-01</td>\n",
       "      <td>0.104528</td>\n",
       "      <td>0.994522</td>\n",
       "      <td>5.665539e-16</td>\n",
       "      <td>-1.000000</td>\n",
       "      <td>0.809017</td>\n",
       "      <td>-0.587785</td>\n",
       "      <td>0.913545</td>\n",
       "      <td>-0.406737</td>\n",
       "    </tr>\n",
       "    <tr>\n",
       "      <th>3</th>\n",
       "      <td>22214000</td>\n",
       "      <td>EK01</td>\n",
       "      <td>SA</td>\n",
       "      <td>Y</td>\n",
       "      <td>375.0</td>\n",
       "      <td>TG</td>\n",
       "      <td>M</td>\n",
       "      <td>10.0</td>\n",
       "      <td>51.54343</td>\n",
       "      <td>-0.02447</td>\n",
       "      <td>...</td>\n",
       "      <td>-0.309017</td>\n",
       "      <td>-9.510565e-01</td>\n",
       "      <td>0.913545</td>\n",
       "      <td>0.406737</td>\n",
       "      <td>5.877853e-01</td>\n",
       "      <td>-0.809017</td>\n",
       "      <td>0.913545</td>\n",
       "      <td>-0.406737</td>\n",
       "      <td>-0.207912</td>\n",
       "      <td>-0.978148</td>\n",
       "    </tr>\n",
       "    <tr>\n",
       "      <th>4</th>\n",
       "      <td>22214000</td>\n",
       "      <td>EK01</td>\n",
       "      <td>SA</td>\n",
       "      <td>Y</td>\n",
       "      <td>375.0</td>\n",
       "      <td>TG</td>\n",
       "      <td>M</td>\n",
       "      <td>11.0</td>\n",
       "      <td>51.54343</td>\n",
       "      <td>-0.02447</td>\n",
       "      <td>...</td>\n",
       "      <td>-0.669131</td>\n",
       "      <td>7.431448e-01</td>\n",
       "      <td>0.913545</td>\n",
       "      <td>0.406737</td>\n",
       "      <td>5.877853e-01</td>\n",
       "      <td>-0.809017</td>\n",
       "      <td>0.913545</td>\n",
       "      <td>-0.406737</td>\n",
       "      <td>-0.500000</td>\n",
       "      <td>0.866025</td>\n",
       "    </tr>\n",
       "  </tbody>\n",
       "</table>\n",
       "<p>5 rows × 28 columns</p>\n",
       "</div>"
      ],
      "text/plain": [
       "   TRAIN_SERVICE_CODE_AFFECTED SERVICE_GROUP_CODE_AFFECTED ENGLISH_DAY_TYPE  \\\n",
       "0                     22214000                        EK01               SA   \n",
       "1                     22214000                        EK01               WD   \n",
       "2                     22214000                        EK01               WD   \n",
       "3                     22214000                        EK01               SA   \n",
       "4                     22214000                        EK01               SA   \n",
       "\n",
       "  APP_TIMETABLE_FLAG_AFF  UNIT_CLASS_AFFECTED INCIDENT_REASON  \\\n",
       "0                      Y                375.0              MD   \n",
       "1                      Y                378.0              MD   \n",
       "2                      Y                378.0              X8   \n",
       "3                      Y                375.0              TG   \n",
       "4                      Y                375.0              TG   \n",
       "\n",
       "  PERFORMANCE_EVENT_CODE  PFPI_MINUTES    Lat_OR   Lon_OR  ...  \\\n",
       "0                      M           9.0  51.54343 -0.02447  ...   \n",
       "1                      M          12.0  51.54343 -0.02447  ...   \n",
       "2                      M           8.0  51.54343 -0.02447  ...   \n",
       "3                      M          10.0  51.54343 -0.02447  ...   \n",
       "4                      M          11.0  51.54343 -0.02447  ...   \n",
       "\n",
       "   ORIG_MINUTE_SIN  ORIG_MINUTE_COS  DEST_MONTH_SIN  DEST_MONTH_COS  \\\n",
       "0        -1.000000    -1.836970e-16        0.951057        0.309017   \n",
       "1        -0.587785    -8.090170e-01        0.951057        0.309017   \n",
       "2         0.978148    -2.079117e-01        0.104528        0.994522   \n",
       "3        -0.309017    -9.510565e-01        0.913545        0.406737   \n",
       "4        -0.669131     7.431448e-01        0.913545        0.406737   \n",
       "\n",
       "   DEST_DAY_SIN  DEST_DAY_COS  DEST_HOUR_SIN  DEST_HOUR_COS  DEST_MINUTE_SIN  \\\n",
       "0  7.431448e-01      0.669131       0.951057       0.309017        -0.978148   \n",
       "1  9.135455e-01     -0.406737       0.866025       0.500000        -0.809017   \n",
       "2  5.665539e-16     -1.000000       0.809017      -0.587785         0.913545   \n",
       "3  5.877853e-01     -0.809017       0.913545      -0.406737        -0.207912   \n",
       "4  5.877853e-01     -0.809017       0.913545      -0.406737        -0.500000   \n",
       "\n",
       "   DEST_MINUTE_COS  \n",
       "0         0.207912  \n",
       "1        -0.587785  \n",
       "2        -0.406737  \n",
       "3        -0.978148  \n",
       "4         0.866025  \n",
       "\n",
       "[5 rows x 28 columns]"
      ]
     },
     "execution_count": 30,
     "metadata": {},
     "output_type": "execute_result"
    }
   ],
   "source": [
    "df_clean.head()"
   ]
  },
  {
   "cell_type": "code",
   "execution_count": 31,
   "id": "f1fca183",
   "metadata": {},
   "outputs": [
    {
     "data": {
      "text/plain": [
       "Index(['TRAIN_SERVICE_CODE_AFFECTED', 'SERVICE_GROUP_CODE_AFFECTED',\n",
       "       'ENGLISH_DAY_TYPE', 'APP_TIMETABLE_FLAG_AFF', 'UNIT_CLASS_AFFECTED',\n",
       "       'INCIDENT_REASON', 'PERFORMANCE_EVENT_CODE', 'PFPI_MINUTES', 'Lat_OR',\n",
       "       'Lon_OR', 'Lat_DES', 'Lon_DES', 'ORIG_MONTH_SIN', 'ORIG_MONTH_COS',\n",
       "       'ORIG_DAY_SIN', 'ORIG_DAY_COS', 'ORIG_HOUR_SIN', 'ORIG_HOUR_COS',\n",
       "       'ORIG_MINUTE_SIN', 'ORIG_MINUTE_COS', 'DEST_MONTH_SIN',\n",
       "       'DEST_MONTH_COS', 'DEST_DAY_SIN', 'DEST_DAY_COS', 'DEST_HOUR_SIN',\n",
       "       'DEST_HOUR_COS', 'DEST_MINUTE_SIN', 'DEST_MINUTE_COS'],\n",
       "      dtype='object')"
      ]
     },
     "execution_count": 31,
     "metadata": {},
     "output_type": "execute_result"
    }
   ],
   "source": [
    "df_clean.columns"
   ]
  },
  {
   "cell_type": "code",
   "execution_count": 32,
   "id": "933be67c",
   "metadata": {},
   "outputs": [],
   "source": [
    "import seaborn as sns"
   ]
  },
  {
   "cell_type": "code",
   "execution_count": 33,
   "id": "c7152c78",
   "metadata": {},
   "outputs": [
    {
     "data": {
      "text/plain": [
       "275.0"
      ]
     },
     "execution_count": 33,
     "metadata": {},
     "output_type": "execute_result"
    }
   ],
   "source": [
    "df_clean['PFPI_MINUTES'].max()"
   ]
  },
  {
   "cell_type": "code",
   "execution_count": 34,
   "id": "b7445f99",
   "metadata": {},
   "outputs": [
    {
     "data": {
      "text/plain": [
       "4.583333333333333"
      ]
     },
     "execution_count": 34,
     "metadata": {},
     "output_type": "execute_result"
    }
   ],
   "source": [
    "275 / 60.0"
   ]
  },
  {
   "cell_type": "code",
   "execution_count": 46,
   "id": "a7bb5c2e",
   "metadata": {},
   "outputs": [],
   "source": [
    "delay_lengths = pd.DataFrame(df_clean['PFPI_MINUTES'].value_counts())"
   ]
  },
  {
   "cell_type": "code",
   "execution_count": 52,
   "id": "f96dc3f7",
   "metadata": {},
   "outputs": [
    {
     "ename": "KeyError",
     "evalue": "'1'",
     "output_type": "error",
     "traceback": [
      "\u001b[0;31m---------------------------------------------------------------------------\u001b[0m",
      "\u001b[0;31mKeyError\u001b[0m                                  Traceback (most recent call last)",
      "Cell \u001b[0;32mIn [52], line 1\u001b[0m\n\u001b[0;32m----> 1\u001b[0m \u001b[43mdelay_lengths\u001b[49m\u001b[38;5;241;43m.\u001b[39;49m\u001b[43msort_values\u001b[49m\u001b[43m(\u001b[49m\u001b[38;5;124;43m'\u001b[39;49m\u001b[38;5;124;43m1\u001b[39;49m\u001b[38;5;124;43m'\u001b[39;49m\u001b[43m)\u001b[49m\n",
      "File \u001b[0;32m~/.pyenv/versions/3.10.6/envs/lewagon/lib/python3.10/site-packages/pandas/util/_decorators.py:311\u001b[0m, in \u001b[0;36mdeprecate_nonkeyword_arguments.<locals>.decorate.<locals>.wrapper\u001b[0;34m(*args, **kwargs)\u001b[0m\n\u001b[1;32m    305\u001b[0m \u001b[38;5;28;01mif\u001b[39;00m \u001b[38;5;28mlen\u001b[39m(args) \u001b[38;5;241m>\u001b[39m num_allow_args:\n\u001b[1;32m    306\u001b[0m     warnings\u001b[38;5;241m.\u001b[39mwarn(\n\u001b[1;32m    307\u001b[0m         msg\u001b[38;5;241m.\u001b[39mformat(arguments\u001b[38;5;241m=\u001b[39marguments),\n\u001b[1;32m    308\u001b[0m         \u001b[38;5;167;01mFutureWarning\u001b[39;00m,\n\u001b[1;32m    309\u001b[0m         stacklevel\u001b[38;5;241m=\u001b[39mstacklevel,\n\u001b[1;32m    310\u001b[0m     )\n\u001b[0;32m--> 311\u001b[0m \u001b[38;5;28;01mreturn\u001b[39;00m \u001b[43mfunc\u001b[49m\u001b[43m(\u001b[49m\u001b[38;5;241;43m*\u001b[39;49m\u001b[43margs\u001b[49m\u001b[43m,\u001b[49m\u001b[43m \u001b[49m\u001b[38;5;241;43m*\u001b[39;49m\u001b[38;5;241;43m*\u001b[39;49m\u001b[43mkwargs\u001b[49m\u001b[43m)\u001b[49m\n",
      "File \u001b[0;32m~/.pyenv/versions/3.10.6/envs/lewagon/lib/python3.10/site-packages/pandas/core/frame.py:6322\u001b[0m, in \u001b[0;36mDataFrame.sort_values\u001b[0;34m(self, by, axis, ascending, inplace, kind, na_position, ignore_index, key)\u001b[0m\n\u001b[1;32m   6318\u001b[0m \u001b[38;5;28;01melif\u001b[39;00m \u001b[38;5;28mlen\u001b[39m(by):\n\u001b[1;32m   6319\u001b[0m     \u001b[38;5;66;03m# len(by) == 1\u001b[39;00m\n\u001b[1;32m   6321\u001b[0m     by \u001b[38;5;241m=\u001b[39m by[\u001b[38;5;241m0\u001b[39m]\n\u001b[0;32m-> 6322\u001b[0m     k \u001b[38;5;241m=\u001b[39m \u001b[38;5;28;43mself\u001b[39;49m\u001b[38;5;241;43m.\u001b[39;49m\u001b[43m_get_label_or_level_values\u001b[49m\u001b[43m(\u001b[49m\u001b[43mby\u001b[49m\u001b[43m,\u001b[49m\u001b[43m \u001b[49m\u001b[43maxis\u001b[49m\u001b[38;5;241;43m=\u001b[39;49m\u001b[43maxis\u001b[49m\u001b[43m)\u001b[49m\n\u001b[1;32m   6324\u001b[0m     \u001b[38;5;66;03m# need to rewrap column in Series to apply key function\u001b[39;00m\n\u001b[1;32m   6325\u001b[0m     \u001b[38;5;28;01mif\u001b[39;00m key \u001b[38;5;129;01mis\u001b[39;00m \u001b[38;5;129;01mnot\u001b[39;00m \u001b[38;5;28;01mNone\u001b[39;00m:\n\u001b[1;32m   6326\u001b[0m         \u001b[38;5;66;03m# error: Incompatible types in assignment (expression has type\u001b[39;00m\n\u001b[1;32m   6327\u001b[0m         \u001b[38;5;66;03m# \"Series\", variable has type \"ndarray\")\u001b[39;00m\n",
      "File \u001b[0;32m~/.pyenv/versions/3.10.6/envs/lewagon/lib/python3.10/site-packages/pandas/core/generic.py:1840\u001b[0m, in \u001b[0;36mNDFrame._get_label_or_level_values\u001b[0;34m(self, key, axis)\u001b[0m\n\u001b[1;32m   1838\u001b[0m     values \u001b[38;5;241m=\u001b[39m \u001b[38;5;28mself\u001b[39m\u001b[38;5;241m.\u001b[39maxes[axis]\u001b[38;5;241m.\u001b[39mget_level_values(key)\u001b[38;5;241m.\u001b[39m_values\n\u001b[1;32m   1839\u001b[0m \u001b[38;5;28;01melse\u001b[39;00m:\n\u001b[0;32m-> 1840\u001b[0m     \u001b[38;5;28;01mraise\u001b[39;00m \u001b[38;5;167;01mKeyError\u001b[39;00m(key)\n\u001b[1;32m   1842\u001b[0m \u001b[38;5;66;03m# Check for duplicates\u001b[39;00m\n\u001b[1;32m   1843\u001b[0m \u001b[38;5;28;01mif\u001b[39;00m values\u001b[38;5;241m.\u001b[39mndim \u001b[38;5;241m>\u001b[39m \u001b[38;5;241m1\u001b[39m:\n",
      "\u001b[0;31mKeyError\u001b[0m: '1'"
     ]
    }
   ],
   "source": [
    "delay_lengths.sort_values('1')"
   ]
  },
  {
   "cell_type": "code",
   "execution_count": 54,
   "id": "4dffa180",
   "metadata": {},
   "outputs": [
    {
     "data": {
      "text/html": [
       "<div>\n",
       "<style scoped>\n",
       "    .dataframe tbody tr th:only-of-type {\n",
       "        vertical-align: middle;\n",
       "    }\n",
       "\n",
       "    .dataframe tbody tr th {\n",
       "        vertical-align: top;\n",
       "    }\n",
       "\n",
       "    .dataframe thead th {\n",
       "        text-align: right;\n",
       "    }\n",
       "</style>\n",
       "<table border=\"1\" class=\"dataframe\">\n",
       "  <thead>\n",
       "    <tr style=\"text-align: right;\">\n",
       "      <th></th>\n",
       "      <th>PFPI_MINUTES</th>\n",
       "    </tr>\n",
       "  </thead>\n",
       "  <tbody>\n",
       "    <tr>\n",
       "      <th>3.0</th>\n",
       "      <td>124762</td>\n",
       "    </tr>\n",
       "    <tr>\n",
       "      <th>1.0</th>\n",
       "      <td>116431</td>\n",
       "    </tr>\n",
       "    <tr>\n",
       "      <th>4.0</th>\n",
       "      <td>57166</td>\n",
       "    </tr>\n",
       "    <tr>\n",
       "      <th>0.0</th>\n",
       "      <td>44965</td>\n",
       "    </tr>\n",
       "    <tr>\n",
       "      <th>2.0</th>\n",
       "      <td>44565</td>\n",
       "    </tr>\n",
       "  </tbody>\n",
       "</table>\n",
       "</div>"
      ],
      "text/plain": [
       "     PFPI_MINUTES\n",
       "3.0        124762\n",
       "1.0        116431\n",
       "4.0         57166\n",
       "0.0         44965\n",
       "2.0         44565"
      ]
     },
     "execution_count": 54,
     "metadata": {},
     "output_type": "execute_result"
    }
   ],
   "source": [
    "delay_lengths.head()"
   ]
  },
  {
   "cell_type": "code",
   "execution_count": 55,
   "id": "6d7a18b2",
   "metadata": {},
   "outputs": [
    {
     "data": {
      "text/plain": [
       "<AxesSubplot:ylabel='Frequency'>"
      ]
     },
     "execution_count": 55,
     "metadata": {},
     "output_type": "execute_result"
    },
    {
     "data": {
      "image/png": "[encoded data removed]",
      "text/plain": [
       "<Figure size 640x480 with 1 Axes>"
      ]
     },
     "metadata": {},
     "output_type": "display_data"
    }
   ],
   "source": [
    "delay_lengths.plot.hist()"
   ]
  },
  {
   "cell_type": "code",
   "execution_count": 56,
   "id": "4970d916",
   "metadata": {},
   "outputs": [],
   "source": [
    "short_delays = delay_lengths.head()"
   ]
  },
  {
   "cell_type": "code",
   "execution_count": 57,
   "id": "2e8c974f",
   "metadata": {},
   "outputs": [
    {
     "data": {
      "text/plain": [
       "pandas.core.frame.DataFrame"
      ]
     },
     "execution_count": 57,
     "metadata": {},
     "output_type": "execute_result"
    }
   ],
   "source": [
    "type(short_delays)"
   ]
  },
  {
   "cell_type": "code",
   "execution_count": 58,
   "id": "3868260b",
   "metadata": {},
   "outputs": [
    {
     "data": {
      "text/plain": [
       "<AxesSubplot:ylabel='Frequency'>"
      ]
     },
     "execution_count": 58,
     "metadata": {},
     "output_type": "execute_result"
    },
    {
     "data": {
      "image/png": "[encoded data removed]",
      "text/plain": [
       "<Figure size 640x480 with 1 Axes>"
      ]
     },
     "metadata": {},
     "output_type": "display_data"
    }
   ],
   "source": [
    "short_delays.plot.hist()"
   ]
  },
  {
   "cell_type": "code",
   "execution_count": null,
   "id": "05119e92",
   "metadata": {},
   "outputs": [],
   "source": []
  }
 ],
 "metadata": {
  "kernelspec": {
   "display_name": "Python 3 (ipykernel)",
   "language": "python",
   "name": "python3"
  },
  "language_info": {
   "codemirror_mode": {
    "name": "ipython",
    "version": 3
   },
   "file_extension": ".py",
   "mimetype": "text/x-python",
   "name": "python",
   "nbconvert_exporter": "python",
   "pygments_lexer": "ipython3",
   "version": "3.10.6"
  },
  "toc": {
   "base_numbering": 1,
   "nav_menu": {},
   "number_sections": true,
   "sideBar": true,
   "skip_h1_title": false,
   "title_cell": "Table of Contents",
   "title_sidebar": "Contents",
   "toc_cell": false,
   "toc_position": {},
   "toc_section_display": true,
   "toc_window_display": false
  }
 },
 "nbformat": 4,
 "nbformat_minor": 5
}
